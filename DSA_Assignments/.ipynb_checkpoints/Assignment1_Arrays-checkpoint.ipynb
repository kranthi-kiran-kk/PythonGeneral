{
 "cells": [
  {
   "cell_type": "markdown",
   "id": "d67c0a40",
   "metadata": {},
   "source": [
    "<aside>\n",
    "💡 **Q1.** Given an array of integers nums and an integer target, return indices of the two numbers such that they add up to target.\n",
    "\n",
    "You may assume that each input would have exactly one solution, and you may not use the same element twice.\n",
    "\n",
    "You can return the answer in any order.\n",
    "\n",
    "**Example:**\n",
    "Input: nums = [2,7,11,15], target = 9\n",
    "Output0 [0,1]\n",
    "\n",
    "**Explanation:** Because nums[0] + nums[1] == 9, we return [0, 1][\n",
    "\n",
    "</aside>"
   ]
  },
  {
   "cell_type": "code",
   "execution_count": null,
   "id": "9ce30844",
   "metadata": {},
   "outputs": [],
   "source": [
    "def return_indices(nums: list, target: int):\n",
    "    nums_sorted = sorted(nums)\n",
    "    lp = 0\n",
    "    rp = len(nums)-1\n",
    "    while lp < rp:\n",
    "        temp = nums_sorted[lp] + nums_sorted[rp]\n",
    "        if temp > target:\n",
    "            rp -= 1\n",
    "        elif temp < target:\n",
    "            lp += 1\n",
    "        else:\n",
    "            i, j = nums_sorted[lp], nums_sorted[rp]\n",
    "            break\n",
    "    indices = []\n",
    "    for n in range(len(nums)):\n",
    "        if nums[n] in [i, j]:\n",
    "            indices.append(n)\n",
    "    return indices\n",
    "nums = [2,7,11,15]; target = 9\n",
    "print(return_indices(nums, target))"
   ]
  },
  {
   "cell_type": "markdown",
   "id": "b67fdceb",
   "metadata": {},
   "source": [
    "**Q2.** Given an integer array nums and an integer val, remove all occurrences of val in nums in-place. The order of the elements may be changed. Then return the number of elements in nums which are not equal to val.\n",
    "\n",
    "Consider the number of elements in nums which are not equal to val be k, to get accepted, you need to do the following things:\n",
    "\n",
    "- Change the array nums such that the first k elements of nums contain the elements which are not equal to val. The remaining elements of nums are not important as well as the size of nums.\n",
    "- Return k.\n",
    "\n",
    "**Example :**\n",
    "Input: nums = [3,2,2,3], val = 3\n",
    "Output: 2, nums = [2,2,_*,_*]\n",
    "\n",
    "**Explanation:** Your function should return k = 2, with the first two elements of nums being 2. It does not matter what you leave beyond the returned k (hence they are underscores)[\n",
    "\n"
   ]
  },
  {
   "cell_type": "code",
   "execution_count": null,
   "id": "0a8a5055",
   "metadata": {},
   "outputs": [],
   "source": [
    "def remove_val(nums: list, val: int):\n",
    "    count = 0\n",
    "    for i in range(len(nums)):\n",
    "        if nums[i] == val:\n",
    "            count += 1\n",
    "            nums[i] = '_*'\n",
    "    return count, nums\n",
    "nums = [3,2,2,3]; val = 3\n",
    "print(remove_val(nums, val))"
   ]
  },
  {
   "cell_type": "markdown",
   "id": "dba06600",
   "metadata": {},
   "source": [
    "<aside>\n",
    "💡 **Q3.** Given a sorted array of distinct integers and a target value, return the index if the target is found. If not, return the index where it would be if it were inserted in order.\n",
    "\n",
    "You must write an algorithm with O(log n) runtime complexity.\n",
    "\n",
    "**Example 1:**\n",
    "Input: nums = [1,3,5,6], target = 5\n",
    "\n",
    "Output: 2\n",
    "\n",
    "</aside>"
   ]
  },
  {
   "cell_type": "code",
   "execution_count": null,
   "id": "430297a7",
   "metadata": {},
   "outputs": [],
   "source": [
    "# Considering multiple elments in the list which are equal to target value\n",
    "def insert_sorted(nums: list, target: int):\n",
    "    k = []\n",
    "    for i in range(len(nums)):\n",
    "        if nums[i] == target:\n",
    "            k.append(i)\n",
    "        elif len(k) == 0 and nums[i] > target:\n",
    "            return(i)\n",
    "            break\n",
    "    return k\n",
    "\n",
    "nums = [1,3,5,5, 6]\n",
    "target = 5\n",
    "print(insert_sorted(nums, target))\n",
    "            "
   ]
  },
  {
   "cell_type": "markdown",
   "id": "58a5668a",
   "metadata": {},
   "source": [
    "<aside>\n",
    "💡 **Q4.** You are given a large integer represented as an integer array digits, where each digits[i] is the ith digit of the integer. The digits are ordered from most significant to least significant in left-to-right order. The large integer does not contain any leading 0's.\n",
    "\n",
    "Increment the large integer by one and return the resulting array of digits.\n",
    "\n",
    "**Example 1:**\n",
    "Input: digits = [1,2,3]\n",
    "Output: [1,2,4]\n",
    "\n",
    "**Explanation:** The array represents the integer 123.\n",
    "\n",
    "Incrementing by one gives 123 + 1 = 124.\n",
    "Thus, the result should be [1,2,4].\n",
    "\n",
    "</aside>"
   ]
  },
  {
   "cell_type": "code",
   "execution_count": null,
   "id": "767f78e2",
   "metadata": {},
   "outputs": [],
   "source": [
    "def incrementing(digits: list):\n",
    "    integer = int(\"\".join(map(str,digits)))\n",
    "    integer = integer+1\n",
    "    k = []\n",
    "    while integer>0:\n",
    "        k.append(integer%10)\n",
    "        integer = integer // 10\n",
    "    k.reverse()\n",
    "    return k\n",
    "   \n",
    "digits = [0,1,2,3,9]\n",
    "print(incrementing(digits))"
   ]
  },
  {
   "cell_type": "markdown",
   "id": "90342f44",
   "metadata": {},
   "source": [
    "<aside>\n",
    "💡 **Q5.** You are given two integer arrays nums1 and nums2, sorted in non-decreasing order, and two integers m and n, representing the number of elements in nums1 and nums2 respectively.\n",
    "\n",
    "Merge nums1 and nums2 into a single array sorted in non-decreasing order.\n",
    "\n",
    "The final sorted array should not be returned by the function, but instead be stored inside the array nums1. To accommodate this, nums1 has a length of m + n, where the first m elements denote the elements that should be merged, and the last n elements are set to 0 and should be ignored. nums2 has a length of n.\n",
    "\n",
    "**Example 1:**\n",
    "Input: nums1 = [1,2,3,0,0,0], m = 3, nums2 = [2,5,6], n = 3\n",
    "Output: [1,2,2,3,5,6]\n",
    "\n",
    "**Explanation:** The arrays we are merging are [1,2,3] and [2,5,6].\n",
    "The result of the merge is [1,2,2,3,5,6] with the underlined elements coming from nums1\n",
    "\n",
    "</aside>"
   ]
  },
  {
   "cell_type": "code",
   "execution_count": null,
   "id": "5630fe1b",
   "metadata": {},
   "outputs": [],
   "source": [
    "def merge(nums1: list, nums2: list, m: int, n: int):\n",
    "    i= m-1\n",
    "    j= n-1\n",
    "    k= m+n-1\n",
    "    while i>=0 and j>=0:\n",
    "        if nums1[i]>=nums2[j]:\n",
    "            nums1[k] = nums1[i]\n",
    "            i -= 1\n",
    "        else:\n",
    "            nums1[k] = nums2[j]\n",
    "            j -= 1\n",
    "        k -=1\n",
    "    while j>=0:\n",
    "        nums1[k] = nums2[j]\n",
    "        j -=1\n",
    "        k -=1\n",
    "    return nums1\n",
    "        \n",
    "nums1 = [1,2,3,0,0,0]; m = 3; nums2 = [2,5,6]; n = 3;\n",
    "print(merge(nums1,nums2,m,n))"
   ]
  },
  {
   "cell_type": "markdown",
   "id": "440d387a",
   "metadata": {},
   "source": [
    "<aside>\n",
    "💡 **Q6.** Given an integer array nums, return true if any value appears at least twice in the array, and return false if every element is distinct.\n",
    "\n",
    "**Example 1:**\n",
    "Input: nums = [1,2,3,1]\n",
    "\n",
    "Output: true\n",
    "\n",
    "</aside>"
   ]
  },
  {
   "cell_type": "code",
   "execution_count": null,
   "id": "1a07332b",
   "metadata": {},
   "outputs": [],
   "source": [
    "def duplicate_check(nums: list):\n",
    "    if len(nums) != len(set(nums)):\n",
    "        return True\n",
    "    else:\n",
    "        return False\n",
    "\n",
    "\n",
    "# def duplicate_check(nums: list):\n",
    "#     hash_counter= {}\n",
    "#     for num in nums:\n",
    "#         if num in hash_counter:\n",
    "#             hash_counter[num] += 1\n",
    "#             return True\n",
    "#             break\n",
    "#         else:\n",
    "#             hash_counter[num] = 1\n",
    "#     return False\n",
    "\n",
    "nums = [1,2,3,1]\n",
    "print(duplicate_check(nums))"
   ]
  },
  {
   "cell_type": "markdown",
   "id": "ce621958",
   "metadata": {},
   "source": [
    "<aside>\n",
    "💡 **Q7.** Given an integer array nums, move all 0's to the end of it while maintaining the relative order of the nonzero elements.\n",
    "\n",
    "Note that you must do this in-place without making a copy of the array.\n",
    "\n",
    "**Example 1:**\n",
    "Input: nums = [0,1,0,3,12]\n",
    "Output: [1,3,12,0,0]\n",
    "\n",
    "</aside>"
   ]
  },
  {
   "cell_type": "code",
   "execution_count": null,
   "id": "c5b60894",
   "metadata": {},
   "outputs": [],
   "source": [
    "def move_zeros(nums: list):\n",
    "    i=0\n",
    "    j=0\n",
    "    while j<len(nums):\n",
    "        if nums[j] != 0:\n",
    "            nums[i],nums[j] = nums[j],nums[i]\n",
    "            i += 1\n",
    "        j+=1\n",
    "    return nums\n",
    "nums = [0,1,0,3,12]\n",
    "print(move_zeros(nums))"
   ]
  },
  {
   "cell_type": "markdown",
   "id": "41ecb48e",
   "metadata": {},
   "source": [
    "<aside>\n",
    "💡 **Q8.** You have a set of integers s, which originally contains all the numbers from 1 to n. Unfortunately, due to some error, one of the numbers in s got duplicated to another number in the set, which results in repetition of one number and loss of another number.\n",
    "\n",
    "You are given an integer array nums representing the data status of this set after the error.\n",
    "\n",
    "Find the number that occurs twice and the number that is missing and return them in the form of an array.\n",
    "\n",
    "**Example 1:**\n",
    "Input: nums = [1,2,2,4]\n",
    "Output: [2,3]\n",
    "\n",
    "</aside>"
   ]
  },
  {
   "cell_type": "code",
   "execution_count": null,
   "id": "9e868950",
   "metadata": {},
   "outputs": [],
   "source": [
    "def find_dupicate(nums: list):\n",
    "    i=0\n",
    "    while i<len(nums):\n",
    "        if nums[i+1]==nums[i]:\n",
    "            return [nums[i],nums[i]+1]\n",
    "            break\n",
    "        else:\n",
    "            i+= 1\n",
    "nums = [1,2,2,4]\n",
    "find_dupicate(nums)"
   ]
  },
  {
   "cell_type": "code",
   "execution_count": null,
   "id": "70068f06",
   "metadata": {},
   "outputs": [],
   "source": []
  }
 ],
 "metadata": {
  "kernelspec": {
   "display_name": "Python 3 (ipykernel)",
   "language": "python",
   "name": "python3"
  },
  "language_info": {
   "codemirror_mode": {
    "name": "ipython",
    "version": 3
   },
   "file_extension": ".py",
   "mimetype": "text/x-python",
   "name": "python",
   "nbconvert_exporter": "python",
   "pygments_lexer": "ipython3",
   "version": "3.9.13"
  }
 },
 "nbformat": 4,
 "nbformat_minor": 5
}
