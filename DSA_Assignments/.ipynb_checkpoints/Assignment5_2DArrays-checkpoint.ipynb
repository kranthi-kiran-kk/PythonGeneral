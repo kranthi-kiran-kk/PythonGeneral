{
 "cells": [
  {
   "cell_type": "markdown",
   "id": "4e8d9313",
   "metadata": {},
   "source": [
    "**Question 1**\n",
    "\n",
    "Convert 1D Array Into 2D Array\n",
    "\n",
    "You are given a **0-indexed** 1-dimensional (1D) integer array original, and two integers, m and n. You are tasked with creating a 2-dimensional (2D) array with  m rows and n columns using **all** the elements from original.\n",
    "\n",
    "The elements from indices 0 to n - 1 (**inclusive**) of original should form the first row of the constructed 2D array, the elements from indices n to 2 * n - 1 (**inclusive**) should form the second row of the constructed 2D array, and so on.\n",
    "\n",
    "Return *an* m x n *2D array constructed according to the above procedure, or an empty 2D array if it is impossible*.\n",
    "\n",
    "**Example 1:**\n",
    "\n",
    "**Input:** original = [1,2,3,4], m = 2, n = 2\n",
    "\n",
    "**Output:** [[1,2],[3,4]]\n",
    "\n",
    "**Explanation:** The constructed 2D array should contain 2 rows and 2 columns.\n",
    "\n",
    "The first group of n=2 elements in original, [1,2], becomes the first row in the constructed 2D array.\n",
    "\n",
    "The second group of n=2 elements in original, [3,4], becomes the second row in the constructed 2D array.\n",
    "\n"
   ]
  },
  {
   "cell_type": "code",
   "execution_count": 6,
   "id": "76e56ad0",
   "metadata": {},
   "outputs": [
    {
     "name": "stdout",
     "output_type": "stream",
     "text": [
      "[[1, 2], [3, 4]]\n"
     ]
    }
   ],
   "source": [
    "def convert_array(original: list, m: int, n: int):\n",
    "    result = []\n",
    "    k = 0\n",
    "    for i in range(m):\n",
    "        result.append([])\n",
    "        for j in range(n):\n",
    "            result[i].append(original[k])\n",
    "            k+= 1\n",
    "    return result\n",
    "\n",
    "original = [1,2,3,4]; m = 2; n = 2\n",
    "print(convert_array(original, m, n))"
   ]
  },
  {
   "cell_type": "markdown",
   "id": "4551cb64",
   "metadata": {},
   "source": [
    "Question2\n",
    "You have n coins and you want to build a staircase with these coins. The staircase consists of k rows where the ith row has exactly i coins. The last row of the staircase **may be** incomplete.\n",
    "\n",
    "Given the integer n, return *the number of **complete rows** of the staircase you will build*."
   ]
  },
  {
   "cell_type": "code",
   "execution_count": 8,
   "id": "7a9ec7c7",
   "metadata": {},
   "outputs": [
    {
     "name": "stdout",
     "output_type": "stream",
     "text": [
      "2\n"
     ]
    }
   ],
   "source": [
    "def incomplete_row(n: int)-> int:\n",
    "    sum = 0\n",
    "    i = 1\n",
    "    count = 0\n",
    "    while sum <= n:\n",
    "        sum += i\n",
    "        i+= 1\n",
    "        count+=1\n",
    "    return count-1\n",
    "n = 5\n",
    "print(incomplete_row(n))"
   ]
  },
  {
   "cell_type": "markdown",
   "id": "0bd03d24",
   "metadata": {},
   "source": [
    "**Question 3**\n",
    "\n",
    "Given an integer array nums sorted in **non-decreasing** order, return *an array of **the squares of each number** sorted in non-decreasing order*.\n",
    "\n",
    "**Example 1:**\n",
    "\n",
    "**Input:** nums = [-4,-1,0,3,10]\n",
    "\n",
    "**Output:** [0,1,9,16,100]\n",
    "\n",
    "**Explanation:** After squaring, the array becomes [16,1,0,9,100].\n",
    "\n",
    "After sorting, it becomes [0,1,9,16,100].\n",
    "\n"
   ]
  },
  {
   "cell_type": "code",
   "execution_count": 7,
   "id": "f3a3fe1c",
   "metadata": {},
   "outputs": [
    {
     "name": "stdout",
     "output_type": "stream",
     "text": [
      "[0, 1, 9, 16, 100]\n"
     ]
    }
   ],
   "source": [
    "def square_sorted(nums: list)-> list:\n",
    "    squared_nums = [num*num for num in nums]\n",
    "    squared_nums.sort()\n",
    "    return squared_nums\n",
    "\n",
    "nums = [-4,-1,0,3,10]\n",
    "print(square_sorted(nums))"
   ]
  },
  {
   "cell_type": "code",
   "execution_count": null,
   "id": "234bdab3",
   "metadata": {},
   "outputs": [],
   "source": [
    "**Question 4**\n",
    "\n",
    "Given two **0-indexed** integer arrays nums1 and nums2, return *a list* answer *of size* 2 *where:*\n",
    "\n",
    "- answer[0] *is a list of all **distinct** integers in* nums1 *which are **not** present in* nums2*.*\n",
    "- answer[1] *is a list of all **distinct** integers in* nums2 *which are **not** present in* nums1.\n",
    "\n",
    "**Note** that the integers in the lists may be returned in **any** order.\n",
    "\n",
    "**Example 1:**\n",
    "\n",
    "**Input:** nums1 = [1,2,3], nums2 = [2,4,6]\n",
    "\n",
    "**Output:** [[1,3],[4,6]]\n",
    "\n",
    "**Explanation:**\n",
    "\n",
    "For nums1, nums1[1] = 2 is present at index 0 of nums2, whereas nums1[0] = 1 and nums1[2] = 3 are not present in nums2. Therefore, answer[0] = [1,3].\n",
    "\n",
    "For nums2, nums2[0] = 2 is present at index 1 of nums1, whereas nums2[1] = 4 and nums2[2] = 6 are not present in nums2. Therefore, answer[1] = [4,6].\n"
   ]
  },
  {
   "cell_type": "code",
   "execution_count": 10,
   "id": "60716abf",
   "metadata": {},
   "outputs": [
    {
     "name": "stdout",
     "output_type": "stream",
     "text": [
      "[[1, 3], [4, 6]]\n"
     ]
    }
   ],
   "source": [
    "def check_loop(nums1: list, nums2: list)-> list:\n",
    "    pointer = []\n",
    "    result= []\n",
    "    for i in range(len(nums1)):\n",
    "        if nums1[i] in pointer:\n",
    "            break\n",
    "        else:\n",
    "            pointer.append(nums1[i])\n",
    "            for j in range(len(nums2)):\n",
    "                if nums1[i] == nums2[j]:\n",
    "                    if nums1[i] in result:\n",
    "                        result.remove(nums1[i])\n",
    "                    break\n",
    "                else:\n",
    "                    if nums1[i] not in result:\n",
    "                        result.append(nums1[i])\n",
    "    return result\n",
    "def execute_check_loop(arr1: list, arr2: list)-> list:\n",
    "    result = [check_loop(arr1, arr2),check_loop(arr2, arr1)]\n",
    "    return result\n",
    "arr1 = [1,2,3]; arr2 = [2,4,6]\n",
    "print(execute_check_loop(arr1, arr2))"
   ]
  },
  {
   "cell_type": "code",
   "execution_count": null,
   "id": "09aeeba0",
   "metadata": {},
   "outputs": [],
   "source": [
    "<aside>\n",
    "💡 **Question 5**\n",
    "\n",
    "Given two integer arrays arr1 and arr2, and the integer d, *return the distance value between the two arrays*.\n",
    "\n",
    "The distance value is defined as the number of elements arr1[i] such that \n",
    "there is not any element arr2[j] where |arr1[i]-arr2[j]| <= d.\n",
    "\n",
    "**Example 1:**\n",
    "\n",
    "**Input:** arr1 = [4,5,8], arr2 = [10,9,1,8], d = 2\n",
    "\n",
    "**Output:** 2\n",
    "\n",
    "**Explanation:**\n",
    "\n",
    "For arr1[0]=4 we have:\n",
    "\n",
    "|4-10|=6 > d=2\n",
    "\n",
    "|4-9|=5 > d=2\n",
    "\n",
    "|4-1|=3 > d=2\n",
    "\n",
    "|4-8|=4 > d=2\n",
    "\n",
    "For arr1[1]=5 we have:\n",
    "\n",
    "|5-10|=5 > d=2\n",
    "\n",
    "|5-9|=4 > d=2\n",
    "\n",
    "|5-1|=4 > d=2\n",
    "\n",
    "|5-8|=3 > d=2\n",
    "\n",
    "For arr1[2]=8 we have:\n",
    "\n",
    "**|8-10|=2 <= d=2**\n",
    "\n",
    "**|8-9|=1 <= d=2**\n",
    "\n",
    "|8-1|=7 > d=2\n",
    "\n",
    "**|8-8|=0 <= d=2**\n",
    "\n",
    "</aside>"
   ]
  },
  {
   "cell_type": "code",
   "execution_count": 6,
   "id": "93c51afa",
   "metadata": {},
   "outputs": [
    {
     "name": "stdout",
     "output_type": "stream",
     "text": [
      "2\n"
     ]
    }
   ],
   "source": [
    "def num_dist(arr1: list, arr2: list, d: int)-> int:\n",
    "    count = []\n",
    "    for i in range(len(arr1)):\n",
    "        for j in range(len(arr2)):\n",
    "            if abs(arr1[i]-arr2[j]) <= d:\n",
    "                break\n",
    "            else:\n",
    "                if not arr1[i] in count: count.append(arr1[i])\n",
    "                continue\n",
    "    return len(count)\n",
    "\n",
    "arr1 = [4,5,8]; arr2 = [10,9,1,8]; d = 2\n",
    "print(num_dist(arr1, arr2, d))"
   ]
  },
  {
   "cell_type": "markdown",
   "id": "ed88a8f2",
   "metadata": {},
   "source": [
    "**Question 6**\n",
    "\n",
    "Given an integer array nums of length n where all the integers of nums are in the range [1, n] and each integer appears **once** or **twice**, return *an array of all the integers that appears **twice***.\n",
    "\n",
    "You must write an algorithm that runs in O(n) time and uses only constant extra space.\n",
    "\n",
    "**Example 1:**\n",
    "\n",
    "**Input:** nums = [4,3,2,7,8,2,3,1]\n",
    "\n",
    "**Output:**\n",
    "\n",
    "[2,3]\n",
    "\n"
   ]
  },
  {
   "cell_type": "code",
   "execution_count": 11,
   "id": "2b2b55e7",
   "metadata": {},
   "outputs": [
    {
     "name": "stdout",
     "output_type": "stream",
     "text": [
      "[3, 2]\n"
     ]
    }
   ],
   "source": [
    "def duplicate(nums: list)-> list:\n",
    "    counter_map = {}\n",
    "    result = []\n",
    "    for num in nums:\n",
    "        if num in counter_map:\n",
    "            counter_map[num] +=1\n",
    "        else:\n",
    "            counter_map[num] = 1\n",
    "    for key in counter_map.keys():\n",
    "        if counter_map[key] >1:\n",
    "            result.append(key)\n",
    "    return result\n",
    "nums = [4,3,2,7,8,2,3,1]\n",
    "print(duplicate(nums))"
   ]
  },
  {
   "cell_type": "code",
   "execution_count": null,
   "id": "8b18f5c0",
   "metadata": {},
   "outputs": [],
   "source": [
    "💡 **Question 7**\n",
    "\n",
    "Suppose an array of length n sorted in ascending order is **rotated** between 1 and n times. \n",
    "For example, the array nums = [0,1,2,4,5,6,7] might become:\n",
    "\n",
    "- [4,5,6,7,0,1,2] if it was rotated 4 times.\n",
    "- [0,1,2,4,5,6,7] if it was rotated 7 times.\n",
    "\n",
    "Notice that **rotating** an array [a[0], a[1], a[2], ..., a[n-1]] 1 time results in the array [a[n-1], a[0], a[1], a[2], ..., a[n-2]].\n",
    "\n",
    "Given the sorted rotated array nums of **unique** elements, return *the minimum element of this array*.\n",
    "\n",
    "You must write an algorithm that runs in O(log n) time.\n",
    "\n",
    "**Example 1:**\n",
    "\n",
    "**Input:** nums = [3,4,5,1,2]\n",
    "\n",
    "**Output:** 1\n",
    "\n",
    "**Explanation:**\n",
    "\n",
    "The original array was [1,2,3,4,5] rotated 3 times.\n",
    "\n"
   ]
  },
  {
   "cell_type": "code",
   "execution_count": 10,
   "id": "9471e7a0",
   "metadata": {},
   "outputs": [
    {
     "name": "stdout",
     "output_type": "stream",
     "text": [
      "1\n"
     ]
    }
   ],
   "source": [
    "def rotated_min(nums: list)-> int:\n",
    "    lp = 0\n",
    "    rp = len(nums)-1\n",
    "    while lp<rp:\n",
    "        if nums[lp]<nums[rp]:\n",
    "            return nums[lp]\n",
    "        else:\n",
    "            if nums[rp]>nums[rp-1]:\n",
    "                rp -=1\n",
    "            else:\n",
    "                return nums[rp]\n",
    "nums = [3,4,5,1,2]\n",
    "print(rotated_min(nums))"
   ]
  },
  {
   "cell_type": "code",
   "execution_count": null,
   "id": "db891c86",
   "metadata": {},
   "outputs": [],
   "source": [
    "💡 **Question 8**\n",
    "\n",
    "An integer array original is transformed into a **doubled** array changed by appending **twice the value** of \n",
    "every element in original, and then randomly **shuffling** the resulting array.\n",
    "\n",
    "Given an array changed, return original *if* changed *is a **doubled** array. If* changed *is not a **doubled** array,\n",
    "return an empty array. The elements in* original *may be returned in **any** order*.\n",
    "\n",
    "**Example 1:**\n",
    "\n",
    "**Input:** changed = [1,3,4,2,6,8]\n",
    "\n",
    "**Output:** [1,3,4]\n",
    "\n",
    "**Explanation:** One possible original array could be [1,3,4]:\n",
    "\n",
    "- Twice the value of 1 is 1 * 2 = 2.\n",
    "- Twice the value of 3 is 3 * 2 = 6.\n",
    "- Twice the value of 4 is 4 * 2 = 8.\n",
    "\n",
    "Other original arrays could be [4,3,1] or [3,1,4].\n"
   ]
  },
  {
   "cell_type": "code",
   "execution_count": 13,
   "id": "58407272",
   "metadata": {},
   "outputs": [
    {
     "name": "stdout",
     "output_type": "stream",
     "text": [
      "[1, 2, 3, 4, 6, 8]\n",
      "[]\n"
     ]
    }
   ],
   "source": [
    "def return_original(arr: list)-> list:\n",
    "    output = []\n",
    "    arr.sort()\n",
    "    print(arr)\n",
    "    p1 = 0\n",
    "    p2 = 1\n",
    "    while p2<=len(arr)-1:\n",
    "        if arr[p1]*2 == arr[p2]:\n",
    "            output.append(arr[p1])\n",
    "            p1 +=2\n",
    "            p2 +=2\n",
    "        else:\n",
    "            return []\n",
    "    return output\n",
    "        \n",
    "changed = [1,3,4,2,6,8]\n",
    "print(return_original(changed))"
   ]
  },
  {
   "cell_type": "code",
   "execution_count": null,
   "id": "0fd02bb3",
   "metadata": {},
   "outputs": [],
   "source": []
  }
 ],
 "metadata": {
  "kernelspec": {
   "display_name": "Python 3 (ipykernel)",
   "language": "python",
   "name": "python3"
  },
  "language_info": {
   "codemirror_mode": {
    "name": "ipython",
    "version": 3
   },
   "file_extension": ".py",
   "mimetype": "text/x-python",
   "name": "python",
   "nbconvert_exporter": "python",
   "pygments_lexer": "ipython3",
   "version": "3.9.13"
  }
 },
 "nbformat": 4,
 "nbformat_minor": 5
}
