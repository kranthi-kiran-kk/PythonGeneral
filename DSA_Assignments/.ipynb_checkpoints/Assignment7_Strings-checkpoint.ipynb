{
 "cells": [
  {
   "cell_type": "markdown",
   "id": "4e8d9313",
   "metadata": {},
   "source": [
    "**Question 1**\n",
    "\n",
    "\n",
    "Given two strings s and t, *determine if they are isomorphic*.\n",
    "\n",
    "Two strings s and t are isomorphic if the characters in s can be replaced to get t.\n",
    "\n",
    "All occurrences of a character must be replaced with another character while preserving the order of characters. No two characters may map to the same character, but a character may map to itself.\n",
    "\n",
    "**Example 1:**\n",
    "\n",
    "**Input:** s = \"egg\", t = \"add\"\n",
    "\n",
    "**Output:** true\n",
    "\n"
   ]
  },
  {
   "cell_type": "code",
   "execution_count": null,
   "id": "76e56ad0",
   "metadata": {},
   "outputs": [],
   "source": []
  },
  {
   "cell_type": "markdown",
   "id": "4551cb64",
   "metadata": {},
   "source": [
    "**Question 2**\n",
    "Given a string num which represents an integer, return true *if* num *is a **strobogrammatic number***.\n",
    "\n",
    "A **strobogrammatic number** is a number that looks the same when rotated 180 degrees (looked at upside down).\n",
    "\n",
    "**Example 1:**\n",
    "\n",
    "**Input:** num = \"69\"\n",
    "\n",
    "**Output:**\n",
    "\n",
    "true"
   ]
  },
  {
   "cell_type": "code",
   "execution_count": null,
   "id": "7a9ec7c7",
   "metadata": {},
   "outputs": [],
   "source": []
  },
  {
   "cell_type": "markdown",
   "id": "0bd03d24",
   "metadata": {},
   "source": [
    "**Question 3**\n",
    "\n"
   ]
  },
  {
   "cell_type": "code",
   "execution_count": null,
   "id": "f3a3fe1c",
   "metadata": {},
   "outputs": [],
   "source": [
    "Given two non-negative integers, num1 and num2 represented as string, return *the sum of* num1 *and* num2 *as a string*.\n",
    "\n",
    "You must solve the problem without using any built-in library for handling large integers (such as BigInteger). You must also not convert the inputs to integers directly.\n",
    "\n",
    "**Example 1:**\n",
    "\n",
    "**Input:** num1 = \"11\", num2 = \"123\"\n",
    "\n",
    "**Output:**\n",
    "\n",
    "\"134\""
   ]
  },
  {
   "cell_type": "markdown",
   "id": "8fc27955",
   "metadata": {},
   "source": [
    "**Question 4**\n",
    "\n",
    "\n"
   ]
  },
  {
   "cell_type": "code",
   "execution_count": null,
   "id": "60716abf",
   "metadata": {},
   "outputs": [],
   "source": [
    "Given a string s, reverse the order of characters in each word within a sentence while still preserving whitespace and initial word order.\n",
    "\n",
    "**Example 1:**\n",
    "\n",
    "**Input:** s = \"Let's take LeetCode contest\"\n",
    "\n",
    "**Output:** \"s'teL ekat edoCteeL tsetnoc\""
   ]
  },
  {
   "cell_type": "markdown",
   "id": "afa1201f",
   "metadata": {},
   "source": [
    "💡 **Question 5**\n",
    "\n"
   ]
  },
  {
   "cell_type": "code",
   "execution_count": null,
   "id": "93c51afa",
   "metadata": {},
   "outputs": [],
   "source": [
    "Given a string s and an integer k, reverse the first k characters for every 2k characters counting from the start of the string.\n",
    "\n",
    "If there are fewer than k characters left, reverse all of them. If there are less than 2k but greater than or equal to k characters, then reverse the first k characters and leave the other as original.\n",
    "\n",
    "**Example 1:**\n",
    "\n",
    "**Input:** s = \"abcdefg\", k = 2\n",
    "\n",
    "**Output:**\n",
    "\n",
    "\"bacdfeg\""
   ]
  },
  {
   "cell_type": "markdown",
   "id": "ed88a8f2",
   "metadata": {},
   "source": [
    "**Question 6**\n",
    "\n",
    "\n"
   ]
  },
  {
   "cell_type": "code",
   "execution_count": null,
   "id": "2b2b55e7",
   "metadata": {},
   "outputs": [],
   "source": [
    "Given two strings s and goal, return true *if and only if* s *can become* goal *after some number of **shifts** on* s.\n",
    "\n",
    "A **shift** on s consists of moving the leftmost character of s to the rightmost position.\n",
    "\n",
    "- For example, if s = \"abcde\", then it will be \"bcdea\" after one shift.\n",
    "\n",
    "**Example 1:**\n",
    "\n",
    "**Input:** s = \"abcde\", goal = \"cdeab\"\n",
    "\n",
    "**Output:**\n",
    "\n",
    "true"
   ]
  },
  {
   "cell_type": "markdown",
   "id": "d17bfeee",
   "metadata": {},
   "source": [
    "**Question 7**\n",
    "\n",
    "\n"
   ]
  },
  {
   "cell_type": "code",
   "execution_count": null,
   "id": "9471e7a0",
   "metadata": {},
   "outputs": [],
   "source": [
    "Given two strings s and t, return true *if they are equal when both are typed into empty text editors*. '#' means a backspace character.\n",
    "\n",
    "Note that after backspacing an empty text, the text will continue empty.\n",
    "\n",
    "**Example 1:**\n",
    "\n",
    "**Input:** s = \"ab#c\", t = \"ad#c\"\n",
    "\n",
    "**Output:** true\n",
    "\n",
    "**Explanation:**\n",
    "\n",
    "Both s and t become \"ac\"."
   ]
  },
  {
   "cell_type": "markdown",
   "id": "92f14003",
   "metadata": {},
   "source": [
    "**Question 8**\n",
    "\n",
    "\n"
   ]
  },
  {
   "cell_type": "code",
   "execution_count": null,
   "id": "58407272",
   "metadata": {},
   "outputs": [],
   "source": [
    "💡 **Question 8**\n",
    "\n",
    "You are given an array coordinates, coordinates[i] = [x, y], where [x, y] represents the coordinate of a point. Check if these points make a straight line in the XY plane.\n",
    "\n",
    "**Example 1:**\n",
    "**Input:** coordinates = [[1,2],[2,3],[3,4],[4,5],[5,6],[6,7]]\n",
    "\n",
    "**Output:** true\n"
   ]
  },
  {
   "cell_type": "code",
   "execution_count": null,
   "id": "ae41e8e2",
   "metadata": {},
   "outputs": [],
   "source": []
  }
 ],
 "metadata": {
  "kernelspec": {
   "display_name": "Python 3 (ipykernel)",
   "language": "python",
   "name": "python3"
  },
  "language_info": {
   "codemirror_mode": {
    "name": "ipython",
    "version": 3
   },
   "file_extension": ".py",
   "mimetype": "text/x-python",
   "name": "python",
   "nbconvert_exporter": "python",
   "pygments_lexer": "ipython3",
   "version": "3.9.13"
  }
 },
 "nbformat": 4,
 "nbformat_minor": 5
}
