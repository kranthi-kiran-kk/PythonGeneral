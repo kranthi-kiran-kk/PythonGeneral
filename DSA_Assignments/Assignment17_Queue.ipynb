{
 "cells": [
  {
   "cell_type": "code",
   "execution_count": null,
   "id": "21ea4b54",
   "metadata": {},
   "outputs": [],
   "source": [
    "💡 **Question 1**\n",
    "\n",
    "Given a string `s`, *find the first non-repeating character in it and return its index*. If it does not exist, return `-1`.\n",
    "\n",
    "**Example 1:**\n",
    "Input: s = \"leetcode\"\n",
    "Output: 0\n",
    "\n",
    "**Example 2:**\n",
    "Input: s = \"loveleetcode\"\n",
    "Output: 2\n",
    "\n",
    "**Example 3:**\n",
    "Input: s = \"aabb\"\n",
    "Output: -1"
   ]
  },
  {
   "cell_type": "code",
   "execution_count": null,
   "id": "e605eb3c",
   "metadata": {},
   "outputs": [],
   "source": [
    "💡 **Question 2**\n",
    "\n",
    "Given a **circular integer array** `nums` of length `n`, return *the maximum possible sum of a non-empty **subarray** of* `nums`.\n",
    "\n",
    "A **circular array** means the end of the array connects to the beginning of the array. Formally, the next element of `nums[i]` is `nums[(i + 1) % n]` and the previous element of `nums[i]` is `nums[(i - 1 + n) % n]`.\n",
    "\n",
    "A **subarray** may only include each element of the fixed buffer `nums` at most once. Formally, for a subarray `nums[i], nums[i + 1], ..., nums[j]`, there does not exist `i <= k1`, `k2 <= j` with `k1 % n == k2 % n`.\n",
    "\n",
    "**Example 1:**\n",
    "Input: nums = [1,-2,3,-2]\n",
    "Output: 3\n",
    "Explanation: Subarray [3] has maximum sum 3.\n",
    "**Example 2:**\n",
    "Input: nums = [5,-3,5]\n",
    "Output: 10\n",
    "Explanation: Subarray [5,5] has maximum sum 5 + 5 = 10.\n",
    "\n",
    "**Example 3:**\n",
    "Input: nums = [-3,-2,-3]\n",
    "Output: -2\n",
    "Explanation: Subarray [-2] has maximum sum -2.\n"
   ]
  },
  {
   "cell_type": "code",
   "execution_count": null,
   "id": "3144362f",
   "metadata": {},
   "outputs": [],
   "source": [
    "<aside>\n",
    "💡 **Question 3**\n",
    "\n",
    "The school cafeteria offers circular and square sandwiches at lunch break, referred to by numbers `0` and `1` respectively. All students stand in a queue. Each student either prefers square or circular sandwiches.\n",
    "\n",
    "The number of sandwiches in the cafeteria is equal to the number of students. The sandwiches are placed in a **stack**. At each step:\n",
    "\n",
    "- If the student at the front of the queue **prefers** the sandwich on the top of the stack, they will **take it** and leave the queue.\n",
    "- Otherwise, they will **leave it** and go to the queue's end.\n",
    "\n",
    "This continues until none of the queue students want to take the top sandwich and are thus unable to eat.\n",
    "\n",
    "You are given two integer arrays `students` and `sandwiches` where `sandwiches[i]` is the type of the `ith` sandwich in the stack (`i = 0` is the top of the stack) and `students[j]` is the preference of the `jth` student in the initial queue (`j = 0` is the front of the queue). Return *the number of students that are unable to eat.*\n",
    "\n",
    "**Example 1:**\n",
    "\n",
    "```\n",
    "Input: students = [1,1,0,0], sandwiches = [0,1,0,1]\n",
    "Output: 0\n",
    "Explanation:\n",
    "- Front student leaves the top sandwich and returns to the end of the line making students = [1,0,0,1].\n",
    "- Front student leaves the top sandwich and returns to the end of the line making students = [0,0,1,1].\n",
    "- Front student takes the top sandwich and leaves the line making students = [0,1,1] and sandwiches = [1,0,1].\n",
    "- Front student leaves the top sandwich and returns to the end of the line making students = [1,1,0].\n",
    "- Front student takes the top sandwich and leaves the line making students = [1,0] and sandwiches = [0,1].\n",
    "- Front student leaves the top sandwich and returns to the end of the line making students = [0,1].\n",
    "- Front student takes the top sandwich and leaves the line making students = [1] and sandwiches = [1].\n",
    "- Front student takes the top sandwich and leaves the line making students = [] and sandwiches = [].\n",
    "Hence all students are able to eat.\n",
    "\n",
    "```\n",
    "\n",
    "**Example 2:**\n",
    "\n"
   ]
  },
  {
   "cell_type": "code",
   "execution_count": null,
   "id": "f3ef29bf",
   "metadata": {},
   "outputs": [],
   "source": []
  },
  {
   "cell_type": "code",
   "execution_count": null,
   "id": "3572f0e6",
   "metadata": {},
   "outputs": [],
   "source": []
  },
  {
   "cell_type": "code",
   "execution_count": null,
   "id": "d4fcf94f",
   "metadata": {},
   "outputs": [],
   "source": []
  },
  {
   "cell_type": "code",
   "execution_count": null,
   "id": "2d02ddc2",
   "metadata": {},
   "outputs": [],
   "source": []
  },
  {
   "cell_type": "code",
   "execution_count": null,
   "id": "cf4f293c",
   "metadata": {},
   "outputs": [],
   "source": []
  }
 ],
 "metadata": {
  "kernelspec": {
   "display_name": "Python 3 (ipykernel)",
   "language": "python",
   "name": "python3"
  },
  "language_info": {
   "codemirror_mode": {
    "name": "ipython",
    "version": 3
   },
   "file_extension": ".py",
   "mimetype": "text/x-python",
   "name": "python",
   "nbconvert_exporter": "python",
   "pygments_lexer": "ipython3",
   "version": "3.9.13"
  }
 },
 "nbformat": 4,
 "nbformat_minor": 5
}
