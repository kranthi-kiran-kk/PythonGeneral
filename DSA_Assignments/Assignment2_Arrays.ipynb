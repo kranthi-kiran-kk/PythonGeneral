{
 "cells": [
  {
   "cell_type": "markdown",
   "id": "e96dc6eb",
   "metadata": {},
   "source": [
    "Question 1\n",
    "Given an integer array nums of 2n integers, group these integers into n pairs (a1, b1), (a2, b2),\n",
    "..., (an, bn) such that the sum of min(ai, bi) for all i is maximized. Return the maximized sum.\n",
    "Example 1:\n",
    "Input: nums = [1,4,3,2]\n",
    "Output: 4\n",
    "Explanation: All possible pairings (ignoring the ordering of elements) are:\n",
    "1. (1, 4), (2, 3) -> min(1, 4) + min(2, 3) = 1 + 2 = 3\n",
    "2. (1, 3), (2, 4) -> min(1, 3) + min(2, 4) = 1 + 2 = 3\n",
    "3. (1, 2), (3, 4) -> min(1, 2) + min(3, 4) = 1 + 3 = 4\n",
    "So the maximum possible sum is 4"
   ]
  },
  {
   "cell_type": "code",
   "execution_count": null,
   "id": "047aa8ad",
   "metadata": {},
   "outputs": [],
   "source": [
    "def max_sum(nums: list) -> int:\n",
    "    nums.sort()\n",
    "    sum = 0\n",
    "    i = 0\n",
    "    while i < len(nums):\n",
    "        sum += nums[i]\n",
    "        i+=2\n",
    "    return sum\n",
    "\n",
    "nums = [1,4,3,2,5,6]\n",
    "print(max_sum(nums))"
   ]
  },
  {
   "cell_type": "markdown",
   "id": "5e847222",
   "metadata": {},
   "source": [
    "Question 2\n",
    "Alice has n candies, where the ith candy is of type candyType[i]. Alice noticed that she started\n",
    "to gain weight, so she visited a doctor.\n",
    "The doctor advised Alice to only eat n / 2 of the candies she has (n is always even). Alice\n",
    "likes her candies very much, and she wants to eat the maximum number of different types of\n",
    "candies while still following the doctor's advice.\n",
    "Given the integer array candyType of length n, return the maximum number of different types\n",
    "of candies she can eat if she only eats n / 2 of them.\n",
    "Example 1:\n",
    "Input: candyType = [1,1,2,2,3,3]\n",
    "Output: 3\n",
    "Explanation: Alice can only eat 6 / 2 = 3 candies. Since there are only 3 types, she can eat one\n",
    "of each type."
   ]
  },
  {
   "cell_type": "code",
   "execution_count": null,
   "id": "228cf243",
   "metadata": {},
   "outputs": [],
   "source": [
    "def types_of_candies(candy_type: list)-> int:\n",
    "    limit = len(candy_type)/2\n",
    "    types = len(set(candy_type))\n",
    "    if types > limit:\n",
    "        return limit\n",
    "    else:\n",
    "        return types\n",
    "    \n",
    "candyType = [1,1,2,2,3,3]\n",
    "print(types_of_candies(candyType))"
   ]
  },
  {
   "cell_type": "markdown",
   "id": "0fdb77c2",
   "metadata": {},
   "source": [
    "Question 3\n",
    "We define a harmonious array as an array where the difference between its maximum value\n",
    "and its minimum value is exactly 1.\n",
    "Given an integer array nums, return the length of its longest harmonious subsequence\n",
    "among all its possible subsequences.\n",
    "A subsequence of an array is a sequence that can be derived from the array by deleting some\n",
    "or no elements without changing the order of the remaining elements.\n",
    "Example 1:\n",
    "Input: nums = [1,3,2,2,5,2,3,7]\n",
    "Output: 5\n",
    "Explanation: The longest harmonious subsequence is [3,2,2,2,3]."
   ]
  },
  {
   "cell_type": "code",
   "execution_count": null,
   "id": "fad1e83a",
   "metadata": {},
   "outputs": [],
   "source": [
    "def len_harmonious(nums: list)-> int:\n",
    "    counter = {}\n",
    "    max_length = 0\n",
    "    \n",
    "    for num in nums:\n",
    "        counter[num] = counter.get(num,0)+1\n",
    "    for num in counter:\n",
    "        if num+1 in counter:\n",
    "            length = counter[num] + counter[num+1]\n",
    "            max_length = max(length, max_length)\n",
    "    return max_length\n",
    "\n",
    "nums = [1,3,2,2,5,2,3,7]\n",
    "print(len_harmonious(nums))"
   ]
  },
  {
   "cell_type": "markdown",
   "id": "0c1d4c0b",
   "metadata": {},
   "source": [
    "Question 4\n",
    "You have a long flowerbed in which some of the plots are planted, and some are not.\n",
    "However, flowers cannot be planted in adjacent plots.\n",
    "Given an integer array flowerbed containing 0's and 1's, where 0 means empty and 1 means\n",
    "not empty, and an integer n, return true if n new flowers can be planted in the flowerbed\n",
    "without violating the no-adjacent-flowers rule and false otherwise.\n",
    "Example 1:\n",
    "Input: flowerbed = [1,0,0,0,1], n = 1\n",
    "Output: true"
   ]
  },
  {
   "cell_type": "code",
   "execution_count": null,
   "id": "7e3fae17",
   "metadata": {},
   "outputs": [],
   "source": [
    "def flower_bed(flowerbed: list, n: int)-> bool:\n",
    "    counter = 0\n",
    "    i=0\n",
    "    j=1\n",
    "    k=2\n",
    "    while k<len(flowerbed):\n",
    "        if flowerbed[i] + flowerbed[j]  + flowerbed[k] == 0:\n",
    "            counter += 1\n",
    "        i+=1\n",
    "        j+=1\n",
    "        k+=1\n",
    "    if counter == n:\n",
    "        return True\n",
    "    else:\n",
    "        return False\n",
    "flowerbed = [1,0,0,0,1,0,0,0]\n",
    "n = 2\n",
    "print(flower_bed(flowerbed, n))"
   ]
  },
  {
   "cell_type": "markdown",
   "id": "fa861954",
   "metadata": {},
   "source": [
    "Question 5\n",
    "Given an integer array nums, find three numbers whose product is maximum and return the\n",
    "maximum product.\n",
    "Example 1:\n",
    "Input: nums = [1,2,3]\n",
    "Output: 6"
   ]
  },
  {
   "cell_type": "code",
   "execution_count": null,
   "id": "84875e7a",
   "metadata": {},
   "outputs": [],
   "source": [
    "def max_product(nums: list)-> int:\n",
    "    nums.sort\n",
    "    return nums[-1]*nums[-2]*nums[-3]\n",
    "nums = [1,2,3,4]\n",
    "print(max_product(nums))"
   ]
  },
  {
   "cell_type": "markdown",
   "id": "9727412b",
   "metadata": {},
   "source": [
    "Question 6\n",
    "Given an array of integers nums which is sorted in ascending order, and an integer target,\n",
    "write a function to search target in nums. If target exists, then return its index. Otherwise,\n",
    "return -1.\n",
    "You must write an algorithm with O(log n) runtime complexity.\n",
    "Input: nums = [-1,0,3,5,9,12], target = 9\n",
    "Output: 4\n",
    "Explanation: 9 exists in nums and its index is 4"
   ]
  },
  {
   "cell_type": "code",
   "execution_count": null,
   "id": "808ee1ee",
   "metadata": {},
   "outputs": [],
   "source": [
    "def target_index(nums: list, target: int)-> int:\n",
    "    pointer = int(len(nums)/2)\n",
    "    if nums[pointer] > target:\n",
    "        for i in range(pointer):\n",
    "            if nums[i] == target:\n",
    "                return i\n",
    "    elif nums[pointer]<target:\n",
    "        for i in range(pointer+1,len(nums)):\n",
    "            if nums[i] == target:\n",
    "                return i\n",
    "    else:\n",
    "        return pointer\n",
    "    \n",
    "nums = [-1,0,3,5,9,12,16,20,25]\n",
    "target = -1\n",
    "print(target_index(nums, target))"
   ]
  },
  {
   "cell_type": "markdown",
   "id": "20897779",
   "metadata": {},
   "source": [
    "Question 7\n",
    "An array is monotonic if it is either monotone increasing or monotone decreasing.\n",
    "An array nums is monotone increasing if for all i <= j, nums[i] <= nums[j]. An array nums is\n",
    "monotone decreasing if for all i <= j, nums[i] >= nums[j].\n",
    "Given an integer array nums, return true if the given array is monotonic, or false otherwise.\n",
    "Example 1:\n",
    "Input: nums = [1,2,2,3]\n",
    "Output: true"
   ]
  },
  {
   "cell_type": "code",
   "execution_count": null,
   "id": "8b4e6402",
   "metadata": {},
   "outputs": [],
   "source": [
    "def monotone_check(nums):\n",
    "    increasing = True\n",
    "    decreasing = True\n",
    "    for i in range(len(nums)-1):\n",
    "        if nums[i]<=nums[i+1]:\n",
    "            decreasing = False\n",
    "    for i in range(len(nums)-1):\n",
    "        if nums[i]>=nums[i+1]:\n",
    "            increasing = False\n",
    "    if increasing or decreasing:\n",
    "        return True\n",
    "    else:\n",
    "        return False\n",
    "\n",
    "nums = [1,2,3,4]\n",
    "            \n",
    "monotone_check(nums)"
   ]
  },
  {
   "cell_type": "markdown",
   "id": "aa331b34",
   "metadata": {},
   "source": [
    "Question 8\n",
    "You are given an integer array nums and an integer k.\n",
    "In one operation, you can choose any index i where 0 <= i < nums.length and change nums[i]\n",
    "to nums[i] + x where x is an integer from the range [-k, k]. You can apply this operation at\n",
    "most once for each index i.\n",
    "The score of nums is the difference between the maximum and minimum elements in nums.\n",
    "Return the minimum score of nums after applying the mentioned operation at most once for\n",
    "each index in it.\n",
    "Example 1:\n",
    "Input: nums = [1], k = 0\n",
    "Output: 0\n",
    "Explanation: The score is max(nums) - min(nums) = 1 - 1 = 0."
   ]
  },
  {
   "cell_type": "code",
   "execution_count": null,
   "id": "7c0547c1",
   "metadata": {},
   "outputs": [],
   "source": [
    "import math\n",
    "def min_score(nums: list, integer: int) -> int:\n",
    "        minimum = math.inf\n",
    "        maximum = -math.inf\n",
    "        for num in nums:\n",
    "            for k in range(-integer, integer+1):\n",
    "                score = num + k\n",
    "                minimum = min(minimum,score)\n",
    "                maximum = max(maximum,score)\n",
    "        return maximum - minimum\n",
    "        \n",
    "nums = [1]\n",
    "k = 0\n",
    "print(min_score(nums,k))"
   ]
  },
  {
   "cell_type": "code",
   "execution_count": null,
   "id": "6ad37d2e",
   "metadata": {},
   "outputs": [],
   "source": []
  }
 ],
 "metadata": {
  "kernelspec": {
   "display_name": "Python 3 (ipykernel)",
   "language": "python",
   "name": "python3"
  },
  "language_info": {
   "codemirror_mode": {
    "name": "ipython",
    "version": 3
   },
   "file_extension": ".py",
   "mimetype": "text/x-python",
   "name": "python",
   "nbconvert_exporter": "python",
   "pygments_lexer": "ipython3",
   "version": "3.9.13"
  }
 },
 "nbformat": 4,
 "nbformat_minor": 5
}
