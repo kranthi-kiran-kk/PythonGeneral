{
 "cells": [
  {
   "cell_type": "markdown",
   "id": "0908c1d0",
   "metadata": {},
   "source": [
    "Question 1\n",
    "Given an integer array nums of length n and an integer target, find three integers\n",
    "in nums such that the sum is closest to the target.\n",
    "Return the sum of the three integers.\n",
    "You may assume that each input would have exactly one solution.\n",
    "Example 1:\n",
    "Input: nums = [-1,2,1,-4], target = 1\n",
    "Output: 2\n",
    "Explanation: The sum that is closest to the target is 2. (-1 + 2 + 1 = 2).\n",
    "\n"
   ]
  },
  {
   "cell_type": "code",
   "execution_count": null,
   "id": "5916fb86",
   "metadata": {},
   "outputs": [],
   "source": [
    "import math\n",
    "def closest(nums: list, target: int)-> int:\n",
    "    nums.sort()\n",
    "    closest_match = math.inf\n",
    "    for i in range(len(nums)-2):\n",
    "        lp = i+1\n",
    "        rp = len(nums)-1\n",
    "        while lp<rp:\n",
    "            current_sum = nums[i]+nums[lp]+nums[rp]\n",
    "            if current_sum == target:\n",
    "                return current_sum\n",
    "            if abs(current_sum - target) < abs(closest_match - target):\n",
    "                closest_match = current_sum\n",
    "            if current_sum > target:\n",
    "                rp -= 1\n",
    "            else:\n",
    "                lp += 1\n",
    "                \n",
    "    return closest_match\n",
    "\n",
    "nums = [-1,2,1,-4]\n",
    "target = 1\n",
    "print(closest(nums, target))"
   ]
  },
  {
   "cell_type": "markdown",
   "id": "a2cbf5e4",
   "metadata": {},
   "source": [
    "Question 2\n",
    "Given an array nums of n integers, return an array of all the unique quadruplets\n",
    "[nums[a], nums[b], nums[c], nums[d]] such that:\n",
    "● 0 <= a, b, c, d < n\n",
    "● a, b, c, and d are distinct.\n",
    "● nums[a] + nums[b] + nums[c] + nums[d] == target\n",
    "You may return the answer in any order.\n",
    "Example 1:\n",
    "Input: nums = [1,0,-1,0,-2,2], target = 0\n",
    "Output: [[-2,-1,1,2],[-2,0,0,2],[-1,0,0,1]]\n",
    "\n"
   ]
  },
  {
   "cell_type": "code",
   "execution_count": null,
   "id": "00613ac3",
   "metadata": {},
   "outputs": [],
   "source": [
    "def quadraplets(nums: list, target: int)-> list:\n",
    "    nums.sort()\n",
    "    result = []\n",
    "    for i in range(len(nums)-3):\n",
    "        # skipping duplicate elements\n",
    "        if i>0 and nums[i] == nums[i-1]:\n",
    "            continue\n",
    "        for j in range(i+1,len(nums)-2):\n",
    "            if j>i+1 and nums[j] == nums[j-1]:\n",
    "                continue\n",
    "            lp = j+1\n",
    "            rp = len(nums)-1\n",
    "            while lp<rp:\n",
    "                potential_sum = nums[i]+nums[j]+nums[lp]+nums[rp]\n",
    "                \n",
    "                if potential_sum == target:\n",
    "                    result.append([nums[i],nums[j],nums[lp],nums[rp]])\n",
    "                    while lp<rp and nums[lp]==nums[lp+1]:\n",
    "                        lp +=1\n",
    "                    while lp<rp and nums[rp]==nums[rp-1]:\n",
    "                        rp-=1\n",
    "                        \n",
    "                    lp+=1\n",
    "                    rp-=1\n",
    "                elif potential_sum<target:\n",
    "                    lp+=1\n",
    "                else:\n",
    "                    rp-=1\n",
    "    return result\n",
    "nums = [1,0,-1,0,-2,2]\n",
    "target = 0\n",
    "print(quadraplets(nums, target))"
   ]
  },
  {
   "cell_type": "markdown",
   "id": "53898bf6",
   "metadata": {},
   "source": [
    "Question 3\n",
    "A permutation of an array of integers is an arrangement of its members into a\n",
    "sequence or linear order.\n",
    "● For example, for arr = [1,2,3], the following are all the permutations of arr:\n",
    "[1,2,3], [1,3,2], [2, 1, 3], [2, 3, 1], [3,1,2], [3,2,1].\n",
    "The next permutation of an array of integers is the next lexicographically greater\n",
    "permutation of its integer. More formally, if all the permutations of the array are\n",
    "sorted in one container according to their lexicographical order, then the next\n",
    "permutation of that array is the permutation that follows it in the sorted container.\n",
    "\n",
    "\n",
    "If such an arrangement is not possible, the array must be rearranged as the\n",
    "lowest possible order (i.e., sorted in ascending order).\n",
    "● For example, the next permutation of arr = [1,2,3] is [1,3,2].\n",
    "● Similarly, the next permutation of arr = [2,3,1] is [3,1,2].\n",
    "● While the next permutation of arr = [3,2,1] is [1,2,3] because [3,2,1] does not\n",
    "have a lexicographical larger rearrangement.\n",
    "Given an array of integers nums, find the next permutation of nums.\n",
    "The replacement must be in place and use only constant extra memory.\n",
    "Example 1:\n",
    "Input: nums = [1,2,3]\n",
    "Output: [1,3,2]\n",
    "\n"
   ]
  },
  {
   "cell_type": "code",
   "execution_count": null,
   "id": "9d8e5146",
   "metadata": {},
   "outputs": [],
   "source": [
    "import math\n",
    "def order(nums: list)-> list:\n",
    "    result = []\n",
    "    min_dif = math.inf\n",
    "    order_result = {}\n",
    "    def generate_permutations(nums: list, start: int, result: list)-> None:\n",
    "        if start == len(nums):\n",
    "            result.append(nums.copy())\n",
    "            return\n",
    "        for i in range(start, len(nums)):\n",
    "            nums[start], nums[i] = nums[i], nums[start]\n",
    "            generate_permutations(nums, start+1, result)\n",
    "            nums[start],nums[i]= nums[i],nums[start]\n",
    "    generate_permutations(nums, 0, result)\n",
    "    for arr in result:\n",
    "        k = int(\"\".join(map(str,arr))) - int(\"\".join(map(str,nums)))\n",
    "        if k > 0:\n",
    "            order_result[k] = arr\n",
    "            min_dif = min(min_dif, k)\n",
    "    return order_result[min_dif]\n",
    "nums = [1,2,3]\n",
    "print(order(nums))"
   ]
  },
  {
   "cell_type": "markdown",
   "id": "4cea0534",
   "metadata": {},
   "source": [
    "Question 4\n",
    "Given a sorted array of distinct integers and a target value, return the index if the\n",
    "target is found. If not, return the index where it would be if it were inserted in\n",
    "order.\n",
    "You must write an algorithm with O(log n) runtime complexity.\n",
    "Example 1:\n",
    "Input: nums = [1,3,5,6], target = 5\n",
    "Output: 2\n",
    "\n"
   ]
  },
  {
   "cell_type": "code",
   "execution_count": null,
   "id": "4a0d64e9",
   "metadata": {},
   "outputs": [],
   "source": [
    "def search(nums: list, target: int) -> int:\n",
    "    lp = 0\n",
    "    while lp<len(nums):\n",
    "        if nums[lp] == target:\n",
    "            return lp\n",
    "        elif nums[lp]< target:\n",
    "            if lp == len(nums)-1:\n",
    "                return lp+1\n",
    "            lp+=1\n",
    "        else:\n",
    "            return lp\n",
    "nums = [1,3,5,6]\n",
    "target = 3\n",
    "print(search(nums, target))"
   ]
  },
  {
   "cell_type": "markdown",
   "id": "dc8c5d65",
   "metadata": {},
   "source": [
    "Question 5\n",
    "You are given a large integer represented as an integer array digits, where each\n",
    "digits[i] is the ith digit of the integer. The digits are ordered from most significant\n",
    "to least significant in left-to-right order. The large integer does not contain any\n",
    "leading 0's.\n",
    "Increment the large integer by one and return the resulting array of digits.\n",
    "Example 1:\n",
    "Input: digits = [1,2,3]\n",
    "Output: [1,2,4]\n",
    "\n",
    "Explanation: The array represents the integer 123.\n",
    "Incrementing by one gives 123 + 1 = 124.\n",
    "Thus, the result should be [1,2,4].\n",
    "\n"
   ]
  },
  {
   "cell_type": "code",
   "execution_count": null,
   "id": "d7795ce5",
   "metadata": {},
   "outputs": [],
   "source": [
    "def incrementing(digits: list):\n",
    "    integer = int(\"\".join(map(str,digits)))\n",
    "    integer = integer+1\n",
    "    k = []\n",
    "    while integer>0:\n",
    "        k.append(integer%10)\n",
    "        integer = integer // 10\n",
    "    k.reverse()\n",
    "    return k\n",
    "   \n",
    "digits = [1,2,3]\n",
    "print(incrementing(digits))"
   ]
  },
  {
   "cell_type": "markdown",
   "id": "6d19f01e",
   "metadata": {},
   "source": [
    "Question 6\n",
    "Given a non-empty array of integers nums, every element appears twice except\n",
    "for one. Find that single one.\n",
    "You must implement a solution with a linear runtime complexity and use only\n",
    "constant extra space.\n",
    "Example 1:\n",
    "Input: nums = [2,2,1]\n",
    "Output: 1\n",
    "\n"
   ]
  },
  {
   "cell_type": "code",
   "execution_count": null,
   "id": "3d18a9f3",
   "metadata": {},
   "outputs": [],
   "source": [
    "def unique(nums: list) -> int:\n",
    "    counter_set = set()\n",
    "    for num in nums:\n",
    "        if num in counter_set:\n",
    "            counter_set.remove(num)\n",
    "        else:\n",
    "            counter_set.add(num)\n",
    "    return counter_set.pop()\n",
    "nums = [2,2,1]\n",
    "print(unique(nums))"
   ]
  },
  {
   "cell_type": "markdown",
   "id": "234f36a1",
   "metadata": {},
   "source": [
    "Question 7\n",
    "You are given an inclusive range [lower, upper] and a sorted unique integer array\n",
    "nums, where all elements are within the inclusive range.\n",
    "A number x is considered missing if x is in the range [lower, upper] and x is not in\n",
    "nums.\n",
    "Return the shortest sorted list of ranges that exactly covers all the missing\n",
    "numbers. That is, no element of nums is included in any of the ranges, and each\n",
    "missing number is covered by one of the ranges.\n",
    "Example 1:\n",
    "Input: nums = [0,1,3,50,75], lower = 0, upper = 99\n",
    "Output: [[2,2],[4,49],[51,74],[76,99]]\n",
    "Explanation: The ranges are:\n",
    "[2,2]\n",
    "[4,49]\n",
    "[51,74]\n",
    "[76,99]\n"
   ]
  },
  {
   "cell_type": "code",
   "execution_count": null,
   "id": "9a129b72",
   "metadata": {},
   "outputs": [],
   "source": [
    "def missing_numbers(nums: list, lower: int, upper: int)-> list:\n",
    "    results=[]\n",
    "    for i in range(len(nums)):\n",
    "        if i == 0: \n",
    "            if nums[i]-lower>= 1:\n",
    "                results.append([lower,nums[i]-1])\n",
    "        elif i == len(nums)-1:\n",
    "            if upper-nums[i]>=1:\n",
    "                results.append([nums[i]+1,upper])\n",
    "        else:\n",
    "            if nums[i+1]-nums[i]>1:\n",
    "                results.append([nums[i]+1, nums[i+1]-1])\n",
    "    return results\n",
    "nums = [0,1,3,50,75]; lower = 0; upper = 99\n",
    "print(missing_numbers(nums, lower, upper))"
   ]
  },
  {
   "cell_type": "markdown",
   "id": "b5f58a1d",
   "metadata": {},
   "source": [
    "Question 8\n",
    "Given an array of meeting time intervals where intervals[i] = [starti, endi],\n",
    "determine if a person could attend all meetings.\n",
    "Example 1:\n",
    "Input: intervals = [[0,30],[5,10],[15,20]]\n",
    "Output: false"
   ]
  },
  {
   "cell_type": "code",
   "execution_count": null,
   "id": "6555615e",
   "metadata": {},
   "outputs": [],
   "source": [
    "def all_meetings(intervals: list )-> bool:\n",
    "    for i in range(len(intervals)-1):\n",
    "        if intervals[i][1]<intervals[i+1][0]:\n",
    "            continue\n",
    "        else:\n",
    "            return False\n",
    "    return True\n",
    "intervals = [[0,30],[5,10],[15,20]]\n",
    "print(all_meetings(intervals))"
   ]
  },
  {
   "cell_type": "code",
   "execution_count": null,
   "id": "0c53b293",
   "metadata": {},
   "outputs": [],
   "source": []
  }
 ],
 "metadata": {
  "kernelspec": {
   "display_name": "Python 3 (ipykernel)",
   "language": "python",
   "name": "python3"
  },
  "language_info": {
   "codemirror_mode": {
    "name": "ipython",
    "version": 3
   },
   "file_extension": ".py",
   "mimetype": "text/x-python",
   "name": "python",
   "nbconvert_exporter": "python",
   "pygments_lexer": "ipython3",
   "version": "3.9.13"
  }
 },
 "nbformat": 4,
 "nbformat_minor": 5
}
