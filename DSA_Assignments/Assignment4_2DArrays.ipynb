{
 "cells": [
  {
   "cell_type": "markdown",
   "id": "64b649a2",
   "metadata": {},
   "source": [
    "**Question 1**\n",
    "Given three integer arrays arr1, arr2 and arr3 **sorted** in **strictly increasing** order, return a sorted array of **only** the integers that appeared in **all** three arrays.\n",
    "\n",
    "**Example 1:**\n",
    "\n",
    "Input: arr1 = [1,2,3,4,5], arr2 = [1,2,5,7,9], arr3 = [1,3,4,5,8]\n",
    "\n",
    "Output: [1,5]\n",
    "\n",
    "**Explanation:** Only 1 and 5 appeared in the three arrays.\n"
   ]
  },
  {
   "cell_type": "code",
   "execution_count": null,
   "id": "20e6c8d4",
   "metadata": {},
   "outputs": [],
   "source": [
    "def all_three(arr1: list, arr2: list, arr3: list)-> list:\n",
    "    result = []\n",
    "    for i in range(0,len(arr1)):\n",
    "        for j in range(0,len(arr2)):\n",
    "            if arr1[i] == arr2[j]:\n",
    "                for k in range(0,len(arr3)):\n",
    "                    if arr1[i] == arr3[k]:\n",
    "                        result.append(arr1[i])\n",
    "    return result\n",
    "\n",
    "arr1 = [1,2,3,4,5]; arr2 = [1,2,5,7,9]; arr3 = [1,3,4,5,8]\n",
    "print(all_three(arr1, arr2, arr3))\n",
    "                        "
   ]
  },
  {
   "cell_type": "markdown",
   "id": "abcccd35",
   "metadata": {},
   "source": [
    "**Question 2**\n",
    "\n",
    "Given two **0-indexed** integer arrays nums1 and nums2, return *a list* answer *of size* 2 *where:*\n",
    "\n",
    "- answer[0] *is a list of all **distinct** integers in* nums1 *which are **not** present in* nums2*.*\n",
    "- answer[1] *is a list of all **distinct** integers in* nums2 *which are **not** present in* nums1.\n",
    "\n",
    "**Note** that the integers in the lists may be returned in **any** order.\n",
    "\n",
    "**Example 1:**\n",
    "\n",
    "**Input:** nums1 = [1,2,3], nums2 = [2,4,6]\n",
    "\n",
    "**Output:** [[1,3],[4,6]]\n",
    "\n",
    "**Explanation:**\n",
    "\n",
    "For nums1, nums1[1] = 2 is present at index 0 of nums2, whereas nums1[0] = 1 and nums1[2] = 3 are not present in nums2. Therefore, answer[0] = [1,3].\n",
    "\n",
    "For nums2, nums2[0] = 2 is present at index 1 of nums1, whereas nums2[1] = 4 and nums2[2] = 6 are not present in nums2. Therefore, answer[1] = [4,6].\n"
   ]
  },
  {
   "cell_type": "code",
   "execution_count": null,
   "id": "81a34dca",
   "metadata": {},
   "outputs": [],
   "source": [
    "def check_loop(nums1: list, nums2: list)-> list:\n",
    "    pointer = []\n",
    "    result= []\n",
    "    for i in range(len(nums1)):\n",
    "        if nums1[i] in pointer:\n",
    "            break\n",
    "        else:\n",
    "            pointer.append(nums1[i])\n",
    "            for j in range(len(nums2)):\n",
    "                if nums1[i] == nums2[j]:\n",
    "                    if nums1[i] in result:\n",
    "                        result.remove(nums1[i])\n",
    "                    break\n",
    "                else:\n",
    "                    if nums1[i] not in result:\n",
    "                        result.append(nums1[i])\n",
    "    return result\n",
    "def execute_check_loop(arr1: list, arr2: list)-> list:\n",
    "    result = [check_loop(arr1, arr2),check_loop(arr2, arr1)]\n",
    "    return result\n",
    "arr1 = [1,2,3]; arr2 = [2,4,6]\n",
    "print(execute_check_loop(nums1, nums2))"
   ]
  },
  {
   "attachments": {},
   "cell_type": "markdown",
   "id": "7b5efadd",
   "metadata": {},
   "source": [
    "**Question 3**\n",
    "Given a 2D integer array matrix, return *the **transpose** of* matrix.\n",
    "\n",
    "The **transpose** of a matrix is the matrix flipped over its main diagonal, switching the matrix's row and column indices.\n",
    "\n",
    "**Example 1:**\n",
    "\n",
    "Input: matrix = [[1,2,3],[4,5,6],[7,8,9]]\n",
    "\n",
    "Output: [[1,4,7],[2,5,8],[3,6,9]]\n"
   ]
  },
  {
   "cell_type": "code",
   "execution_count": null,
   "id": "a13853cc",
   "metadata": {},
   "outputs": [],
   "source": [
    "from copy import deepcopy\n",
    "def transpose_matrix(matrix: list)-> list:\n",
    "    matrix1 = deepcopy(matrix)\n",
    "    for i in range(len(matrix)):\n",
    "        for j in range(len(matrix[0])):\n",
    "            matrix1[i][j] = matrix[j][i]\n",
    "    return matrix1\n",
    "\n",
    "matrix = [[1,2,3],[4,5,6],[7,8,9]]\n",
    "print(transpose_matrix(matrix))"
   ]
  },
  {
   "cell_type": "markdown",
   "id": "969c7e51",
   "metadata": {},
   "source": [
    "**Question 4**\n",
    "Given an integer array nums of 2n integers, group these integers into n pairs (a1, b1), (a2, b2), ..., (an, bn) such that the sum of min(ai, bi) for all i is **maximized**. Return *the maximized sum*.\n",
    "\n",
    "**Example 1:**\n",
    "\n",
    "Input: nums = [1,4,3,2]\n",
    "\n",
    "Output: 4\n",
    "\n",
    "**Explanation:** All possible pairings (ignoring the ordering of elements) are:\n",
    "\n",
    "1. (1, 4), (2, 3) -> min(1, 4) + min(2, 3) = 1 + 2 = 3\n",
    "\n",
    "2. (1, 3), (2, 4) -> min(1, 3) + min(2, 4) = 1 + 2 = 3\n",
    "\n",
    "3. (1, 2), (3, 4) -> min(1, 2) + min(3, 4) = 1 + 3 = 4\n",
    "\n",
    "So the maximum possible sum is 4.\n"
   ]
  },
  {
   "cell_type": "code",
   "execution_count": null,
   "id": "23a7fdff",
   "metadata": {},
   "outputs": [],
   "source": [
    "def max_sum(nums: list) -> int:\n",
    "    nums.sort()\n",
    "    sum = 0\n",
    "    i = 0\n",
    "    while i < len(nums):\n",
    "        sum += nums[i]\n",
    "        i+=2\n",
    "    return sum\n",
    "\n",
    "nums = [1,4,3,2]\n",
    "print(max_sum(nums))"
   ]
  },
  {
   "cell_type": "markdown",
   "id": "f1d87fca",
   "metadata": {},
   "source": [
    "**Question 5**\n",
    "You have n coins and you want to build a staircase with these coins. The staircase consists of k rows where the ith row has exactly i coins. The last row of the staircase **may be** incomplete.\n",
    "\n",
    "Given the integer n, return *the number of **complete rows** of the staircase you will build*.\n",
    "\n",
    "**Example 1:**\n",
    "\n",
    "\n",
    "![v2.jpg](https://s3-us-west-2.amazonaws.com/secure.notion-static.com/4bd91cfa-d2b1-47b3-8197-a72e8dcfff4b/v2.jpg)\n",
    "\n",
    "**Input:** n = 5\n",
    "\n",
    "**Output:** 2\n",
    "\n",
    "**Explanation:** Because the 3rd row is incomplete, we return 2.\n",
    "\n"
   ]
  },
  {
   "cell_type": "code",
   "execution_count": null,
   "id": "c23bd00c",
   "metadata": {},
   "outputs": [],
   "source": [
    "def incomplete_row(n: int)-> int:\n",
    "    sum = 0\n",
    "    i = 1\n",
    "    count = 0\n",
    "    while sum <= n:\n",
    "        sum += i\n",
    "        i+= 1\n",
    "        count+=1\n",
    "    return count-1\n",
    "n = 5\n",
    "print(incomplete_row(n))"
   ]
  },
  {
   "cell_type": "markdown",
   "id": "8a90bba6",
   "metadata": {},
   "source": [
    "**Question 6**\n",
    "Given an integer array nums sorted in **non-decreasing** order, return *an array of **the squares of each number** sorted in non-decreasing order*.\n",
    "\n",
    "**Example 1:**\n",
    "\n",
    "Input: nums = [-4,-1,0,3,10]\n",
    "\n",
    "Output: [0,1,9,16,100]\n",
    "\n",
    "**Explanation:** After squaring, the array becomes [16,1,0,9,100].\n",
    "After sorting, it becomes [0,1,9,16,100]\n"
   ]
  },
  {
   "cell_type": "code",
   "execution_count": null,
   "id": "555d625d",
   "metadata": {},
   "outputs": [],
   "source": [
    "def square_sorted(nums: list)-> list:\n",
    "    squared_nums = [num*num for num in nums]\n",
    "    squared_nums.sort()\n",
    "    return squared_nums\n",
    "\n",
    "nums = [-4,-1,0,3,10]\n",
    "print(square_sorted(nums))"
   ]
  },
  {
   "cell_type": "markdown",
   "id": "a8b73a35",
   "metadata": {},
   "source": [
    "**Question 7**\n",
    "You are given an m x n matrix M initialized with all 0's and an array of operations ops, where ops[i] = [ai, bi] means M[x][y] should be incremented by one for all 0 <= x < ai and 0 <= y < bi.\n",
    "\n",
    "Count and return *the number of maximum integers in the matrix after performing all the operations*\n",
    "\n",
    "**Example 1:**\n",
    "\n",
    "![q4.jpg](https://s3-us-west-2.amazonaws.com/secure.notion-static.com/4d0890d0-7bc7-4f59-be8e-352d9f3c1c52/q4.jpg)\n",
    "\n",
    "**Input:** m = 3, n = 3, ops = [[2,2],[3,3]]\n",
    "\n",
    "**Output:** 4\n",
    "\n",
    "**Explanation:** The maximum integer in M is 2, and there are four of it in M. So return 4.\n"
   ]
  },
  {
   "cell_type": "code",
   "execution_count": null,
   "id": "c62809f9",
   "metadata": {},
   "outputs": [],
   "source": [
    "def max_integer(m: int, n:int, ops: list)-> int:\n",
    "    M = [[0 for i in range(m)]for j in range(n)]\n",
    "    count_map = {}\n",
    "    for lst in ops:\n",
    "        for i in range(lst[0]):\n",
    "            for j in range(lst[1]):\n",
    "                M[i][j] += 1\n",
    "                if M[i][j] in count_map:\n",
    "                    count_map[M[i][j]] += 1\n",
    "                else:\n",
    "                    count_map[M[i][j]] = 1\n",
    "                    \n",
    "    return count_map[max(list(count_map.keys()))]\n",
    "    \n",
    "m = 3; n = 3; ops = [[2,2],[3,3]]\n",
    "max_integer(m, n, ops)"
   ]
  },
  {
   "cell_type": "markdown",
   "id": "abddb104",
   "metadata": {},
   "source": [
    "**Question 8**\n",
    "\n",
    "Given the array nums consisting of 2n elements in the form [x1,x2,...,xn,y1,y2,...,yn].\n",
    "\n",
    "*Return the array in the form* [x1,y1,x2,y2,...,xn,yn].\n",
    "\n",
    "**Example 1:**\n",
    "\n",
    "**Input:** nums = [2,5,1,3,4,7], n = 3\n",
    "\n",
    "**Output:** [2,3,5,4,1,7]\n",
    "\n",
    "**Explanation:** Since x1=2, x2=5, x3=1, y1=3, y2=4, y3=7 then the answer is [2,3,5,4,1,7].\n"
   ]
  },
  {
   "cell_type": "code",
   "execution_count": null,
   "id": "4a5a70ab",
   "metadata": {},
   "outputs": [],
   "source": [
    "def arrange_array(nums: list, n: int)-> list:\n",
    "    result= []\n",
    "    for i in range(n):\n",
    "        result.append(nums[i])\n",
    "        result.append(nums[n+i])\n",
    "    return result\n",
    "\n",
    "nums = [2,5,1,3,4,7]; n = 3\n",
    "print(arrange_array(nums, n))"
   ]
  },
  {
   "cell_type": "code",
   "execution_count": null,
   "id": "961d86be",
   "metadata": {},
   "outputs": [],
   "source": []
  }
 ],
 "metadata": {
  "kernelspec": {
   "display_name": "Python 3 (ipykernel)",
   "language": "python",
   "name": "python3"
  },
  "language_info": {
   "codemirror_mode": {
    "name": "ipython",
    "version": 3
   },
   "file_extension": ".py",
   "mimetype": "text/x-python",
   "name": "python",
   "nbconvert_exporter": "python",
   "pygments_lexer": "ipython3",
   "version": "3.9.13"
  }
 },
 "nbformat": 4,
 "nbformat_minor": 5
}
