{
 "cells": [
  {
   "cell_type": "markdown",
   "id": "4e8d9313",
   "metadata": {},
   "source": [
    "**Question 1**\n",
    "\n",
    "\n",
    "Given two strings s and t, *determine if they are isomorphic*.\n",
    "\n",
    "Two strings s and t are isomorphic if the characters in s can be replaced to get t.\n",
    "\n",
    "All occurrences of a character must be replaced with another character while preserving the order of characters. No two characters may map to the same character, but a character may map to itself.\n",
    "\n",
    "**Example 1:**\n",
    "\n",
    "**Input:** s = \"egg\", t = \"add\"\n",
    "\n",
    "**Output:** true\n",
    "\n"
   ]
  },
  {
   "cell_type": "code",
   "execution_count": 1,
   "id": "76e56ad0",
   "metadata": {},
   "outputs": [
    {
     "name": "stdout",
     "output_type": "stream",
     "text": [
      "True\n"
     ]
    }
   ],
   "source": [
    "def isomorphic(s: str, t: str)-> bool:\n",
    "    if len(s)!=len(t):\n",
    "        return False\n",
    "    else:\n",
    "        charmap = {}\n",
    "        for i in range(len(s)):\n",
    "            if s[i] in charmap and charmap[s[i]] != t[i]:\n",
    "                return False\n",
    "            elif s[i] in charmap and charmap[s[i]] == t[i]:\n",
    "                value = True\n",
    "            else:\n",
    "                charmap[s[i]] = t[i]\n",
    "        return value   \n",
    "\n",
    "\n",
    "#driver code\n",
    "s = \"egg\"\n",
    "t = \"add\"\n",
    "print(isomorphic(s,t))"
   ]
  },
  {
   "cell_type": "markdown",
   "id": "4551cb64",
   "metadata": {},
   "source": [
    "**Question 2**\n",
    "Given a string num which represents an integer, return true *if* num *is a **strobogrammatic number***.\n",
    "\n",
    "A **strobogrammatic number** is a number that looks the same when rotated 180 degrees (looked at upside down).\n",
    "\n",
    "**Example 1:**\n",
    "\n",
    "**Input:** num = \"69\"\n",
    "\n",
    "**Output:**\n",
    "\n",
    "true"
   ]
  },
  {
   "cell_type": "code",
   "execution_count": 2,
   "id": "7a9ec7c7",
   "metadata": {},
   "outputs": [
    {
     "name": "stdout",
     "output_type": "stream",
     "text": [
      "True\n"
     ]
    }
   ],
   "source": [
    "def is_strobo(num: str)-> bool:\n",
    "    #strobogrammatic_pairs\n",
    "    sp= {'0':'0', '1':'1', '6':'9', '8':'8', '9':'6'}\n",
    "    left,right = 0, len(num)-1\n",
    "    \n",
    "    while left<=right:\n",
    "        if num[left] not in sp or sp[num[left]]!=num[right]:\n",
    "            return False\n",
    "        left+=1\n",
    "        right-=1\n",
    "        \n",
    "    return True\n",
    "        \n",
    "#driver code\n",
    "num = \"88\"\n",
    "print(is_strobo(num))"
   ]
  },
  {
   "cell_type": "markdown",
   "id": "0bd03d24",
   "metadata": {},
   "source": [
    "**Question 3**\n",
    "\n"
   ]
  },
  {
   "cell_type": "markdown",
   "id": "5ac0e8d7",
   "metadata": {},
   "source": [
    "Given two non-negative integers, num1 and num2 represented as string, return *the sum of* num1 *and* num2 *as a string*.\n",
    "\n",
    "You must solve the problem without using any built-in library for handling large integers (such as BigInteger). You must also not convert the inputs to integers directly.\n",
    "\n",
    "**Example 1:**\n",
    "\n",
    "**Input:** num1 = \"11\", num2 = \"123\"\n",
    "\n",
    "**Output:**\n",
    "\n",
    "\"134\""
   ]
  },
  {
   "cell_type": "code",
   "execution_count": 3,
   "id": "3ee2c0f0",
   "metadata": {},
   "outputs": [
    {
     "name": "stdout",
     "output_type": "stream",
     "text": [
      "134\n"
     ]
    }
   ],
   "source": [
    "def add_strings(num1: str, num2: str)->str:\n",
    "    result=[]\n",
    "    carry = 0\n",
    "    i,j = len(num1)-1, len(num2)-1\n",
    "    \n",
    "    \n",
    "    while i>=0 or j>=0 or carry>0:\n",
    "        digit1 = int(num1[i]) if i>=0 else 0\n",
    "        digit2 = int(num2[j]) if j>=0 else 0        \n",
    "        digit_sum = digit1 + digit2 + carry\n",
    "        carry = digit_sum //10\n",
    "        digit_sum %=10\n",
    "        result.append(str(digit_sum))\n",
    "        i-=1\n",
    "        j-=1\n",
    "    return ''.join(result[::-1])\n",
    "#driver code\n",
    "num1 = \"11\"\n",
    "num2 = \"123\"\n",
    "print(add_strings(num1,num2))"
   ]
  },
  {
   "cell_type": "markdown",
   "id": "8fc27955",
   "metadata": {},
   "source": [
    "**Question 4**\n",
    "\n",
    "\n"
   ]
  },
  {
   "cell_type": "markdown",
   "id": "ef966484",
   "metadata": {},
   "source": [
    "Given a string s, reverse the order of characters in each word within a sentence while still preserving whitespace and initial word order.\n",
    "\n",
    "**Example 1:**\n",
    "\n",
    "**Input:** s = \"Let's take LeetCode contest\"\n",
    "\n",
    "**Output:** \"s'teL ekat edoCteeL tsetnoc\""
   ]
  },
  {
   "cell_type": "code",
   "execution_count": 4,
   "id": "03ebe4fb",
   "metadata": {},
   "outputs": [
    {
     "name": "stdout",
     "output_type": "stream",
     "text": [
      "s'teL ekat edoCteeL tsetnoc\n"
     ]
    }
   ],
   "source": [
    "def string_reverse(sen: str)-> str:\n",
    "    j=0\n",
    "    k=0\n",
    "    result = \"\"\n",
    "    for i in range(len(sen)):\n",
    "        if sen[i] == ' ':\n",
    "            k=i-1\n",
    "            while k>=j:\n",
    "                result = result + sen[k]\n",
    "                k -= 1\n",
    "            j=i+1\n",
    "            result = result + \" \"\n",
    "        elif i == len(sen)-1:\n",
    "            while i>=j:\n",
    "                result = result + sen[i]\n",
    "                i -= 1\n",
    "    return result\n",
    "\n",
    "# driver code\n",
    "sen = \"Let's take LeetCode contest\"\n",
    "print(string_reverse(sen))"
   ]
  },
  {
   "cell_type": "markdown",
   "id": "afa1201f",
   "metadata": {},
   "source": [
    "💡 **Question 5**\n",
    "\n"
   ]
  },
  {
   "cell_type": "markdown",
   "id": "247b5228",
   "metadata": {},
   "source": [
    "Given a string s and an integer k, reverse the first k characters for every 2k characters counting from the start of the string.\n",
    "If there are fewer than k characters left, reverse all of them. If there are less than 2k but greater than or equal to k \n",
    "characters, then reverse the first k characters and leave the other as original.\n",
    "\n",
    "**Example 1:**\n",
    "\n",
    "**Input:** s = \"abcdefg\", k = 2\n",
    "\n",
    "**Output:**\n",
    "\n",
    "\"bacdfeg\""
   ]
  },
  {
   "cell_type": "code",
   "execution_count": 5,
   "id": "87cf44eb",
   "metadata": {},
   "outputs": [
    {
     "name": "stdout",
     "output_type": "stream",
     "text": [
      "bacdfeg\n"
     ]
    }
   ],
   "source": [
    "def reverse_string(s,k):\n",
    "    return s[k-1::-1]+s[k:]\n",
    "def reverse_order(s: str,k: int)-> int:\n",
    "    i=1\n",
    "    j=0\n",
    "    ns =\"\"\n",
    "    m = len(s)//(2*k)\n",
    "    n = len(s)%(2*k)\n",
    "    if m==0 and len(s)>=k:\n",
    "        return s[k-1::-1] + s[k:]\n",
    "    else:\n",
    "        while i<=m:\n",
    "            ns= ns + s[j:j+(2*k)][k-1::-1]+s[j+k:j+(2*k)]\n",
    "            i+=1\n",
    "            j+=(2*k)\n",
    "        if n<=k:\n",
    "            return ns+s[j:][::-1]\n",
    "        else:\n",
    "            return ns+s[j:][k-1::-1]+s[j+k]\n",
    "    \n",
    "# driver code\n",
    "s = \"abcdefg\"\n",
    "k = 2\n",
    "print(reverse_order(s,k))"
   ]
  },
  {
   "cell_type": "markdown",
   "id": "ed88a8f2",
   "metadata": {},
   "source": [
    "**Question 6**\n",
    "\n",
    "\n"
   ]
  },
  {
   "cell_type": "markdown",
   "id": "619ee104",
   "metadata": {},
   "source": [
    "Given two strings s and goal, return true *if and only if* s *can become* goal *after some number of **shifts** on* s.\n",
    "\n",
    "A **shift** on s consists of moving the leftmost character of s to the rightmost position.\n",
    "\n",
    "- For example, if s = \"abcde\", then it will be \"bcdea\" after one shift.\n",
    "\n",
    "**Example 1:**\n",
    "\n",
    "**Input:** s = \"abcde\", goal = \"cdeab\"\n",
    "\n",
    "**Output:**\n",
    "\n",
    "true"
   ]
  },
  {
   "cell_type": "code",
   "execution_count": 6,
   "id": "9246d86f",
   "metadata": {},
   "outputs": [
    {
     "name": "stdout",
     "output_type": "stream",
     "text": [
      "True\n"
     ]
    }
   ],
   "source": [
    "def shifts(s: str,goal: str)-> bool:\n",
    "    original = s\n",
    "    s = s[1:]+s[0]\n",
    "    while s!=original:\n",
    "        if s==goal:\n",
    "            return True\n",
    "        else:\n",
    "            s = s[1:]+s[0]\n",
    "    return False\n",
    "\n",
    "#driver code\n",
    "s = \"abcde\"\n",
    "goal = \"cdeab\"\n",
    "print(shifts(s,goal))\n"
   ]
  },
  {
   "cell_type": "markdown",
   "id": "d17bfeee",
   "metadata": {},
   "source": [
    "**Question 7**\n",
    "\n",
    "\n"
   ]
  },
  {
   "cell_type": "markdown",
   "id": "3e17912d",
   "metadata": {},
   "source": [
    "Given two strings s and t, return true *if they are equal when both are typed into empty text editors*. '#' means a backspace character.\n",
    "\n",
    "Note that after backspacing an empty text, the text will continue empty.\n",
    "\n",
    "**Example 1:**\n",
    "\n",
    "**Input:** s = \"ab#c\", t = \"ad#c\"\n",
    "\n",
    "**Output:** true\n",
    "\n",
    "**Explanation:**\n",
    "\n",
    "Both s and t become \"ac\"."
   ]
  },
  {
   "cell_type": "code",
   "execution_count": 7,
   "id": "8b714445",
   "metadata": {},
   "outputs": [
    {
     "name": "stdout",
     "output_type": "stream",
     "text": [
      "True\n"
     ]
    }
   ],
   "source": [
    "def equal(s: str, t: str)->bool:\n",
    "    s_new = \"\"\n",
    "    t_new = \"\"\n",
    "    for i in range(len(s)):\n",
    "        if s[i]!= \"#\":\n",
    "            s_new = s_new+s[i]\n",
    "        else:\n",
    "            s_new = s_new[0:i-1]\n",
    "    for j in range(len(t)):\n",
    "        if t[j]!= \"#\":\n",
    "            t_new = t_new+t[j]\n",
    "        else:\n",
    "            t_new = t_new[0:j-1]\n",
    "    if s_new == t_new:\n",
    "        return True\n",
    "    else:\n",
    "        return False\n",
    "\n",
    "# driver code\n",
    "s = \"ab#c\"\n",
    "t = \"ad#c\"\n",
    "print(equal(s,t))"
   ]
  },
  {
   "cell_type": "markdown",
   "id": "92f14003",
   "metadata": {},
   "source": [
    "**Question 8**\n",
    "\n",
    "\n"
   ]
  },
  {
   "cell_type": "markdown",
   "id": "fb4ea10b",
   "metadata": {},
   "source": [
    "💡 **Question 8**\n",
    "\n",
    "You are given an array coordinates, coordinates[i] = [x, y], where [x, y] represents the coordinate of a point. Check if these points make a straight line in the XY plane.\n",
    "\n",
    "**Example 1:**\n",
    "**Input:** coordinates = [[1,2],[2,3],[3,4],[4,5],[5,6],[6,7]]\n",
    "\n",
    "**Output:** true\n"
   ]
  },
  {
   "cell_type": "code",
   "execution_count": 8,
   "id": "ae41e8e2",
   "metadata": {},
   "outputs": [
    {
     "name": "stdout",
     "output_type": "stream",
     "text": [
      "True\n"
     ]
    }
   ],
   "source": [
    "def st_line(c: list)-> bool:\n",
    "    m = (c[1][1]-c[0][1])//(c[1][0]-c[0][0])\n",
    "    for i in range(len(c)-1):\n",
    "        k = (c[i+1][1]-c[i][1])//(c[i+1][0]-c[i][0])\n",
    "        if k != m:\n",
    "            return False\n",
    "        else:\n",
    "            continue\n",
    "    return True\n",
    "        \n",
    "#driver code\n",
    "coordinates = [[1,2],[2,3],[3,4],[4,5],[5,6],[6,7]]\n",
    "print(st_line(coordinates))"
   ]
  }
 ],
 "metadata": {
  "kernelspec": {
   "display_name": "Python 3 (ipykernel)",
   "language": "python",
   "name": "python3"
  },
  "language_info": {
   "codemirror_mode": {
    "name": "ipython",
    "version": 3
   },
   "file_extension": ".py",
   "mimetype": "text/x-python",
   "name": "python",
   "nbconvert_exporter": "python",
   "pygments_lexer": "ipython3",
   "version": "3.9.13"
  }
 },
 "nbformat": 4,
 "nbformat_minor": 5
}
