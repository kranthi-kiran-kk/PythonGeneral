{
 "cells": [
  {
   "cell_type": "code",
   "execution_count": null,
   "id": "19cb8217",
   "metadata": {
    "colab": {
     "base_uri": "https://localhost:8080/"
    },
    "id": "19cb8217",
    "outputId": "0d62d6b2-605d-4812-ebb6-f4e0172f519f"
   },
   "outputs": [],
   "source": [
    "#1.Write a Python program to print \"Hello Python\"?\n",
    "\n",
    "def hello():\n",
    "  print('\"Hello Python\"')\n",
    "\n",
    "hello()\n",
    "\n"
   ]
  },
  {
   "cell_type": "code",
   "execution_count": null,
   "id": "ad142058",
   "metadata": {
    "colab": {
     "base_uri": "https://localhost:8080/"
    },
    "id": "ad142058",
    "outputId": "95e9c2f6-7b4d-4cee-8bdc-5898d3a46c05"
   },
   "outputs": [],
   "source": [
    "#2.\tWrite a Python program to do arithmetical operations addition and division.?\n",
    "\n",
    "\n",
    "def addition(*arga):\n",
    "  i = 0\n",
    "  for arg in arga:\n",
    "    i = i+arg\n",
    "  return i\n",
    "\n",
    "def division(a,b):\n",
    "  return a/b\n",
    "\n",
    "a = addition(1,2,3)\n",
    "d = division(1,2)\n",
    "\n",
    "print(f\"addition = {a}\")\n",
    "print(f\"division = {d}\")\n",
    "\n"
   ]
  },
  {
   "cell_type": "code",
   "execution_count": null,
   "id": "11bd0114",
   "metadata": {
    "colab": {
     "base_uri": "https://localhost:8080/"
    },
    "id": "11bd0114",
    "outputId": "4d4887ea-749c-4a0c-c447-2c87533cf61f"
   },
   "outputs": [],
   "source": [
    "#3.\tWrite a Python program to find the area of a triangle?\n",
    "\n",
    "import math\n",
    "\n",
    "def area_of_triangle(a,b,c):\n",
    "  s = (a+b+c)/2\n",
    "  area = math.sqrt(s*(s-a)*(s-b)*(s-c))\n",
    "  return area\n",
    "\n",
    "s1= float(input(\"Enter the length of side 1 of Traiangle \"))\n",
    "s2= float(input(\"Enter the length of side 2 of Traiangle \"))\n",
    "s3= float(input(\"Enter the length of side 3 of Traiangle \"))\n",
    "\n",
    "Area = area_of_triangle(s1,s2,s3)\n",
    "\n",
    "print(f\"Area of triangle is {round(Area,2)} sq units\")\n"
   ]
  },
  {
   "cell_type": "code",
   "execution_count": null,
   "id": "a3413670",
   "metadata": {
    "colab": {
     "base_uri": "https://localhost:8080/"
    },
    "id": "a3413670",
    "outputId": "593bf3ad-b82a-4926-b53b-18b5705e7289"
   },
   "outputs": [],
   "source": [
    "#4.\tWrite a Python program to swap two variables?\n",
    "\n",
    "a = 10\n",
    "b = 20\n",
    "\n",
    "def swap(a,b):\n",
    "  a,b = b,a\n",
    "  return a,b\n",
    "\n",
    "a,b = swap(a,b)\n",
    "\n",
    "print(a,b)"
   ]
  },
  {
   "cell_type": "code",
   "execution_count": null,
   "id": "d021c6e0",
   "metadata": {
    "colab": {
     "base_uri": "https://localhost:8080/"
    },
    "id": "d021c6e0",
    "outputId": "ec45dab3-08bc-4c12-a7ed-0df2631ae663"
   },
   "outputs": [],
   "source": [
    "#5.\tWrite a Python program to generate a random number?\n",
    "\n",
    "import random\n",
    "\n",
    "def random_num():\n",
    "  r = random.randint(0,1000000)\n",
    "  return r\n",
    "\n",
    "print(random_num())\n"
   ]
  },
  {
   "cell_type": "code",
   "execution_count": null,
   "id": "KophYdITdEAH",
   "metadata": {
    "id": "KophYdITdEAH"
   },
   "outputs": [],
   "source": []
  }
 ],
 "metadata": {
  "colab": {
   "provenance": []
  },
  "kernelspec": {
   "display_name": "Python 3 (ipykernel)",
   "language": "python",
   "name": "python3"
  },
  "language_info": {
   "codemirror_mode": {
    "name": "ipython",
    "version": 3
   },
   "file_extension": ".py",
   "mimetype": "text/x-python",
   "name": "python",
   "nbconvert_exporter": "python",
   "pygments_lexer": "ipython3",
   "version": "3.9.13"
  }
 },
 "nbformat": 4,
 "nbformat_minor": 5
}
