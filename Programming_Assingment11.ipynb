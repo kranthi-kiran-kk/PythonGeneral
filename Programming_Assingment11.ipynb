{
 "cells": [
  {
   "cell_type": "code",
   "execution_count": null,
   "id": "d6ff9055",
   "metadata": {},
   "outputs": [],
   "source": [
    "# Assignment 11\n",
    "# 1.\tWrite a Python program to find words which are greater than given length k?\n",
    "\n",
    "def word_find(k,list_of_words):\n",
    "    words_found = []\n",
    "    for words in list_of_words:\n",
    "        if type(words) == str:\n",
    "            if len(words) > k:\n",
    "                words_found.append(words)\n",
    "    return words_found\n",
    "\n",
    "k = 3\n",
    "L = ['where','what','why','How',33333]\n",
    "\n",
    "wrds = word_find(k,L)\n",
    "print(wrds)\n",
    "            \n",
    "\n"
   ]
  },
  {
   "cell_type": "code",
   "execution_count": null,
   "id": "bccad029",
   "metadata": {},
   "outputs": [],
   "source": [
    "# 2.\tWrite a Python program for removing i-th character from a string?\n",
    "\n",
    "def char_remove(i,word):\n",
    "    if type(word) == str:\n",
    "        word = word.replace(word[i],\"\")\n",
    "    return(word)\n",
    "\n",
    "i = 0\n",
    "K = 'ineuron'\n",
    "wrd = char_remove(i,K)\n",
    "print(wrd)\n"
   ]
  },
  {
   "cell_type": "code",
   "execution_count": null,
   "id": "37526de8",
   "metadata": {},
   "outputs": [],
   "source": [
    "# 3.\tWrite a Python program to split and join a string?\n",
    "\n",
    "def split_string(i,string):\n",
    "    newstring = ''\n",
    "    newstring2 = ''\n",
    "    for k in range(0,i):\n",
    "        newstring = newstring + string[k]\n",
    "    for k in range(i,len(string)):\n",
    "        newstring2 = newstring2 + string[k]\n",
    "    return(newstring,newstring2)\n",
    "\n",
    "i = 2\n",
    "K = 'ineuron'\n",
    "wrd1,wrd2 = split_string(i,K)\n",
    "print(wrd1,wrd2)\n",
    "\n",
    "def join_string(string1,string2):\n",
    "    newstring = string1+string2\n",
    "    return(newstring)\n",
    "\n",
    "wrd3 = join_string(wrd1,wrd2)\n",
    "print(wrd3)\n",
    "            \n"
   ]
  },
  {
   "cell_type": "code",
   "execution_count": 29,
   "id": "53512b68",
   "metadata": {},
   "outputs": [
    {
     "name": "stdout",
     "output_type": "stream",
     "text": [
      "The given string is a binary string\n",
      "The given string is not a binary string\n"
     ]
    }
   ],
   "source": [
    "# 4.\tWrite a Python to check if a given string is binary string or not?\n",
    "\n",
    "def check_binary_string(input_string):\n",
    "    t = {'0','1'}\n",
    "    input_string = set(input_string)\n",
    "    #print(input_string)\n",
    "    if t == input_string or input_string == {\"0\"} or input_string == {'1'}:\n",
    "        print(f\"The given string is a binary string\")\n",
    "    else:\n",
    "        print(f\"The given string is not a binary string\")\n",
    "              \n",
    "        \n",
    "S1 = \"10101010101\"\n",
    "S2 = \"1h\"\n",
    "\n",
    "check_binary_string(S1)\n",
    "check_binary_string(S2)"
   ]
  },
  {
   "cell_type": "code",
   "execution_count": 35,
   "id": "9dab7a9e",
   "metadata": {},
   "outputs": [
    {
     "name": "stdout",
     "output_type": "stream",
     "text": [
      "['the', 'and']\n"
     ]
    }
   ],
   "source": [
    "# 5.\tWrite a Python program to find uncommon words from two Strings?\n",
    "\n",
    "def not_common(string1,string2):\n",
    "    words = []\n",
    "    S1 = string1.split(\" \")\n",
    "    S2 = string2.split(\" \")\n",
    "    if len(S1)>len(S2):\n",
    "        k = S1\n",
    "    else:\n",
    "        k = S2\n",
    "    for ele in k:\n",
    "        if ele not in S1:\n",
    "            words.append(ele)          \n",
    "    return words\n",
    "\n",
    "string1 = \"Code with python Java\"\n",
    "string2 = \"Code with the python and Java\"\n",
    "\n",
    "L = not_common(string1,string2)\n",
    "print(L)"
   ]
  },
  {
   "cell_type": "code",
   "execution_count": 41,
   "id": "5278d547",
   "metadata": {},
   "outputs": [
    {
     "name": "stdout",
     "output_type": "stream",
     "text": [
      "{'i', 'e', 'u', 'n'}\n"
     ]
    }
   ],
   "source": [
    "# 6.\tWrite a Python to find all duplicate characters in string?\n",
    "\n",
    "def duplicate(string1):\n",
    "    duplicates = []\n",
    "    for i in string1:\n",
    "        k = string1.count(i)\n",
    "        if k>1:\n",
    "            duplicates.append(i)\n",
    "    return set(duplicates)\n",
    "\n",
    "string1 = 'ineuronieu'\n",
    "\n",
    "K = duplicate(string1)\n",
    "print(K) \n",
    "\n"
   ]
  },
  {
   "cell_type": "code",
   "execution_count": 55,
   "id": "12013479",
   "metadata": {},
   "outputs": [
    {
     "name": "stdout",
     "output_type": "stream",
     "text": [
      "Yes, given string contains special characters\n"
     ]
    }
   ],
   "source": [
    "# 7.\tWrite a Python Program to check if a string contains any special character?\n",
    "import re\n",
    "\n",
    "def check_special(str):\n",
    "    regex = \"[^a-zA-Z0-9]\"\n",
    "    k = re.compile(regex)\n",
    "    if len(str ) == 0:\n",
    "        print(\"No\")\n",
    "        return\n",
    "    for i in str:\n",
    "        if(re.search(k,i)):\n",
    "            print(\"Yes, given string contains special characters\")\n",
    "            break\n",
    "        else:\n",
    "            continue\n",
    "    else:\n",
    "        print(\"No, the given string does not contain any special character\")\n",
    "\n",
    "string1 = \"ineuron#5\"\n",
    "check_special(string1)\n"
   ]
  },
  {
   "cell_type": "code",
   "execution_count": null,
   "id": "292fa10b",
   "metadata": {},
   "outputs": [],
   "source": []
  }
 ],
 "metadata": {
  "kernelspec": {
   "display_name": "Python 3 (ipykernel)",
   "language": "python",
   "name": "python3"
  },
  "language_info": {
   "codemirror_mode": {
    "name": "ipython",
    "version": 3
   },
   "file_extension": ".py",
   "mimetype": "text/x-python",
   "name": "python",
   "nbconvert_exporter": "python",
   "pygments_lexer": "ipython3",
   "version": "3.9.13"
  }
 },
 "nbformat": 4,
 "nbformat_minor": 5
}
