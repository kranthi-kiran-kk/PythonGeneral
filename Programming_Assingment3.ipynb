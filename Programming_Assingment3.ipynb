{
 "cells": [
  {
   "cell_type": "code",
   "execution_count": null,
   "id": "d0e4dc0c",
   "metadata": {
    "colab": {
     "base_uri": "https://localhost:8080/"
    },
    "id": "d0e4dc0c",
    "outputId": "835d316b-3338-44c0-91a8-84ae1d549ac3"
   },
   "outputs": [],
   "source": [
    "#1.\tWrite a Python Program to Check if a Number is Positive, Negative or Zero?\n",
    "\n",
    "def check(num):\n",
    "  if num>0:\n",
    "    print(\"The given number is Positive\")\n",
    "  elif num < 0:\n",
    "    print(\"The given number is Negative\")\n",
    "  else:\n",
    "    print(\"The given number is Zero\")\n",
    "\n",
    "num = float(input(\"Enter the number \"))\n",
    "\n",
    "check(num)"
   ]
  },
  {
   "cell_type": "code",
   "execution_count": null,
   "id": "e61b03bb",
   "metadata": {
    "colab": {
     "base_uri": "https://localhost:8080/"
    },
    "id": "e61b03bb",
    "outputId": "f8f3b943-c5c4-4eb4-80dc-aab4891a7e63"
   },
   "outputs": [],
   "source": [
    "#2.\tWrite a Python Program to Check if a Number is Odd or Even?\n",
    "\n",
    "def check(num):\n",
    "  if num % 2 == 0:\n",
    "    print(\"The given number is Even\")\n",
    "  else:\n",
    "    print(\"The given number is Odd\")\n",
    "\n",
    "\n",
    "num = float(input(\"Enter the number \"))\n",
    "\n",
    "check(num)\n"
   ]
  },
  {
   "cell_type": "code",
   "execution_count": null,
   "id": "1dc72f44",
   "metadata": {
    "colab": {
     "base_uri": "https://localhost:8080/"
    },
    "id": "1dc72f44",
    "outputId": "7ad2d79d-3d30-4c41-8334-fa45215ecbc5"
   },
   "outputs": [],
   "source": [
    "#3.\tWrite a Python Program to Check Leap Year?\n",
    "\n",
    "def check_leap(year):\n",
    "  if year%4 == 0:\n",
    "    if year%100 == 0:\n",
    "      if year % 400 == 0:\n",
    "        print(\"The given year is a Leap Year\")\n",
    "      else:\n",
    "        print(\"The given year is a not Leap Year\")\n",
    "    else:\n",
    "       print(\"The given year is a Leap Year\")\n",
    "  else:\n",
    "    print(\"The given year is a not Leap Year\")\n",
    "\n",
    "\n",
    "year = float(input(\"Enter the Year \"))\n",
    "\n",
    "check_leap(year)\n"
   ]
  },
  {
   "cell_type": "code",
   "execution_count": null,
   "id": "10ec1d8a",
   "metadata": {
    "colab": {
     "base_uri": "https://localhost:8080/"
    },
    "id": "10ec1d8a",
    "outputId": "95db66b4-4004-4d60-d40d-7d01b350e7e9"
   },
   "outputs": [],
   "source": [
    "#4.\tWrite a Python Program to Check Prime Number?\n",
    "\n",
    "def check(num):\n",
    "  i = 2\n",
    "  while i < num:\n",
    "    if num % i == 0:\n",
    "      break\n",
    "    else:\n",
    "      i = i+1\n",
    "      continue\n",
    "  if i == num:\n",
    "    print(f\"{num} is a Prime Number\")\n",
    "  else:\n",
    "    print(f\"{num} is not a Prime Number\")\n",
    "\n",
    "num = int(input(\"Enter the number \"))\n",
    "\n",
    "check(num)\n"
   ]
  },
  {
   "cell_type": "code",
   "execution_count": null,
   "id": "b785c4a2",
   "metadata": {
    "colab": {
     "base_uri": "https://localhost:8080/"
    },
    "id": "b785c4a2",
    "outputId": "d0f3e618-2429-42b7-fa79-41dfc042922e"
   },
   "outputs": [],
   "source": [
    "#5.\tWrite a Python Program to Print all Prime Numbers in an Interval of 1-10000?\n",
    "\n",
    "def check(final_num):\n",
    "  list1 = []\n",
    "  for num in range(2,final_num+1):\n",
    "    k = 1\n",
    "    for i in range(2,num):\n",
    "      if num % i == 0:\n",
    "        break\n",
    "      else:\n",
    "        k = i\n",
    "        continue\n",
    "    \n",
    "    if k+1 == num:\n",
    "      list1.append(num)\n",
    "  print(f\"Prime numbers in the interval 1 - {final_num} are {list1}\")\n",
    "\n",
    "final_number = int(input(\"Enter the Last number of the range \"))\n",
    "\n",
    "check(final_number)\n",
    " \n",
    "\n",
    "    "
   ]
  },
  {
   "cell_type": "code",
   "execution_count": null,
   "id": "h8rZMLG-06Ca",
   "metadata": {
    "id": "h8rZMLG-06Ca"
   },
   "outputs": [],
   "source": []
  }
 ],
 "metadata": {
  "colab": {
   "provenance": []
  },
  "kernelspec": {
   "display_name": "Python 3 (ipykernel)",
   "language": "python",
   "name": "python3"
  },
  "language_info": {
   "codemirror_mode": {
    "name": "ipython",
    "version": 3
   },
   "file_extension": ".py",
   "mimetype": "text/x-python",
   "name": "python",
   "nbconvert_exporter": "python",
   "pygments_lexer": "ipython3",
   "version": "3.9.13"
  }
 },
 "nbformat": 4,
 "nbformat_minor": 5
}
