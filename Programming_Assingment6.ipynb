{
 "cells": [
  {
   "cell_type": "code",
   "execution_count": null,
   "id": "72c02a55",
   "metadata": {},
   "outputs": [],
   "source": [
    "#1.\tWrite a Python Program to Display Fibonacci Sequence Using Recursion?\n",
    "\n",
    "num = eval(input(\"Enter number of terms of fibonaci Sequence is required\"))\n",
    "\n",
    "\n",
    "def fibonaci(n,a,b):\n",
    "    i=0\n",
    "    c = a+b\n",
    "    if i < n:\n",
    "        #print(f\"a = {a}, b = {b}\", end= \" \")\n",
    "        #print(f\"c = {c}\", end = \" \")\n",
    "        print(a,end = \" \")\n",
    "        a = b\n",
    "        b = c\n",
    "        fibonaci(n-1,a,b)\n",
    "    \n",
    "fibonaci(num,0,1)\n",
    "    "
   ]
  },
  {
   "cell_type": "code",
   "execution_count": null,
   "id": "ec8aea1f",
   "metadata": {},
   "outputs": [],
   "source": [
    "#2.\tWrite a Python Program to Find Factorial of Number Using Recursion?\n",
    "\n",
    "num = eval(input(\"Enter number for which factorial is required \\n\"))\n",
    "\n",
    "def factorial(n):\n",
    "    \n",
    "    if n == 1 or n == 0:\n",
    "        return 1\n",
    "    else:\n",
    "        return (n * factorial(n-1))\n",
    "    \n",
    "\n",
    "factorial(num)\n",
    "        \n",
    "    \n"
   ]
  },
  {
   "cell_type": "code",
   "execution_count": null,
   "id": "8cca3839",
   "metadata": {},
   "outputs": [],
   "source": [
    "#3.\tWrite a Python Program to calculate your Body Mass Index?\n",
    "\n",
    "h = eval(input(\"Enter your Height in cm\"))\n",
    "w = eval(input(\"Enter your Weight in Kg\"))\n",
    "\n",
    "def bmi(h,w):\n",
    "    k = (w/(h*h))*10000\n",
    "    return k\n",
    "\n",
    "print (f\"Your BMI is {round(bmi(h,w),1)}\")"
   ]
  },
  {
   "cell_type": "code",
   "execution_count": null,
   "id": "c90b6af0",
   "metadata": {},
   "outputs": [],
   "source": [
    "#4.\tWrite a Python Program to calculate the natural logarithm of any number?\n",
    "\n",
    "num = eval(input(\"Enter number for which natural logaritm is required \\n\"))\n",
    "\n",
    "def logarithm(n):\n",
    "    import math\n",
    "    print (f\"Natural logarithm of {n} is : {round(math.log(n),3)}\")\n",
    "\n",
    "logarithm(num)\n",
    " \n"
   ]
  },
  {
   "cell_type": "code",
   "execution_count": null,
   "id": "d6adadd4",
   "metadata": {},
   "outputs": [],
   "source": [
    "#5.\tWrite a Python Program for cube sum of first n natural numbers?\n",
    "\n",
    "num = eval(input(\"Enter number until which sum of cubes is required \\n\"))\n",
    "\n",
    "def cube_sum(n):\n",
    "    import math\n",
    "    sum = math.pow((n*(n+1)/2),2)\n",
    "    print (f\"Cube sum of {n} natural numbers is : {sum}\")\n",
    "\n",
    "cube_sum(num)"
   ]
  }
 ],
 "metadata": {
  "kernelspec": {
   "display_name": "Python 3 (ipykernel)",
   "language": "python",
   "name": "python3"
  },
  "language_info": {
   "codemirror_mode": {
    "name": "ipython",
    "version": 3
   },
   "file_extension": ".py",
   "mimetype": "text/x-python",
   "name": "python",
   "nbconvert_exporter": "python",
   "pygments_lexer": "ipython3",
   "version": "3.9.13"
  }
 },
 "nbformat": 4,
 "nbformat_minor": 5
}
