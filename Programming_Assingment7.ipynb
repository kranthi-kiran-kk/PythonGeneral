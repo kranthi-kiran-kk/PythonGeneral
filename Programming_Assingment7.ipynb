{
 "cells": [
  {
   "cell_type": "code",
   "execution_count": null,
   "id": "5f6eda38",
   "metadata": {},
   "outputs": [],
   "source": [
    "#1.\tWrite a Python Program to find sum of array?\n",
    "\n",
    "def sum_of_array():\n",
    "    arr = eval(input(\"Enter the values of array (enclosed in [] and seperated by ,) \\n\"))\n",
    "    print(f\"Sum of the give array is {sum(arr)}\")\n",
    "    \n",
    "sum_of_array()\n"
   ]
  },
  {
   "cell_type": "code",
   "execution_count": null,
   "id": "76834d64",
   "metadata": {},
   "outputs": [],
   "source": [
    "#2.\tWrite a Python Program to find largest element in an array?\n",
    "\n",
    "def largest_element():\n",
    "    arr = eval(input(\"Enter the values of array (enclosed in [] and seperated by ,) \\n\"))\n",
    "    print(f\"largest number of the give array is {max(arr)}\")\n",
    "    \n",
    "largest_element()\n",
    "    \n"
   ]
  },
  {
   "cell_type": "code",
   "execution_count": null,
   "id": "8e8bb000",
   "metadata": {},
   "outputs": [],
   "source": [
    "#3.\tWrite a Python Program for array rotation?\n",
    "\n",
    "def array_rotation():\n",
    "    arr = eval(input(\"Enter the values of array (enclosed in [] and seperated by ,) \\n\"))\n",
    "    print(f\"Rotating the give array gives us {arr[: : -1]}\")\n",
    "    \n",
    "array_rotation()\n",
    "    \n",
    "\n"
   ]
  },
  {
   "cell_type": "code",
   "execution_count": null,
   "id": "9860dda3",
   "metadata": {},
   "outputs": [],
   "source": [
    "#4.\tWrite a Python Program to Split the array and add the first part to the end?\n",
    "\n",
    "def split_array():\n",
    "    arr = eval(input(\"Enter the values of array (enclosed in [] and seperated by ,) \\n\"))\n",
    "    k = eval(input(\" Enter the index till which array is to be splitted \"))\n",
    "    b = a[:k+1]\n",
    "    c = a[k+1:] + b\n",
    "    print(f\"The resultant array is {c}\")\n",
    "\n",
    "split_array()\n",
    "\n"
   ]
  },
  {
   "cell_type": "code",
   "execution_count": null,
   "id": "bf2e0a28",
   "metadata": {},
   "outputs": [],
   "source": [
    "#5.\tWrite a Python Program to check if given array is Monotonic?\n",
    "\n",
    "\n",
    "def is_array_monotonic():\n",
    "    arr = eval(input(\"Enter the values of array (enclosed in [] and seperated by ,) \\n\"))\n",
    "    increasing = True\n",
    "    decreasing = True\n",
    "    for i in range(1,len(arr)):\n",
    "        \n",
    "        if arr[i] < arr[i-1]:\n",
    "            decreasing = False            \n",
    "                \n",
    "    for i in range(1,len(arr)):\n",
    "        if arr[i]> arr[i-1]:\n",
    "            increasing = False\n",
    "            \n",
    "    if increasing or decreasing :\n",
    "        print(f\"The given array {arr} is Monotonic\")\n",
    "        \n",
    "    else:\n",
    "        print(f\"The given array {arr} is not Monotonic\")\n",
    "                     \n",
    "        \n",
    "is_array_monotonic()\n",
    "\n"
   ]
  }
 ],
 "metadata": {
  "kernelspec": {
   "display_name": "Python 3 (ipykernel)",
   "language": "python",
   "name": "python3"
  },
  "language_info": {
   "codemirror_mode": {
    "name": "ipython",
    "version": 3
   },
   "file_extension": ".py",
   "mimetype": "text/x-python",
   "name": "python",
   "nbconvert_exporter": "python",
   "pygments_lexer": "ipython3",
   "version": "3.9.13"
  }
 },
 "nbformat": 4,
 "nbformat_minor": 5
}
