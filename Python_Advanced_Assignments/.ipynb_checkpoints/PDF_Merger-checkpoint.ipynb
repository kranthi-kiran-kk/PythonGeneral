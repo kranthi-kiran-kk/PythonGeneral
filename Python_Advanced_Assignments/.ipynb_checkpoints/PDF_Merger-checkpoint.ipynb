{
 "cells": [
  {
   "cell_type": "code",
   "execution_count": 36,
   "id": "d782a5a7",
   "metadata": {},
   "outputs": [
    {
     "name": "stdout",
     "output_type": "stream",
     "text": [
      "Requirement already satisfied: PyPDF2 in d:\\anaconda\\lib\\site-packages (3.0.1)\n",
      "Requirement already satisfied: typing_extensions>=3.10.0.0 in d:\\anaconda\\lib\\site-packages (from PyPDF2) (4.3.0)\n",
      "Note: you may need to restart the kernel to use updated packages.\n"
     ]
    },
    {
     "name": "stderr",
     "output_type": "stream",
     "text": [
      "WARNING: Ignoring invalid distribution -ymongo (d:\\anaconda\\lib\\site-packages)\n",
      "WARNING: Ignoring invalid distribution -ymongo (d:\\anaconda\\lib\\site-packages)\n",
      "WARNING: Ignoring invalid distribution -ymongo (d:\\anaconda\\lib\\site-packages)\n",
      "WARNING: Ignoring invalid distribution -ymongo (d:\\anaconda\\lib\\site-packages)\n",
      "WARNING: Ignoring invalid distribution -ymongo (d:\\anaconda\\lib\\site-packages)\n",
      "WARNING: Ignoring invalid distribution -ymongo (d:\\anaconda\\lib\\site-packages)\n",
      "\n",
      "[notice] A new release of pip available: 22.3.1 -> 23.2\n",
      "[notice] To update, run: python.exe -m pip install --upgrade pip\n"
     ]
    }
   ],
   "source": [
    "pip install PyPDF2\n"
   ]
  },
  {
   "cell_type": "code",
   "execution_count": 37,
   "id": "39e484b8",
   "metadata": {},
   "outputs": [
    {
     "name": "stdout",
     "output_type": "stream",
     "text": [
      "C:\\Users\\Kranthi Kiran\\Desktop\\ITR\\ITR22-23\\Kranthi\\GSTR3B_37BTBPA4525M1ZQ-AP \n",
      " C:\\Users\\Kranthi Kiran\\Desktop\\ITR\\ITR22-23\\Kranthi\\GSTR3B_36BTBPA4525M1ZS-TS\n"
     ]
    }
   ],
   "source": [
    "import os\n",
    "from pathlib import Path\n",
    "from PyPDF2 import PdfMerger\n",
    "\n",
    "path_one=Path(r\"C:\\Users\\Kranthi Kiran\\Desktop\\ITR\\ITR22-23\\Kranthi\\GSTR3B_37BTBPA4525M1ZQ-AP\")\n",
    "path_two=Path(r\"C:\\Users\\Kranthi Kiran\\Desktop\\ITR\\ITR22-23\\Kranthi\\GSTR3B_36BTBPA4525M1ZS-TS\")\n",
    "\n",
    "print(path_one,\"\\n\",path_two)"
   ]
  },
  {
   "cell_type": "code",
   "execution_count": 38,
   "id": "5b3b1eb0",
   "metadata": {},
   "outputs": [
    {
     "data": {
      "text/plain": [
       "(['C:\\\\Users\\\\Kranthi Kiran\\\\Desktop\\\\ITR\\\\ITR22-23\\\\Kranthi\\\\GSTR3B_37BTBPA4525M1ZQ-AP\\\\GSTR3B_37BTBPA4525M1ZQ_012023.pdf',\n",
       "  'C:\\\\Users\\\\Kranthi Kiran\\\\Desktop\\\\ITR\\\\ITR22-23\\\\Kranthi\\\\GSTR3B_37BTBPA4525M1ZQ-AP\\\\GSTR3B_37BTBPA4525M1ZQ_022023.pdf',\n",
       "  'C:\\\\Users\\\\Kranthi Kiran\\\\Desktop\\\\ITR\\\\ITR22-23\\\\Kranthi\\\\GSTR3B_37BTBPA4525M1ZQ-AP\\\\GSTR3B_37BTBPA4525M1ZQ_032023.pdf',\n",
       "  'C:\\\\Users\\\\Kranthi Kiran\\\\Desktop\\\\ITR\\\\ITR22-23\\\\Kranthi\\\\GSTR3B_37BTBPA4525M1ZQ-AP\\\\GSTR3B_37BTBPA4525M1ZQ_042022.pdf',\n",
       "  'C:\\\\Users\\\\Kranthi Kiran\\\\Desktop\\\\ITR\\\\ITR22-23\\\\Kranthi\\\\GSTR3B_37BTBPA4525M1ZQ-AP\\\\GSTR3B_37BTBPA4525M1ZQ_052022.pdf',\n",
       "  'C:\\\\Users\\\\Kranthi Kiran\\\\Desktop\\\\ITR\\\\ITR22-23\\\\Kranthi\\\\GSTR3B_37BTBPA4525M1ZQ-AP\\\\GSTR3B_37BTBPA4525M1ZQ_062022.pdf',\n",
       "  'C:\\\\Users\\\\Kranthi Kiran\\\\Desktop\\\\ITR\\\\ITR22-23\\\\Kranthi\\\\GSTR3B_37BTBPA4525M1ZQ-AP\\\\GSTR3B_37BTBPA4525M1ZQ_072022.pdf',\n",
       "  'C:\\\\Users\\\\Kranthi Kiran\\\\Desktop\\\\ITR\\\\ITR22-23\\\\Kranthi\\\\GSTR3B_37BTBPA4525M1ZQ-AP\\\\GSTR3B_37BTBPA4525M1ZQ_082022.pdf',\n",
       "  'C:\\\\Users\\\\Kranthi Kiran\\\\Desktop\\\\ITR\\\\ITR22-23\\\\Kranthi\\\\GSTR3B_37BTBPA4525M1ZQ-AP\\\\GSTR3B_37BTBPA4525M1ZQ_092022.pdf',\n",
       "  'C:\\\\Users\\\\Kranthi Kiran\\\\Desktop\\\\ITR\\\\ITR22-23\\\\Kranthi\\\\GSTR3B_37BTBPA4525M1ZQ-AP\\\\GSTR3B_37BTBPA4525M1ZQ_102022.pdf',\n",
       "  'C:\\\\Users\\\\Kranthi Kiran\\\\Desktop\\\\ITR\\\\ITR22-23\\\\Kranthi\\\\GSTR3B_37BTBPA4525M1ZQ-AP\\\\GSTR3B_37BTBPA4525M1ZQ_112022.pdf',\n",
       "  'C:\\\\Users\\\\Kranthi Kiran\\\\Desktop\\\\ITR\\\\ITR22-23\\\\Kranthi\\\\GSTR3B_37BTBPA4525M1ZQ-AP\\\\GSTR3B_37BTBPA4525M1ZQ_122022.pdf'],\n",
       " ['C:\\\\Users\\\\Kranthi Kiran\\\\Desktop\\\\ITR\\\\ITR22-23\\\\Kranthi\\\\GSTR3B_36BTBPA4525M1ZS-TS\\\\GSTR3B_36BTBPA4525M1ZS_012023.pdf',\n",
       "  'C:\\\\Users\\\\Kranthi Kiran\\\\Desktop\\\\ITR\\\\ITR22-23\\\\Kranthi\\\\GSTR3B_36BTBPA4525M1ZS-TS\\\\GSTR3B_36BTBPA4525M1ZS_022023.pdf',\n",
       "  'C:\\\\Users\\\\Kranthi Kiran\\\\Desktop\\\\ITR\\\\ITR22-23\\\\Kranthi\\\\GSTR3B_36BTBPA4525M1ZS-TS\\\\GSTR3B_36BTBPA4525M1ZS_032023.pdf',\n",
       "  'C:\\\\Users\\\\Kranthi Kiran\\\\Desktop\\\\ITR\\\\ITR22-23\\\\Kranthi\\\\GSTR3B_36BTBPA4525M1ZS-TS\\\\GSTR3B_36BTBPA4525M1ZS_042022.pdf',\n",
       "  'C:\\\\Users\\\\Kranthi Kiran\\\\Desktop\\\\ITR\\\\ITR22-23\\\\Kranthi\\\\GSTR3B_36BTBPA4525M1ZS-TS\\\\GSTR3B_36BTBPA4525M1ZS_052022.pdf',\n",
       "  'C:\\\\Users\\\\Kranthi Kiran\\\\Desktop\\\\ITR\\\\ITR22-23\\\\Kranthi\\\\GSTR3B_36BTBPA4525M1ZS-TS\\\\GSTR3B_36BTBPA4525M1ZS_062022.pdf',\n",
       "  'C:\\\\Users\\\\Kranthi Kiran\\\\Desktop\\\\ITR\\\\ITR22-23\\\\Kranthi\\\\GSTR3B_36BTBPA4525M1ZS-TS\\\\GSTR3B_36BTBPA4525M1ZS_072022.pdf',\n",
       "  'C:\\\\Users\\\\Kranthi Kiran\\\\Desktop\\\\ITR\\\\ITR22-23\\\\Kranthi\\\\GSTR3B_36BTBPA4525M1ZS-TS\\\\GSTR3B_36BTBPA4525M1ZS_082022.pdf',\n",
       "  'C:\\\\Users\\\\Kranthi Kiran\\\\Desktop\\\\ITR\\\\ITR22-23\\\\Kranthi\\\\GSTR3B_36BTBPA4525M1ZS-TS\\\\GSTR3B_36BTBPA4525M1ZS_092022.pdf',\n",
       "  'C:\\\\Users\\\\Kranthi Kiran\\\\Desktop\\\\ITR\\\\ITR22-23\\\\Kranthi\\\\GSTR3B_36BTBPA4525M1ZS-TS\\\\GSTR3B_36BTBPA4525M1ZS_102022.pdf',\n",
       "  'C:\\\\Users\\\\Kranthi Kiran\\\\Desktop\\\\ITR\\\\ITR22-23\\\\Kranthi\\\\GSTR3B_36BTBPA4525M1ZS-TS\\\\GSTR3B_36BTBPA4525M1ZS_112022.pdf',\n",
       "  'C:\\\\Users\\\\Kranthi Kiran\\\\Desktop\\\\ITR\\\\ITR22-23\\\\Kranthi\\\\GSTR3B_36BTBPA4525M1ZS-TS\\\\GSTR3B_36BTBPA4525M1ZS_122022.pdf'])"
      ]
     },
     "execution_count": 38,
     "metadata": {},
     "output_type": "execute_result"
    }
   ],
   "source": [
    "x = [f\"{path_one}\\\\{a}\" for a in os.listdir(path_one) if a.endswith(\".pdf\")]\n",
    "y = [f\"{path_two}\\\\{a}\" for a in os.listdir(path_two) if a.endswith(\".pdf\")]\n",
    "\n",
    "x,y"
   ]
  },
  {
   "cell_type": "code",
   "execution_count": 39,
   "id": "ef9627ce",
   "metadata": {},
   "outputs": [],
   "source": [
    "merger = PdfMerger()\n",
    "\n",
    "for pdf in x:\n",
    "    merger.append(open(pdf, 'rb'))\n",
    "\n",
    "with open(f\"{path_one}\\\\GSTR3B_37BTBPA4525M1ZQ-AP-22-23.pdf\", \"wb\") as fout:\n",
    "    merger.write(fout)\n",
    "merger.close()"
   ]
  },
  {
   "cell_type": "code",
   "execution_count": 40,
   "id": "6eef92c4",
   "metadata": {},
   "outputs": [],
   "source": [
    "merger2 = PdfMerger()\n",
    "for pdf in y:\n",
    "    merger2.append(open(pdf, 'rb'))\n",
    "\n",
    "with open(f\"{path_two}\\\\GSTR3B_36BTBPA4525M1ZS-TS-22-23.pdf\", \"wb\") as fout:\n",
    "    merger2.write(fout)\n",
    "merger.close()"
   ]
  },
  {
   "cell_type": "code",
   "execution_count": null,
   "id": "24864b2c",
   "metadata": {},
   "outputs": [],
   "source": []
  }
 ],
 "metadata": {
  "kernelspec": {
   "display_name": "Python 3 (ipykernel)",
   "language": "python",
   "name": "python3"
  },
  "language_info": {
   "codemirror_mode": {
    "name": "ipython",
    "version": 3
   },
   "file_extension": ".py",
   "mimetype": "text/x-python",
   "name": "python",
   "nbconvert_exporter": "python",
   "pygments_lexer": "ipython3",
   "version": "3.9.13"
  }
 },
 "nbformat": 4,
 "nbformat_minor": 5
}
