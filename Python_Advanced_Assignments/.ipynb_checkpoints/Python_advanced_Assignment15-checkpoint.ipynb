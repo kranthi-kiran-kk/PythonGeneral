{
 "cells": [
  {
   "cell_type": "code",
   "execution_count": null,
   "id": "c801f3f8",
   "metadata": {},
   "outputs": [],
   "source": [
    "#Assignment15\n",
    "\n",
    "1.\tWhat are the new features added in Python 3.8 version?\n"
   ]
  },
  {
   "cell_type": "code",
   "execution_count": null,
   "id": "a563b4f0",
   "metadata": {},
   "outputs": [],
   "source": [
    "2.\tWhat is monkey patching in Python?\n"
   ]
  },
  {
   "cell_type": "code",
   "execution_count": null,
   "id": "adfac0bc",
   "metadata": {},
   "outputs": [],
   "source": [
    "3.\tWhat is the difference between a shallow copy and deep copy?\n"
   ]
  },
  {
   "cell_type": "code",
   "execution_count": null,
   "id": "86acc272",
   "metadata": {},
   "outputs": [],
   "source": [
    "4.\tWhat is the maximum possible length of an identifier?\n"
   ]
  },
  {
   "cell_type": "code",
   "execution_count": null,
   "id": "c3965ec1",
   "metadata": {},
   "outputs": [],
   "source": [
    "5.\tWhat is generator comprehension?\n"
   ]
  }
 ],
 "metadata": {
  "kernelspec": {
   "display_name": "Python 3 (ipykernel)",
   "language": "python",
   "name": "python3"
  },
  "language_info": {
   "codemirror_mode": {
    "name": "ipython",
    "version": 3
   },
   "file_extension": ".py",
   "mimetype": "text/x-python",
   "name": "python",
   "nbconvert_exporter": "python",
   "pygments_lexer": "ipython3",
   "version": "3.9.13"
  }
 },
 "nbformat": 4,
 "nbformat_minor": 5
}
