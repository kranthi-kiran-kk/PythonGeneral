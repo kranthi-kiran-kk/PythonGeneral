{
 "cells": [
  {
   "cell_type": "code",
   "execution_count": null,
   "id": "608ece69",
   "metadata": {},
   "outputs": [],
   "source": [
    "#Assignment 17 \n",
    "Q1. Explain the difference between greedy and non-greedy syntax with visual terms in as few words as possible. What is the bare minimum effort required to transform a greedy pattern into a non-greedy one? What characters or characters can you introduce or change?\n",
    "\n"
   ]
  },
  {
   "cell_type": "code",
   "execution_count": null,
   "id": "fffe3192",
   "metadata": {},
   "outputs": [],
   "source": [
    "\n",
    "\n",
    "Q2. When exactly does greedy versus non-greedy make a difference?  What if you're looking for a non-greedy match but the only one available is greedy?\n",
    "\n"
   ]
  },
  {
   "cell_type": "code",
   "execution_count": null,
   "id": "74d2c187",
   "metadata": {},
   "outputs": [],
   "source": [
    "\n",
    "\n",
    "Q3. In a simple match of a string, which looks only for one match and does not do any replacement, is the use of a nontagged group likely to make any practical difference?\n",
    "\n",
    "\n"
   ]
  },
  {
   "cell_type": "code",
   "execution_count": null,
   "id": "cc628ba8",
   "metadata": {},
   "outputs": [],
   "source": [
    "\n",
    "Q4. Describe a scenario in which using a nontagged category would have a significant impact on the program's outcomes.\n",
    "\n",
    "\n"
   ]
  },
  {
   "cell_type": "code",
   "execution_count": null,
   "id": "25011349",
   "metadata": {},
   "outputs": [],
   "source": [
    "\n",
    "Q5. Unlike a normal regex pattern, a look-ahead condition does not consume the characters it examines. Describe a situation in which this could make a difference in the results of your programme.\n",
    "\n"
   ]
  },
  {
   "cell_type": "code",
   "execution_count": null,
   "id": "237ce87d",
   "metadata": {},
   "outputs": [],
   "source": [
    "\n",
    "\n",
    "Q6. In standard expressions, what is the difference between positive look-ahead and negative look-ahead?\n",
    "\n"
   ]
  },
  {
   "cell_type": "code",
   "execution_count": null,
   "id": "d6fc6607",
   "metadata": {},
   "outputs": [],
   "source": [
    "\n",
    "\n",
    "Q7. What is the benefit of referring to groups by name rather than by number in a standard expression?\n",
    "\n"
   ]
  },
  {
   "cell_type": "code",
   "execution_count": null,
   "id": "241b7cee",
   "metadata": {},
   "outputs": [],
   "source": [
    "\n",
    "\n",
    "Q8. Can you identify repeated items within a target string using named groups, as in \"The cow jumped over the moon\"?\n",
    "\n"
   ]
  },
  {
   "cell_type": "code",
   "execution_count": null,
   "id": "6a4ba6bd",
   "metadata": {},
   "outputs": [],
   "source": [
    "\n",
    "\n",
    "Q9. When parsing a string, what is at least one thing that the Scanner interface does for you that the re.findall feature does not?\n",
    "\n"
   ]
  },
  {
   "cell_type": "code",
   "execution_count": null,
   "id": "ff6de133",
   "metadata": {},
   "outputs": [],
   "source": [
    "\n",
    "\n",
    "Q10. Does a scanner object have to be named scanner?\n"
   ]
  }
 ],
 "metadata": {
  "kernelspec": {
   "display_name": "Python 3 (ipykernel)",
   "language": "python",
   "name": "python3"
  },
  "language_info": {
   "codemirror_mode": {
    "name": "ipython",
    "version": 3
   },
   "file_extension": ".py",
   "mimetype": "text/x-python",
   "name": "python",
   "nbconvert_exporter": "python",
   "pygments_lexer": "ipython3",
   "version": "3.9.13"
  }
 },
 "nbformat": 4,
 "nbformat_minor": 5
}
