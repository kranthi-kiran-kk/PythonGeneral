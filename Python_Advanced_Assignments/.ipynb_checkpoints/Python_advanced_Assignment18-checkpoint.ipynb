{
 "cells": [
  {
   "cell_type": "code",
   "execution_count": null,
   "id": "548653ea",
   "metadata": {},
   "outputs": [],
   "source": [
    "#Assignment 18 \n",
    "\n",
    "Q1. Describe the differences between text and binary files in a single paragraph.\n",
    "\n"
   ]
  },
  {
   "cell_type": "code",
   "execution_count": null,
   "id": "4a44c694",
   "metadata": {},
   "outputs": [],
   "source": [
    "\n",
    "\n",
    "Q2. What are some scenarios where using text files will be the better option? When would you like to use binary files instead of text files?\n",
    "\n"
   ]
  },
  {
   "cell_type": "code",
   "execution_count": null,
   "id": "233f4932",
   "metadata": {},
   "outputs": [],
   "source": [
    "\n",
    "\n",
    "Q3. What are some of the issues with using binary operations to read and write a Python integer directly to disc?\n",
    "\n"
   ]
  },
  {
   "cell_type": "code",
   "execution_count": null,
   "id": "2830b174",
   "metadata": {},
   "outputs": [],
   "source": [
    "\n",
    "\n",
    "Q4. Describe a benefit of using the with keyword instead of explicitly opening a file.\n",
    "\n",
    "\n"
   ]
  },
  {
   "cell_type": "code",
   "execution_count": null,
   "id": "c1f2dac7",
   "metadata": {},
   "outputs": [],
   "source": [
    "\n",
    "Q5. Does Python have the trailing newline while reading a line of text? Does Python append a newline when you write a line of text?\n",
    "\n"
   ]
  },
  {
   "cell_type": "code",
   "execution_count": null,
   "id": "5d22922b",
   "metadata": {},
   "outputs": [],
   "source": [
    "\n",
    "\n",
    "Q6. What file operations enable for random-access operation?\n",
    "\n"
   ]
  },
  {
   "cell_type": "code",
   "execution_count": null,
   "id": "186be914",
   "metadata": {},
   "outputs": [],
   "source": [
    "\n",
    "\n",
    "Q7. When do you think you'll use the struct package the most?\n",
    "\n",
    "\n"
   ]
  },
  {
   "cell_type": "code",
   "execution_count": null,
   "id": "c8a04adf",
   "metadata": {},
   "outputs": [],
   "source": [
    "\n",
    "Q8. When is pickling the best option?\n",
    "\n"
   ]
  },
  {
   "cell_type": "code",
   "execution_count": null,
   "id": "8d749666",
   "metadata": {},
   "outputs": [],
   "source": [
    "\n",
    "\n",
    "Q9. When will it be best to use the shelve package?\n",
    "\n"
   ]
  },
  {
   "cell_type": "code",
   "execution_count": null,
   "id": "1b0a8621",
   "metadata": {},
   "outputs": [],
   "source": [
    "\n",
    "\n",
    "Q10. What is a special restriction when using the shelve package, as opposed to using other data dictionaries?\n"
   ]
  }
 ],
 "metadata": {
  "kernelspec": {
   "display_name": "Python 3 (ipykernel)",
   "language": "python",
   "name": "python3"
  },
  "language_info": {
   "codemirror_mode": {
    "name": "ipython",
    "version": 3
   },
   "file_extension": ".py",
   "mimetype": "text/x-python",
   "name": "python",
   "nbconvert_exporter": "python",
   "pygments_lexer": "ipython3",
   "version": "3.9.13"
  }
 },
 "nbformat": 4,
 "nbformat_minor": 5
}
