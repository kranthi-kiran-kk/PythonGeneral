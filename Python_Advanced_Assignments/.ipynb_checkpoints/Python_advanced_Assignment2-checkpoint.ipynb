{
 "cells": [
  {
   "cell_type": "markdown",
   "id": "e5af1faa",
   "metadata": {},
   "source": [
    "#Assignment2\n",
    "Q1. What is the relationship between classes and modules?\n",
    "\n",
    "We can say similarity between classes and modules is that both of them helps in code reusability\n",
    "\n"
   ]
  },
  {
   "cell_type": "markdown",
   "id": "3243f505",
   "metadata": {},
   "source": [
    "\n",
    "\n",
    "Q2. How do you make instances and classes?\n",
    "\n",
    "We can define classes by using 'class' keyword followed by name of the class\n",
    "where as we should crate instances of that class by calling the class as if it were a function\n",
    "\n"
   ]
  },
  {
   "cell_type": "markdown",
   "id": "03acb27b",
   "metadata": {},
   "source": [
    "\n",
    "\n",
    "Q3. Where and how should be class attributes created?\n",
    "\n",
    "class attributes are the variables directly in the class which can be shared by \n",
    "all objects of the class.\n",
    "\n",
    "\n"
   ]
  },
  {
   "cell_type": "markdown",
   "id": "fc58fcb4",
   "metadata": {},
   "source": [
    "\n",
    "Q4. Where and how are instance attributes created?\n",
    "\n",
    "Instance attributes are the attributes attached to an instance of a class. \n",
    "These can be defined using a constructor.\n",
    "\n"
   ]
  },
  {
   "cell_type": "markdown",
   "id": "976804b6",
   "metadata": {},
   "source": [
    "\n",
    "Q5. What does the term \"self\" in a Python class mean?\n",
    "\n",
    "The \"self\" in a python class is a reference to the current instance of the class\n",
    "It is used to access variables that belong to the class.\n",
    "\n",
    "\n"
   ]
  },
  {
   "cell_type": "markdown",
   "id": "d9bb073f",
   "metadata": {},
   "source": [
    "\n",
    "Q6. How does a Python class handle operator overloading?\n",
    "\n",
    "\n",
    "The operator overloading in Python means provide extended meaning beyond their predefined operational meaning. \n",
    "Such as, we use the \"+\" operator for adding two integers as well as joining two strings or merging two lists.\n",
    "We can achieve this as the \"+\" operator is overloaded by the \"int\" class and \"str\" class.\n",
    "\n",
    "Dunder methods are commonly used for operator overloading. \n",
    "Few examples for magic methods are: __init__, __add__, __len__, __repr__ etc.\n"
   ]
  },
  {
   "cell_type": "markdown",
   "id": "590863db",
   "metadata": {},
   "source": [
    "\n",
    "\n",
    "Q7. When do you consider allowing operator overloading of your classes?\n",
    "\n",
    "When we want to use the same operator for different purpouses as per our requirement, \n",
    "then we can consider operator overloading\n",
    "\n",
    "\n"
   ]
  },
  {
   "cell_type": "markdown",
   "id": "24fd2c60",
   "metadata": {},
   "source": [
    "\n",
    "Q8. What is the most popular form of operator overloading?\n",
    "\n",
    "A very common and popular example of operator overloading is '+'. This is generally achieved using dunder method __add__\n",
    "\n",
    "\n"
   ]
  },
  {
   "cell_type": "markdown",
   "id": "fbc3ab74",
   "metadata": {},
   "source": [
    "\n",
    "Q9. What are the two most important concepts to grasp in order to comprehend Python OOP code?\n",
    "\n",
    "Most important concepts to grasp for comprehending OOP code are knowledge about classes and objects, constructors and self keyword\n",
    "\n",
    "\n"
   ]
  }
 ],
 "metadata": {
  "kernelspec": {
   "display_name": "Python 3 (ipykernel)",
   "language": "python",
   "name": "python3"
  },
  "language_info": {
   "codemirror_mode": {
    "name": "ipython",
    "version": 3
   },
   "file_extension": ".py",
   "mimetype": "text/x-python",
   "name": "python",
   "nbconvert_exporter": "python",
   "pygments_lexer": "ipython3",
   "version": "3.9.13"
  }
 },
 "nbformat": 4,
 "nbformat_minor": 5
}
