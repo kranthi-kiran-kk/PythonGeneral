{
 "cells": [
  {
   "cell_type": "code",
   "execution_count": null,
   "id": "d80c325f",
   "metadata": {},
   "outputs": [],
   "source": [
    "#Assignment 21\n",
    "Q1. What is a probability distribution, exactly? If the values are meant to be random, how can you predict them at all?\n",
    "\n",
    "\n"
   ]
  },
  {
   "cell_type": "code",
   "execution_count": null,
   "id": "bc5b3cd5",
   "metadata": {},
   "outputs": [],
   "source": [
    "\n",
    "Q2. Is there a distinction between true random numbers and pseudo-random numbers, if there is one? Why are the latter considered “good enough”?\n",
    "\n",
    "\n"
   ]
  },
  {
   "cell_type": "code",
   "execution_count": null,
   "id": "8dfc8da9",
   "metadata": {},
   "outputs": [],
   "source": [
    "\n",
    "Q3. What are the two main factors that influence the behaviour of a \"normal\" probability distribution?\n",
    "\n",
    "\n"
   ]
  },
  {
   "cell_type": "code",
   "execution_count": null,
   "id": "ce899d6a",
   "metadata": {},
   "outputs": [],
   "source": [
    "\n",
    "Q4. Provide a real-life example of a normal distribution.\n",
    "\n"
   ]
  },
  {
   "cell_type": "code",
   "execution_count": null,
   "id": "b6d9d943",
   "metadata": {},
   "outputs": [],
   "source": [
    "\n",
    "\n",
    "Q5. In the short term, how can you expect a probability distribution to behave? What do you think will happen as the number of trials grows?\n",
    "\n"
   ]
  },
  {
   "cell_type": "code",
   "execution_count": null,
   "id": "a67cead8",
   "metadata": {},
   "outputs": [],
   "source": [
    "\n",
    "\n",
    "Q6. What kind of object can be shuffled by using random.shuffle?\n",
    "\n"
   ]
  },
  {
   "cell_type": "code",
   "execution_count": null,
   "id": "3b88a4d6",
   "metadata": {},
   "outputs": [],
   "source": [
    "\n",
    "\n",
    "Q7. Describe the math package's general categories of functions.\n",
    "\n"
   ]
  },
  {
   "cell_type": "code",
   "execution_count": null,
   "id": "df6aec85",
   "metadata": {},
   "outputs": [],
   "source": [
    "\n",
    "\n",
    "Q8. What is the relationship between exponentiation and logarithms?\n",
    "\n"
   ]
  },
  {
   "cell_type": "code",
   "execution_count": null,
   "id": "2848dae8",
   "metadata": {},
   "outputs": [],
   "source": [
    "\n",
    "\n",
    "Q9. What are the three logarithmic functions that Python supports?\n"
   ]
  }
 ],
 "metadata": {
  "kernelspec": {
   "display_name": "Python 3 (ipykernel)",
   "language": "python",
   "name": "python3"
  },
  "language_info": {
   "codemirror_mode": {
    "name": "ipython",
    "version": 3
   },
   "file_extension": ".py",
   "mimetype": "text/x-python",
   "name": "python",
   "nbconvert_exporter": "python",
   "pygments_lexer": "ipython3",
   "version": "3.9.13"
  }
 },
 "nbformat": 4,
 "nbformat_minor": 5
}
