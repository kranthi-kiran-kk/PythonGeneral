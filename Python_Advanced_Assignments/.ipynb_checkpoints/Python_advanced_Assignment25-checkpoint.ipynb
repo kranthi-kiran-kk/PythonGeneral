{
 "cells": [
  {
   "cell_type": "markdown",
   "id": "de9c2ea8",
   "metadata": {},
   "source": [
    "Assignment 25\n",
    "\n",
    "\n",
    "Q1. What is the distinction between a numpy array and a pandas data frame? Is there a way to convert between the two if there is?\n",
    "\n",
    "Numpy Ndarray provides a lot of convenient and optimized methods for performing several mathematical operations on vectors.\n",
    "\n",
    "Pandas Dataframe is an in-memory 2-dimensional tabular representation of data. In simpler words, it can be seen as a spreadsheet having rows and columns.\n",
    "\n",
    "Conversion : Dataframe=pandas.DataFrame(array)\n"
   ]
  },
  {
   "cell_type": "markdown",
   "id": "2325b5b0",
   "metadata": {},
   "source": [
    "\n",
    "\n",
    "Q2. What can go wrong when an user enters in a stock-ticker symbol, and how do you handle it?\n",
    "\n",
    "Possibly if the user enters a nonexistent stock ticker, the program may give an error and stop working.\n",
    "\n"
   ]
  },
  {
   "cell_type": "markdown",
   "id": "089c7214",
   "metadata": {},
   "source": [
    "\n",
    "\n",
    "Q3. Identify some of the plotting techniques that are used to produce a stock-market chart.\n",
    "\n",
    "Bar chart, Line Chart are used for plotting."
   ]
  },
  {
   "cell_type": "markdown",
   "id": "a0a7913c",
   "metadata": {},
   "source": [
    "\n",
    "\n",
    "Q4. Why is it essential to print a legend on a stock market chart?\n",
    "\n",
    "Legend will help comparison between different stocks, so will be essential on a stock market chart\n"
   ]
  },
  {
   "cell_type": "markdown",
   "id": "48817a9f",
   "metadata": {},
   "source": [
    "\n",
    "\n",
    "Q5. What is the best way to limit the length of a pandas data frame to less than a year?\n",
    "\n",
    "We can use start and end parameters for that. In start we write the date from where we are starting and at the end we write the end date. SO within this span we can restric the duration.Also we can use the parameters like periods for how much times we need the duration and we can also use the frequency parameter.\n",
    "\n"
   ]
  },
  {
   "cell_type": "markdown",
   "id": "6c23fa9a",
   "metadata": {},
   "source": [
    "\n",
    "Q6. What is the definition of a 180-day moving average?\n",
    "\n",
    "The 180-day moving average is represented as a line on charts and represents the average price over the past 180 days. The moving average can give traders a sense regarding whether the trend is up or down, while also identifying potential support or resistance areas.\n"
   ]
  },
  {
   "cell_type": "markdown",
   "id": "ae0939ba",
   "metadata": {},
   "source": [
    "\n",
    "Q7. Did the chapter's final example use \"indirect\" importing? If so, how exactly do you do it?\n"
   ]
  }
 ],
 "metadata": {
  "kernelspec": {
   "display_name": "Python 3 (ipykernel)",
   "language": "python",
   "name": "python3"
  },
  "language_info": {
   "codemirror_mode": {
    "name": "ipython",
    "version": 3
   },
   "file_extension": ".py",
   "mimetype": "text/x-python",
   "name": "python",
   "nbconvert_exporter": "python",
   "pygments_lexer": "ipython3",
   "version": "3.9.13"
  }
 },
 "nbformat": 4,
 "nbformat_minor": 5
}
