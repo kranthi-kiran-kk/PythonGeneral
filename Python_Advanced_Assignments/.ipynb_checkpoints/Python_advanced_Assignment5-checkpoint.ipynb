{
 "cells": [
  {
   "cell_type": "markdown",
   "id": "1f2cfabd",
   "metadata": {},
   "source": [
    "Q1. What is the meaning of multiple inheritance?\n",
    "\n",
    "When achild class inherits it's properties from multiple parent classes\n",
    "this will be called as multiple inheritance\n",
    "\n",
    "class Parent1:\n",
    "    pass\n",
    "class Parent2:\n",
    "    pass\n",
    "class child(Parent1,Parent2):\n",
    "    pass"
   ]
  },
  {
   "cell_type": "markdown",
   "id": "ebaecbaa",
   "metadata": {},
   "source": [
    "\n",
    "\n",
    "Q2. What is the concept of delegation?\n",
    "\n",
    "Delegation provides a cover object for any class that you want on top \n",
    "of the main class. It is like a wrapper to your class so that you access\n",
    "limited resources of the main class\n",
    "\n",
    "It wraps the object of the main class into smaller object with limited \n",
    "access. Delegation can be defined as including a instance of a class \n",
    "as an instance variable and using the method through that.\n",
    "\n",
    "It can be called as alternative to inheritance where you can access\n",
    "only few functionalities from another class\n",
    "\n"
   ]
  },
  {
   "cell_type": "markdown",
   "id": "9474fddb",
   "metadata": {},
   "source": [
    "\n",
    "\n",
    "Q3. What is the concept of composition?\n",
    "\n",
    "Composition in python refers to using methods of one or more classes\n",
    "by using instances of those classes as instance variables. In this method\n",
    "all the methods from parent class are not inherited by child class but\n",
    "only required methods are used by using class instances.\n",
    "\n"
   ]
  },
  {
   "cell_type": "markdown",
   "id": "bc4fec05",
   "metadata": {},
   "source": [
    "\n",
    "\n",
    "Q4. What are bound methods and how do we use them?\n",
    "\n",
    "If a function is an attribute of a class and it is accessed through \n",
    "an instance, then it is called a bound method. A bound method has self \n",
    "as its first argument. Since they are dependent on the instance of the\n",
    "class, these are knowm as instance methods.\n",
    "\n",
    "\n"
   ]
  },
  {
   "cell_type": "markdown",
   "id": "494b451f",
   "metadata": {},
   "source": [
    "\n",
    "Q5. What is the purpose of pseudoprivate attributes?\n",
    "\n",
    "Pseudoprivate attributes are also useful in larger frameworks or tools,both to avoid introducing new method names that might \n",
    "accidentally hide definitions elsewhere in the class tree and to reduce the chance of internal methods being replaced by names\n",
    "defined lower in the tree. If a method is intended for use only within a class that may be mixed into other classes, the double \n",
    "underscore prefix ensures that the method won't interfere with other names in the tree, especially in \n",
    "multiple-inheritance scenarios. Pseudoprivate names also prevent subclasses from accidentally redefining \n",
    "the internal method's names,\n"
   ]
  }
 ],
 "metadata": {
  "kernelspec": {
   "display_name": "Python 3 (ipykernel)",
   "language": "python",
   "name": "python3"
  },
  "language_info": {
   "codemirror_mode": {
    "name": "ipython",
    "version": 3
   },
   "file_extension": ".py",
   "mimetype": "text/x-python",
   "name": "python",
   "nbconvert_exporter": "python",
   "pygments_lexer": "ipython3",
   "version": "3.9.13"
  }
 },
 "nbformat": 4,
 "nbformat_minor": 5
}
