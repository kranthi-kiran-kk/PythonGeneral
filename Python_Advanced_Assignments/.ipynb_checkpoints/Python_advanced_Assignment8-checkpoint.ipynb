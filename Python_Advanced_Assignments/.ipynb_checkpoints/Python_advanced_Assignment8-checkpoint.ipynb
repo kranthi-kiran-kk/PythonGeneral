{
 "cells": [
  {
   "cell_type": "code",
   "execution_count": null,
   "id": "1ab4b8a9",
   "metadata": {},
   "outputs": [],
   "source": [
    "#Assignment8\n",
    "\n",
    "Q1. What are the two latest user-defined exception constraints in Python 3.X?\n",
    "\n",
    "raise and assert are two latest user-defined exception cnstrains in \n",
    "python 3.X"
   ]
  },
  {
   "cell_type": "code",
   "execution_count": null,
   "id": "72ebb131",
   "metadata": {},
   "outputs": [],
   "source": [
    "\n",
    "\n",
    "Q2. How are class-based exceptions that have been raised \n",
    "matched to handlers?\n",
    "\n",
    "Custom exceptions can be raised in python by creating a new class.\n",
    "The class should be derived either directly or indirectly from buily-in \n",
    "Exception class. This new class can be raised using the raise statement \n",
    "with an optional error message.\n",
    "\n"
   ]
  },
  {
   "cell_type": "code",
   "execution_count": null,
   "id": "e3351061",
   "metadata": {},
   "outputs": [],
   "source": [
    "\n",
    "\n",
    "Q3. Describe two methods for attaching context information to \n",
    "exception artefacts.\n",
    "\n",
    "We can use add_note method to add custom message to an error.\n",
    "We can also use logger.error to log the error message. \n",
    "\n"
   ]
  },
  {
   "cell_type": "code",
   "execution_count": null,
   "id": "6cf1029c",
   "metadata": {},
   "outputs": [],
   "source": [
    "\n",
    "\n",
    "Q4. Describe two methods for specifying the text of \n",
    "an exception object's error message.\n",
    "\n",
    "raise and assert are two methods for specifying the text of an exception\n",
    "object's error message.\n"
   ]
  },
  {
   "cell_type": "code",
   "execution_count": null,
   "id": "4d4796ad",
   "metadata": {},
   "outputs": [],
   "source": [
    "\n",
    "\n",
    "Q5. Why do you no longer use string-based exceptions?\n",
    "\n",
    "String-based Exceptions doesn't inherit from Exceptions. \n",
    "so plain exceptions catch all exceptions and not only system exceptions.\n"
   ]
  }
 ],
 "metadata": {
  "kernelspec": {
   "display_name": "Python 3 (ipykernel)",
   "language": "python",
   "name": "python3"
  },
  "language_info": {
   "codemirror_mode": {
    "name": "ipython",
    "version": 3
   },
   "file_extension": ".py",
   "mimetype": "text/x-python",
   "name": "python",
   "nbconvert_exporter": "python",
   "pygments_lexer": "ipython3",
   "version": "3.9.13"
  }
 },
 "nbformat": 4,
 "nbformat_minor": 5
}
