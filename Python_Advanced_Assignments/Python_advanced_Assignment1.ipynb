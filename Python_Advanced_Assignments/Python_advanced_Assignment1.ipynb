{
 "cells": [
  {
   "cell_type": "markdown",
   "id": "004b7c75",
   "metadata": {},
   "source": [
    "Q1. What is the purpose of Python's OOP?\n",
    "\n",
    "Object-Oriented Programming is a way to use objects and classes to design and \n",
    "build applications. Major pillars of OOP are Inheritance,Polymorphism, Data Abstraction\n",
    "and Encapsulation.\n",
    "\n",
    "enifits of OOP are as listed below:\n",
    "1. Provides a clear program structure and a clean code\n",
    "2. Facilitates easy maintainance and modification of existing code\n",
    "3. Since the class is sharable, the code cn be reused\n",
    "\n",
    "\n"
   ]
  },
  {
   "cell_type": "markdown",
   "id": "c8752cd6",
   "metadata": {},
   "source": [
    "\n",
    "Q2. Where does an inheritance search look for an attribute?\n",
    "\n",
    "An inheritance search looks for an attrite first in the instance object, then in the class from which the obbject was created and then in all higher super classes. It will stop searching in the first place where attribute is found.\n",
    "\n",
    "\n"
   ]
  },
  {
   "cell_type": "markdown",
   "id": "ef254339",
   "metadata": {},
   "source": [
    "\n",
    "Q3. How do you distinguish between a class object and an instance object?\n",
    "\n",
    "class object is created when the class is defined where as instanc object is to be creaed by calling the class.\n",
    "\n"
   ]
  },
  {
   "cell_type": "markdown",
   "id": "47150688",
   "metadata": {},
   "source": [
    "\n",
    "\n",
    "Q4. What makes the first argument in a class’s method function special?\n",
    "\n",
    "First argument in a class's method function special will be 'self'\n",
    "\n"
   ]
  },
  {
   "cell_type": "markdown",
   "id": "d7024378",
   "metadata": {},
   "source": [
    "\n",
    "\n",
    "Q5. What is the purpose of the __init__ method?\n",
    "\n",
    "__intit__ method is used to initialize the variable while creating instance of the class. When ever an instace is created, it will automatically call the __init__ method.\n",
    "\n",
    "\n"
   ]
  },
  {
   "cell_type": "markdown",
   "id": "fea8a778",
   "metadata": {},
   "source": [
    "\n",
    "Q6. What is the process for creating a class instance?\n",
    "\n",
    "Class instance can be created by calling the class name like a function even though it is not a function.\n",
    "\n",
    "\n"
   ]
  },
  {
   "cell_type": "markdown",
   "id": "f63a5053",
   "metadata": {},
   "source": [
    "\n",
    "Q7. What is the process for creating a class?\n",
    "\n",
    "We create a class by using a keyword 'class' followed by name of the class\n",
    "\n",
    "\n"
   ]
  },
  {
   "cell_type": "markdown",
   "id": "0cca4a5d",
   "metadata": {},
   "source": [
    "\n",
    "Q8. How would you define the superclasses of a class?\n",
    "\n",
    "Superclasses can be defined as classes which are used to inherit attributes and methods from.\n",
    "\n",
    "Eg:  class earth(Planet)\n",
    "Here Planet is superclass and earcth is subclass.\n"
   ]
  }
 ],
 "metadata": {
  "kernelspec": {
   "display_name": "Python 3 (ipykernel)",
   "language": "python",
   "name": "python3"
  },
  "language_info": {
   "codemirror_mode": {
    "name": "ipython",
    "version": 3
   },
   "file_extension": ".py",
   "mimetype": "text/x-python",
   "name": "python",
   "nbconvert_exporter": "python",
   "pygments_lexer": "ipython3",
   "version": "3.9.13"
  }
 },
 "nbformat": 4,
 "nbformat_minor": 5
}
