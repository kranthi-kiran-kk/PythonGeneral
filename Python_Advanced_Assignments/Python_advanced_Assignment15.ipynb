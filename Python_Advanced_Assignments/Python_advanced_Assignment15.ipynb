{
 "cells": [
  {
   "cell_type": "code",
   "execution_count": null,
   "id": "c801f3f8",
   "metadata": {},
   "outputs": [],
   "source": [
    "#Assignment15\n",
    "\n",
    "1.\tWhat are the new features added in Python 3.8 version?\n"
   ]
  },
  {
   "cell_type": "code",
   "execution_count": null,
   "id": "20c2125e",
   "metadata": {},
   "outputs": [],
   "source": [
    "2.\tWhat is monkey patching in Python?\n"
   ]
  },
  {
   "cell_type": "code",
   "execution_count": null,
   "id": "2c95f0e0",
   "metadata": {},
   "outputs": [],
   "source": [
    "3.\tWhat is the difference between a shallow copy and deep copy?\n"
   ]
  },
  {
   "cell_type": "code",
   "execution_count": null,
   "id": "46d89b68",
   "metadata": {},
   "outputs": [],
   "source": [
    "4.\tWhat is the maximum possible length of an identifier?\n"
   ]
  },
  {
   "cell_type": "code",
   "execution_count": null,
   "id": "33977f17",
   "metadata": {},
   "outputs": [],
   "source": [
    "5.\tWhat is generator comprehension?\n"
   ]
  }
 ],
 "metadata": {
  "kernelspec": {
   "display_name": "Python 3 (ipykernel)",
   "language": "python",
   "name": "python3"
  },
  "language_info": {
   "codemirror_mode": {
    "name": "ipython",
    "version": 3
   },
   "file_extension": ".py",
   "mimetype": "text/x-python",
   "name": "python",
   "nbconvert_exporter": "python",
   "pygments_lexer": "ipython3",
   "version": "3.9.13"
  }
 },
 "nbformat": 4,
 "nbformat_minor": 5
}
