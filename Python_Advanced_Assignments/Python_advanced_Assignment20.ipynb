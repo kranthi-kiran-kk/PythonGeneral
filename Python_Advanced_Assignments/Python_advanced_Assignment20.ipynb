{
 "cells": [
  {
   "cell_type": "code",
   "execution_count": null,
   "id": "f09031e8",
   "metadata": {},
   "outputs": [],
   "source": [
    "#Assignment 20\n",
    "1. Compare and contrast the float and Decimal classes' benefits and drawbacks.\n",
    "\n"
   ]
  },
  {
   "cell_type": "code",
   "execution_count": null,
   "id": "ec42f614",
   "metadata": {},
   "outputs": [],
   "source": [
    "\n",
    "\n",
    "2. Decimal('1.200') and Decimal('1.2') are two objects to consider. In what sense are these the same object? Are these just two ways of representing the exact same value, or do they correspond to different internal states?\n",
    "\n"
   ]
  },
  {
   "cell_type": "code",
   "execution_count": null,
   "id": "d852936c",
   "metadata": {},
   "outputs": [],
   "source": [
    "\n",
    "\n",
    "3. What happens if the equality of Decimal('1.200') and Decimal('1.2') is checked?\n",
    "\n"
   ]
  },
  {
   "cell_type": "code",
   "execution_count": null,
   "id": "151cdb24",
   "metadata": {},
   "outputs": [],
   "source": [
    "\n",
    "\n",
    "4. Why is it preferable to start a Decimal object with a string rather than a floating-point value?\n",
    "\n"
   ]
  },
  {
   "cell_type": "code",
   "execution_count": null,
   "id": "d194d7f2",
   "metadata": {},
   "outputs": [],
   "source": [
    "\n",
    "\n",
    "5. In an arithmetic phrase, how simple is it to combine Decimal objects with integers?\n",
    "\n"
   ]
  },
  {
   "cell_type": "code",
   "execution_count": null,
   "id": "40930beb",
   "metadata": {},
   "outputs": [],
   "source": [
    "\n",
    "\n",
    "6. Can Decimal objects and floating-point values be combined easily?\n",
    "\n"
   ]
  },
  {
   "cell_type": "code",
   "execution_count": null,
   "id": "a3127161",
   "metadata": {},
   "outputs": [],
   "source": [
    "\n",
    "\n",
    "7. Using the Fraction class but not the Decimal class, give an example of a quantity that can be expressed with absolute precision.\n",
    "\n"
   ]
  },
  {
   "cell_type": "code",
   "execution_count": null,
   "id": "bf09ee02",
   "metadata": {},
   "outputs": [],
   "source": [
    "\n",
    "\n",
    "8. Describe a quantity that can be accurately expressed by the Decimal or Fraction classes but not by a floating-point value.\n",
    "\n"
   ]
  },
  {
   "cell_type": "code",
   "execution_count": null,
   "id": "bdd395c4",
   "metadata": {},
   "outputs": [],
   "source": [
    "\n",
    "\n",
    "Q9.Consider the following two fraction objects: Fraction(1, 2) and Fraction(1, 2). (5, 10). Is the internal state of these two objects the same? Why do you think that is?\n",
    "\n"
   ]
  },
  {
   "cell_type": "code",
   "execution_count": null,
   "id": "48c267ed",
   "metadata": {},
   "outputs": [],
   "source": [
    "\n",
    "\n",
    "Q10. How do the Fraction class and the integer type (int) relate to each other? Containment or inheritance?\n"
   ]
  }
 ],
 "metadata": {
  "kernelspec": {
   "display_name": "Python 3 (ipykernel)",
   "language": "python",
   "name": "python3"
  },
  "language_info": {
   "codemirror_mode": {
    "name": "ipython",
    "version": 3
   },
   "file_extension": ".py",
   "mimetype": "text/x-python",
   "name": "python",
   "nbconvert_exporter": "python",
   "pygments_lexer": "ipython3",
   "version": "3.9.13"
  }
 },
 "nbformat": 4,
 "nbformat_minor": 5
}
