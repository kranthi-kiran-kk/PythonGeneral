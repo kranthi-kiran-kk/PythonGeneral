{
 "cells": [
  {
   "cell_type": "code",
   "execution_count": null,
   "id": "d9ee92a7",
   "metadata": {},
   "outputs": [],
   "source": [
    "#Assignment24\n",
    "Q1. Is it permissible to use several import statements to import the same module? What would the goal be? Can you think of a situation where it would be beneficial?\n"
   ]
  },
  {
   "cell_type": "code",
   "execution_count": null,
   "id": "0efdbacc",
   "metadata": {},
   "outputs": [],
   "source": [
    "\n",
    "Q2. What are some of a module's characteristics? (Name at least one.)\n"
   ]
  },
  {
   "cell_type": "code",
   "execution_count": null,
   "id": "ec8ecfb8",
   "metadata": {},
   "outputs": [],
   "source": [
    "\n",
    "Q3. Circular importing, such as when two modules import each other, can lead to dependencies and bugs that aren't visible. How can you go about creating a program that avoids mutual importing?\n",
    "\n"
   ]
  },
  {
   "cell_type": "code",
   "execution_count": null,
   "id": "39e5e796",
   "metadata": {},
   "outputs": [],
   "source": [
    "Q4. Why is  _ _all_ _ in Python?\n",
    "\n"
   ]
  },
  {
   "cell_type": "code",
   "execution_count": null,
   "id": "a1ed617c",
   "metadata": {},
   "outputs": [],
   "source": [
    "Q5. In what situation is it useful to refer to the _ _name_ _ attribute or the string '_ _main_ _'?\n",
    "\n"
   ]
  },
  {
   "cell_type": "code",
   "execution_count": null,
   "id": "c4787e4c",
   "metadata": {},
   "outputs": [],
   "source": [
    "Q6. What are some of the benefits of attaching a program counter to the RPN interpreter application, which interprets an RPN script line by line?\n",
    "\n"
   ]
  },
  {
   "cell_type": "code",
   "execution_count": null,
   "id": "a0d9d42f",
   "metadata": {},
   "outputs": [],
   "source": [
    "Q7. What are the minimum expressions or statements (or both) that you'd need to render a basic programming language like RPN primitive but complete— that is, capable of carrying out any computerised task theoretically possible?\n",
    "\n"
   ]
  }
 ],
 "metadata": {
  "kernelspec": {
   "display_name": "Python 3 (ipykernel)",
   "language": "python",
   "name": "python3"
  },
  "language_info": {
   "codemirror_mode": {
    "name": "ipython",
    "version": 3
   },
   "file_extension": ".py",
   "mimetype": "text/x-python",
   "name": "python",
   "nbconvert_exporter": "python",
   "pygments_lexer": "ipython3",
   "version": "3.9.13"
  }
 },
 "nbformat": 4,
 "nbformat_minor": 5
}
