{
 "cells": [
  {
   "cell_type": "markdown",
   "id": "dfcb6666",
   "metadata": {},
   "source": [
    "#Assignment3\n",
    "\n",
    "1. What is the concept of an abstract superclass?\n",
    "\n",
    "Astract class can e considered as a blueprint for other classes. It allows us to \n",
    "create a set of methods that must be created withih any child classes built from \n",
    "the abstract class.\n",
    "\n",
    "It can be hepful when working in large teams. In python we need to use Abstract \n",
    "Base Class(ABC) to use abstract classes and we use abstract decorator to convert \n",
    "methods into abstract methods.\n",
    "\n",
    "from abc import ABC, abbstractmethod\n",
    "class Automotive(ABC):\n",
    "    @abstractmethod\n",
    "    def noofwheels(self) # Abstract Method\n",
    "    \n",
    "class Car(Automotive):\n",
    "    def noofwheels(self):\n",
    "        print(\"wheels = 4\")\n",
    "class Tractor(Automotive):\n",
    "    def noofwheels(self):\n",
    "        print(\"wheels = 8\")\n",
    "\n"
   ]
  },
  {
   "cell_type": "markdown",
   "id": "d4bf64fe",
   "metadata": {},
   "source": [
    "\n",
    "\n",
    "2. What happens when a class statement's top level contains a basic assignment statement?\n",
    "\n",
    "when a class statements's top level contains a basic assignment statement,\n",
    "it is treated as class variable. The variables which are defined inside the method\n",
    "are treated as instance variavle or local variable.\n",
    "\n",
    "Several instances of the class share same class variables where as instance variables\n",
    "change based on the instance\n",
    "\n",
    "class Fish:\n",
    "    place of living = 'Water' # class variable\n",
    "    def __init__(self,type):\n",
    "        self.type = type # instance variable\n",
    "        \n",
    "For different fishes type(instance variable) changes accordingly where as place of living\n",
    "(class variable) is same for all of them.\n",
    "    \n",
    "\n",
    "\n"
   ]
  },
  {
   "cell_type": "markdown",
   "id": "ddc6b06c",
   "metadata": {},
   "source": [
    "\n",
    "\n",
    "3. Why does a class need to manually call a superclass's __init__ method?\n",
    "\n",
    "If a child class has __init__ method, then it will not inherit the __init__ method\n",
    "from parent class. This is because __init__ method in child class will override\n",
    "__init__ method of parent class. Hence we have to manually call a superclass's\n",
    "__init__ method using super() method\n",
    "\n",
    "\n",
    "class Child:\n",
    "    def __init__(self,name,age):\n",
    "        self.name = name\n",
    "        self.age = age\n",
    "        \n",
    "class student(Child):\n",
    "    def __init__(self,name,age,standard):\n",
    "        super().__init__(name,age)\n",
    "        self.standard = standard\n",
    "        \n",
    "        \n"
   ]
  },
  {
   "cell_type": "markdown",
   "id": "fec1fee3",
   "metadata": {},
   "source": [
    "\n",
    "\n",
    "4. How can you augment, instead of completely replacing, an inherited method?\n",
    "\n",
    "To augment a method in parent class without completely replacing it in child class\n",
    "we can use the super method\n",
    "\n",
    "\n",
    "class Triangles():\n",
    "       \n",
    "    def __init__(self, name, s1, s2, s3):\n",
    "        self.name = name\n",
    "        self.s1 = s1\n",
    "        self.s2 = s2\n",
    "        self.s3 = s3\n",
    "        \n",
    "    # superclass's version of display()\n",
    "    def display(self):\n",
    "        return 'Name: '+self.name+'\\nDimensions: '+str(self.s1)+', '+str(self.s2)+', '+str(self.s3)\n",
    "  \n",
    "\n",
    "inherits from \"Triangles\"\n",
    "class Peri(Triangles):\n",
    "    # extended method \n",
    "    def display(self):\n",
    "        # calls display() of superclass \n",
    "        print (super(Peri, self).display())\n",
    "        # adding its own properties \n",
    "        return \"Extended\"\n",
    "          \n"
   ]
  },
  {
   "cell_type": "markdown",
   "id": "9705b399",
   "metadata": {},
   "source": [
    "\n",
    "5. How is the local scope of a class different from that of a function?\n",
    "\n",
    "A local scope of class is different from local scope of function.\n",
    "This is because the variables declared in a function are local to that function \n",
    "and can use used within that function\n",
    "\n",
    "Where as variables decrlared in a class outside of all methods can directly \n",
    "be accessed by the methods of class and can also be accessed using access operator\n",
    "which is \".\" on a class or instance of class.\n",
    "\n",
    "\n"
   ]
  }
 ],
 "metadata": {
  "kernelspec": {
   "display_name": "Python 3 (ipykernel)",
   "language": "python",
   "name": "python3"
  },
  "language_info": {
   "codemirror_mode": {
    "name": "ipython",
    "version": 3
   },
   "file_extension": ".py",
   "mimetype": "text/x-python",
   "name": "python",
   "nbconvert_exporter": "python",
   "pygments_lexer": "ipython3",
   "version": "3.9.13"
  }
 },
 "nbformat": 4,
 "nbformat_minor": 5
}
