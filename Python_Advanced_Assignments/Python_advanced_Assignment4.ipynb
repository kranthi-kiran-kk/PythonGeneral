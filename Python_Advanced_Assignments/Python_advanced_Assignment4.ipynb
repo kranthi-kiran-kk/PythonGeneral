{
 "cells": [
  {
   "cell_type": "code",
   "execution_count": null,
   "id": "2ea0b384",
   "metadata": {},
   "outputs": [],
   "source": [
    "#Assignment4\n",
    "Q1. Which two operator overloading methods can you use in your classes to support iteration?\n",
    "\n",
    "Operator overloading methods one can use to support iteration are:\n",
    "__iter__ and __next__\n",
    "\n",
    "__iter__ returns the iterator object and is implicitly called at start \n",
    "of loops.\n",
    "__next__ method returns the next value and is implicitly called at each\n",
    "loop increment."
   ]
  },
  {
   "cell_type": "code",
   "execution_count": null,
   "id": "e9d7614e",
   "metadata": {},
   "outputs": [],
   "source": [
    "\n",
    "\n",
    "Q2. In what contexts do the two operator overloading methods manage printing?\n",
    "\n",
    "Two operator overloading methods which manage printing are\n",
    "__str__ and __repr__. \n",
    "\n",
    "__str__ tries for readability. It prints the informal string \n",
    "representation of an object, one that is useful for printing the \n",
    "object. It may not be possible to convert result string to original\n",
    "object.\n",
    "\n",
    "__repr__ is used to print official string representation of an\n",
    "object\n"
   ]
  },
  {
   "cell_type": "code",
   "execution_count": null,
   "id": "40971ae4",
   "metadata": {},
   "outputs": [],
   "source": [
    "\n",
    "Q3. In a class, how do you intercept slice operations?\n",
    "\n",
    "In a class use of slice() in __getitem__ method is used to intercept \n",
    "slice operation. The slice method is provided with start integer,\n",
    "stop integer and step integer\n",
    "\n",
    "__getitem__(slice(start,stop,step))\n",
    "\n"
   ]
  },
  {
   "cell_type": "code",
   "execution_count": null,
   "id": "2e0b0955",
   "metadata": {},
   "outputs": [],
   "source": [
    "\n",
    "Q4. In a class, how do you capture in-place addition?\n",
    "\n",
    "a+=a1 is in-place addition operation. In this in-place addition\n",
    "a itself will store the value of addition. In a class __iadd__\n",
    "method is used for the in-place addition operation \n",
    "\n"
   ]
  },
  {
   "cell_type": "code",
   "execution_count": null,
   "id": "6f502d20",
   "metadata": {},
   "outputs": [],
   "source": [
    "\n",
    "\n",
    "Q5. When is it appropriate to use operator overloading\n",
    "\n",
    "We can use operator overloading when we want to use operator \n",
    "in a way other than its normal operation. It can be used to give \n",
    "a user defined meaning to the required operator.\n"
   ]
  }
 ],
 "metadata": {
  "kernelspec": {
   "display_name": "Python 3 (ipykernel)",
   "language": "python",
   "name": "python3"
  },
  "language_info": {
   "codemirror_mode": {
    "name": "ipython",
    "version": 3
   },
   "file_extension": ".py",
   "mimetype": "text/x-python",
   "name": "python",
   "nbconvert_exporter": "python",
   "pygments_lexer": "ipython3",
   "version": "3.9.13"
  }
 },
 "nbformat": 4,
 "nbformat_minor": 5
}
