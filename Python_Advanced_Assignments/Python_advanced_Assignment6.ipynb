{
 "cells": [
  {
   "cell_type": "markdown",
   "id": "6dd4e15f",
   "metadata": {},
   "source": [
    "#Assignment6\n",
    "Q1. Describe three applications for exception processing.\n",
    "\n",
    "Exception processing is required to find the errors which cause \n",
    "runtime exceptions. These runtime errors cause the program to fail\n",
    "by stoping the execution of program.\n",
    "\n",
    "Several applications of exception processing are:\n",
    "1. Checking input/output exceptions \n",
    "2. checking execution of loops\n",
    "3. checking the type of input passed into pragram\n",
    "\n"
   ]
  },
  {
   "cell_type": "markdown",
   "id": "44f5c30e",
   "metadata": {},
   "source": [
    "\n",
    "\n",
    "Q2. What happens if you don't do something extra to treat an exception?\n",
    "\n",
    "If we do not handle the exception, it causes the program to terminate\n",
    "abnormally leading to failure of the program.\n",
    "\n"
   ]
  },
  {
   "cell_type": "markdown",
   "id": "68885d90",
   "metadata": {},
   "source": [
    "\n",
    "\n",
    "Q3. What are your options for recovering from an exception in your script?\n",
    "\n",
    "We can use try and except statements in python for recovering from an\n",
    "exception in the script\n"
   ]
  },
  {
   "cell_type": "markdown",
   "id": "850f2068",
   "metadata": {},
   "source": [
    "\n",
    "Q4. Describe two methods for triggering exceptions in your script.\n",
    "\n",
    "Two methods of throwing exceptions in a python script are by using\n",
    "raise and assert.\n",
    "raise method raises an exception if the condition provided to it is \n",
    "true where as assert method throws an assertion error if the condition\n",
    "it is evalutaion turns out to be false.\n",
    "\n",
    "\n"
   ]
  },
  {
   "cell_type": "markdown",
   "id": "88fecada",
   "metadata": {},
   "source": [
    "\n",
    "\n",
    "Q5. Identify two methods for specifying actions to be \n",
    "executed at termination time, regardless of whether or not an exception exists.\n",
    "\n",
    "\n",
    "In python we have else and finally blocks for specifying  actions to be \n",
    "executed at termination time, regardless of whether or not an exception\n",
    "occurs."
   ]
  }
 ],
 "metadata": {
  "kernelspec": {
   "display_name": "Python 3 (ipykernel)",
   "language": "python",
   "name": "python3"
  },
  "language_info": {
   "codemirror_mode": {
    "name": "ipython",
    "version": 3
   },
   "file_extension": ".py",
   "mimetype": "text/x-python",
   "name": "python",
   "nbconvert_exporter": "python",
   "pygments_lexer": "ipython3",
   "version": "3.9.13"
  }
 },
 "nbformat": 4,
 "nbformat_minor": 5
}
