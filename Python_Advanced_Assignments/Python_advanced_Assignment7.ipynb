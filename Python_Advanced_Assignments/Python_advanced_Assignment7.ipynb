{
 "cells": [
  {
   "cell_type": "markdown",
   "id": "e348fc02",
   "metadata": {},
   "source": [
    "#Assignment7\n",
    "Q1. What is the purpose of the try statement?\n",
    "\n",
    "Try statement in python is used for exception handling. It is used to\n",
    "check code for errors that is the code inside the try block will execute\n",
    "where there is no error in the program. Whereas the code inside the except\n",
    "block will execute whenever the program encounters some error in the \n",
    "preceeding try block\n",
    "\n"
   ]
  },
  {
   "cell_type": "markdown",
   "id": "b77bd79e",
   "metadata": {},
   "source": [
    "\n",
    "\n",
    "Q2. What are the two most popular try statement variations?\n",
    "\n",
    "Several variations of try statement in python are\n",
    "1. try,except\n",
    "2. try,except,finally\n",
    "3. try,except,finally,else\n",
    "\n",
    "try block lets us to test a block of code for errors\n",
    "except block lets us handle the error\n",
    "else block lets us execute code when there is no error\n",
    "finally block lets us execute the code, regardless of result of \n",
    "the try and exception blocks\n",
    "\n"
   ]
  },
  {
   "cell_type": "markdown",
   "id": "620047b7",
   "metadata": {},
   "source": [
    "\n",
    "\n",
    "Q3. What is the purpose of the raise statement?\n",
    "\n",
    "raise statement is used to trigger an exception explicitly. If a certain \n",
    "condition is not as per the requirement of programmer. raise statement \n",
    "helps in triggering exception as per program logic.\n",
    "\n"
   ]
  },
  {
   "cell_type": "markdown",
   "id": "93090fb4",
   "metadata": {},
   "source": [
    "\n",
    "\n",
    "Q4. What does the assert statement do, \n",
    "and what other statement is it like?\n",
    "\n",
    "The assert keyword lets us to test if a condition in the code returns \n",
    "true , if not then the program will raise an assertion error. It can \n",
    "be compared with raise statement which can be used for raising custom\n",
    "exception.\n",
    "\n",
    "\n",
    "\n"
   ]
  },
  {
   "cell_type": "markdown",
   "id": "9b59668f",
   "metadata": {},
   "source": [
    "\n",
    "\n",
    "Q5. What is the purpose of the with/as argument, and what other \n",
    "statement is it like?\n",
    "\n",
    "with/as statement simplifies use of file handling in python. When\n",
    "we use a with statement for file reading, there is no need for programmer to\n",
    "explicitly takecare of activities like resource deallocation and file closing\n",
    "by using file.close() method. with statement itself ensures proper\n",
    "acquisition and release of resources. this avoids triggering of exceptions\n",
    "if file closing is unknowingly forgotten in the code execution.\n"
   ]
  }
 ],
 "metadata": {
  "kernelspec": {
   "display_name": "Python 3 (ipykernel)",
   "language": "python",
   "name": "python3"
  },
  "language_info": {
   "codemirror_mode": {
    "name": "ipython",
    "version": 3
   },
   "file_extension": ".py",
   "mimetype": "text/x-python",
   "name": "python",
   "nbconvert_exporter": "python",
   "pygments_lexer": "ipython3",
   "version": "3.9.13"
  }
 },
 "nbformat": 4,
 "nbformat_minor": 5
}
