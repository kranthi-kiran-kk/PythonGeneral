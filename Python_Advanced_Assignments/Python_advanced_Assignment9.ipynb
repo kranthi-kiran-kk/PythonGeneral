{
 "cells": [
  {
   "cell_type": "markdown",
   "id": "937d05da",
   "metadata": {},
   "source": [
    "#Assignments9\n",
    "\n",
    "Q1. In Python 3.X, what are the names and functions of string object types?\n",
    "\n",
    "The following are the names and functions of string object types in Python 3.X\n",
    "\n",
    "1.<stirng>.isdecimal() -> Returns True if all characters in a string are decimal.\n",
    "2.<string>.isalnum() -> Returns True if all characters in the string are AlphaNumeric.\n",
    "3.<string>.istitle() -> Returns True if first character in a string is in Uppercase.\n",
    "4.<string>.partition(<sub_string>) -> Splits string at first occurance of sub string and returns a tuple of 3 elements.\n",
    "5.<string>.rpartition(<sub_string>) -> Splits string at last occurance of sub string and returns a tuple of 3 elements.\n",
    "6.<string>.isidentifier() -> Returns True if give string is a valid identifier name.\n",
    "7.len(<string>) -> Returns the length of the given string.\n",
    "8.<string>.index(<sub_string>) -> Returns the lowest index of substring if substring is found in the string.\n",
    "9.<string>.rindex(<sub_string>) -> Returns the highest index of substring if substring is found in the string.\n",
    "10.max(<string>) -> Returns the highest Alphabetical Character in the string as per ASCII.\n",
    "11.min(<string>) -> Returns the lowest Alphabetical Character in the string as per ASCII.\n",
    "12.<string>.splitlines() -> Returns a list of lines in the string.\n",
    "13.<string>.capitalize() -> Returns the string with first character capitalized.\n",
    "14.<string>.upper() -> Returns the string with all characters in uppercase.\n",
    "15.<string>.lower() -> Returns the string with all characters in lowercase\n",
    "16.<string>.casefold() -> Returns the string in lowercase which can be used for caseless comparisions.\n",
    "17.<string>.expandtabs(no_of_spaces) -> Replaces tabs in a string with specified no of spaces default is 8\n",
    "18.<string>.find(<sub_string>) -> Returns lowest index of substring if substring is found in the string else returns -1.\n",
    "19.<string>.rfind(<sub_string>) -> Returns highest index of substring if substring is found in the string else returns -1.\n",
    "20.<string>.count(<char>) -> Returns the no of occurances of the char in the given string.\n",
    "21.<string>.split(<sep>) -> Returns list of words seperated by given sep else seperated by whitespace.\n",
    "22.<string>.rsplit(<sep>) -> Returns list of words seperated by given sep else seperated by whitespace scanning from end.\n",
    "23.<string>.lstrip() -> Returns a copy of where leading whitespaces are removed.\n",
    "24.<string>.rstrip() -> Returns a copy of where trailed whitespaces are removed.\n",
    "25.<string>.strip() -> Returns a copy of where both leading and trailing whitespaces are removed.\n",
    "26.<string>.swapcase() -> Swaps lowercase characters with uppercase and vice versa.\n",
    "27.<sep>.join(<list>) -> Concatenates a list or tuple of words with intervening occuernces of sep.\n",
    "28.<string>.translate(<mapping_table>) -> translates the characters using table.\n",
    "29.<string>.maketrans(<dict>) -> Creating a mapping translation tbale usable for <string>.translate(<mapping_table>)\n",
    "30.<string>.replace(<char_1>,<char_2>) -> Replace all occurances of char_1 with char_2 in string.\n",
    "31.<string>.encode() -> Encodes string into any encoding supported by python. Default encoding is UTF-8.\n",
    "32.<string>.ljust(<no_of_spaces>) -> Left-justify in a field of given width.\n",
    "33.<string>.rjust(<no_of_spaces>) -> Right-justify in a field of given width.\n",
    "34.<string>.center(<no_of_spaces>) -> Center-justify in a field of given width.\n",
    "35.<stirng>.zfill(<length>) -> Zfill adds zeros to the begining of string until the specified length is reached.\n"
   ]
  },
  {
   "cell_type": "markdown",
   "id": "8386fd99",
   "metadata": {},
   "source": [
    "\n",
    "Q2. How do the string forms in Python 3.X vary in terms of operations?\n",
    "\n",
    "In Python3 default format of strings is Unicode \n",
    "Whereas in Pyton2 we need to explicitly mention Unicode value using u\n"
   ]
  },
  {
   "cell_type": "markdown",
   "id": "6b4350fa",
   "metadata": {},
   "source": [
    "\n",
    "Q3. In 3.X, how do you put non-ASCII Unicode characters in a string?\n",
    "\n",
    "n Python 3.x unidecode() method from unidecode library can be used to put non-ASCII Unicode Characters in a string."
   ]
  },
  {
   "cell_type": "markdown",
   "id": "79f981b1",
   "metadata": {},
   "source": [
    "\n",
    "\n",
    "Q4. In Python 3.X, what are the key differences between text-mode and binary-mode files?\n",
    "\n",
    "The major difference between these two is that a text file contains textual information in the form of alphabets, digits and special characters or symbols. On the other hand, \n",
    "a binary file contains bytes or a compiled version of a text file.\n"
   ]
  },
  {
   "cell_type": "markdown",
   "id": "c9d56fdb",
   "metadata": {},
   "source": [
    "\n",
    "Q5. How can you interpret a Unicode text file containing text encoded in a different encoding than your platform's default?\n",
    "\n",
    "Use of encode() and decode() method can be used to you interpret a Unicode text file containing text encoded in a different encoding than your platform's default, by default encoding parameter is UTF-8"
   ]
  },
  {
   "cell_type": "markdown",
   "id": "1c9149ef",
   "metadata": {},
   "source": [
    "\n",
    "\n",
    "Q6. What is the best way to make a Unicode text file in a particular encoding format?\n",
    "\n",
    " Use str.encode() and file.write() to make a Unicode text file in a particular encoding format, default encoding format is UTF-18.\n"
   ]
  },
  {
   "cell_type": "markdown",
   "id": "925183a3",
   "metadata": {},
   "source": [
    "\n",
    "\n",
    "Q7. What qualifies ASCII text as a form of Unicode text?\n",
    "\n",
    "Unicode represents most written languages in the world. ASCII has its equivalent in Unicode. The difference between ASCII and Unicode is that ASCII represents lowercase letters (a-z), uppercase letters (A-Z), digits (0–9) and symbols such as punctuation marks while Unicode represents letters of English, Arabic, Greek etc. mathematical symbols, historical scripts, emoji covering a wide range of characters than ASCII."
   ]
  },
  {
   "cell_type": "markdown",
   "id": "31de97c3",
   "metadata": {},
   "source": [
    "\n",
    "\n",
    "Q8. How much of an effect does the change in string types in Python 3.X have on your code?\n",
    "\n",
    "\n",
    "Python 3 stores strings as Unicode by default whereas Python 2 requires you to mark a string with a u if you want to store it as Unicode. Unicode strings are more versatile than ASCII strings, which are the Python 3.X default, as they can store letters from foreign languages as well as emoji and the standard Roman letters and numerals."
   ]
  }
 ],
 "metadata": {
  "kernelspec": {
   "display_name": "Python 3 (ipykernel)",
   "language": "python",
   "name": "python3"
  },
  "language_info": {
   "codemirror_mode": {
    "name": "ipython",
    "version": 3
   },
   "file_extension": ".py",
   "mimetype": "text/x-python",
   "name": "python",
   "nbconvert_exporter": "python",
   "pygments_lexer": "ipython3",
   "version": "3.9.13"
  }
 },
 "nbformat": 4,
 "nbformat_minor": 5
}
