{
 "cells": [
  {
   "cell_type": "code",
   "execution_count": null,
   "id": "f77fded6",
   "metadata": {},
   "outputs": [],
   "source": [
    "# 1.\tWrite a Python program to find sum of elements in list?\n",
    "\n",
    "L = eval(input(\"Enter the list (enclosed in [] and seperated by comma): \"))\n",
    "\n",
    "def sum_of_list(L):\n",
    "    print(f\"Sum of the elements in the list is : {sum(L)}\")\n",
    "    \n",
    "sum_of_list(L)\n"
   ]
  },
  {
   "cell_type": "code",
   "execution_count": null,
   "id": "ad2acb02",
   "metadata": {},
   "outputs": [],
   "source": [
    "# 2.\tWrite a Python program to  Multiply all numbers in the list?\n",
    "\n",
    "L = eval(input(\"Enter the list (enclosed in [] and seperated by comma): \"))\n",
    "\n",
    "def product_of_list(L):\n",
    "    p = 1\n",
    "    for i in L:\n",
    "        p = p*i\n",
    "        \n",
    "    print(f\"Product of the elements in the list is : {p}\")\n",
    "    \n",
    "product_of_list(L)\n",
    "\n"
   ]
  },
  {
   "cell_type": "code",
   "execution_count": null,
   "id": "f7f50883",
   "metadata": {},
   "outputs": [],
   "source": [
    "# 3.\tWrite a Python program to find smallest number in a list?\n",
    "\n",
    "L = eval(input(\"Enter the list (enclosed in [] and seperated by comma): \"))\n",
    "\n",
    "def smallest_of_list(L):\n",
    "    print(f\"Smallest element of the list is : {min(L)}\")\n",
    "    \n",
    "smallest_of_list(L)\n",
    "\n"
   ]
  },
  {
   "cell_type": "code",
   "execution_count": null,
   "id": "64917b52",
   "metadata": {},
   "outputs": [],
   "source": [
    "# 4.\tWrite a Python program to find largest number in a list?\n",
    "\n",
    "L = eval(input(\"Enter the list (enclosed in [] and seperated by comma): \"))\n",
    "\n",
    "def largest_of_list(L):\n",
    "    print(f\"Largest element of the list is : {max(L)}\")\n",
    "    \n",
    "largest_of_list(L)\n"
   ]
  },
  {
   "cell_type": "code",
   "execution_count": null,
   "id": "6fd4fd55",
   "metadata": {},
   "outputs": [],
   "source": [
    "# 5.\tWrite a Python program to find second largest number in a list?\n",
    "\n",
    "L = eval(input(\"Enter the list (enclosed in [] and seperated by comma): \"))\n",
    "\n",
    "def largest_of_list(L):\n",
    "    \n",
    "    print(f\"Second Largest element of the list is : {sorted(L)[-2]}\")\n",
    "    \n",
    "largest_of_list(L)\n"
   ]
  },
  {
   "cell_type": "code",
   "execution_count": null,
   "id": "a67317bb",
   "metadata": {},
   "outputs": [],
   "source": [
    "# 6.\tWrite a Python program to find N largest elements from a list?\n",
    "\n",
    "L = eval(input(\"Enter the list (enclosed in [] and seperated by comma): \"))\n",
    "n = eval(input(\"Enter the value of n \"))\n",
    "\n",
    "def nthlargest_of_list(L,n):\n",
    "    if n < len(L):\n",
    "        print(f\"Second Largest element of the list is : {sorted(L)[-n]}\")\n",
    "    else:\n",
    "        print(\"The given value of n is out of range\")\n",
    "    \n",
    "nthlargest_of_list(L,n)\n"
   ]
  },
  {
   "cell_type": "code",
   "execution_count": null,
   "id": "85b403a4",
   "metadata": {},
   "outputs": [],
   "source": [
    "# 7.\tWrite a Python program to print even numbers in a list?\n",
    "\n",
    "L = eval(input(\"Enter the list (enclosed in [] and seperated by comma): \"))\n",
    "\n",
    "def even_in_list(L):\n",
    "    k = [x for x in L if x%2 == 0]\n",
    "    print(k)\n",
    "    \n",
    "even_in_list(L)\n"
   ]
  },
  {
   "cell_type": "code",
   "execution_count": null,
   "id": "767f5422",
   "metadata": {},
   "outputs": [],
   "source": [
    "# 8.\tWrite a Python program to print odd numbers in a List?\n",
    "\n",
    "L = eval(input(\"Enter the list (enclosed in [] and seperated by comma): \"))\n",
    "\n",
    "def odd_in_list(L):\n",
    "    k = [x for x in L if x%2 != 0]\n",
    "    print(k)\n",
    "    \n",
    "odd_in_list(L)\n"
   ]
  },
  {
   "cell_type": "code",
   "execution_count": null,
   "id": "a946987c",
   "metadata": {},
   "outputs": [],
   "source": [
    "# 9.\tWrite a Python program to Remove empty List from List?\n",
    "\n",
    "L = eval(input(\"Enter the list (enclosed in [] and seperated by comma): \"))\n",
    "\n",
    "def remove_empty_in_list(L):\n",
    "    for x in L:\n",
    "        if (type(x) == list and len(x) ==0 ):\n",
    "            L.remove(x)\n",
    "            \n",
    "    print(L)\n",
    "    \n",
    "remove_empty_in_list(L)\n",
    "\n"
   ]
  },
  {
   "cell_type": "code",
   "execution_count": null,
   "id": "95c956e8",
   "metadata": {},
   "outputs": [],
   "source": [
    "# 10.\tWrite a Python program to Cloning or Copying a list?\n",
    "\n",
    "L = eval(input(\"Enter the list (enclosed in [] and seperated by comma): \"))\n",
    "\n",
    "def copy_list(L):\n",
    "    k = [x for x in L]\n",
    "    return k\n",
    "    \n",
    "new_list = copy_list(L)\n",
    "\n",
    "print(f\"Copy of the given list is new_list = {new_list}\")\n"
   ]
  },
  {
   "cell_type": "code",
   "execution_count": null,
   "id": "004a9e08",
   "metadata": {},
   "outputs": [],
   "source": [
    "# 11.\tWrite a Python program to Count occurrences of an element in a list?\n",
    "\n",
    "L = eval(input(\"Enter the list (enclosed in [] and seperated by comma): \"))\n",
    "k = eval(input(\"Enter the element which needs to be counted : \"))\n",
    "\n",
    "def count_in_list(L,k):\n",
    "    print(f\"Occurrences of the given elemnt is new_list = {L.count(k)}\")\n",
    "    \n",
    "count_in_list(L,k)\n",
    "\n",
    "\n"
   ]
  }
 ],
 "metadata": {
  "kernelspec": {
   "display_name": "Python 3 (ipykernel)",
   "language": "python",
   "name": "python3"
  },
  "language_info": {
   "codemirror_mode": {
    "name": "ipython",
    "version": 3
   },
   "file_extension": ".py",
   "mimetype": "text/x-python",
   "name": "python",
   "nbconvert_exporter": "python",
   "pygments_lexer": "ipython3",
   "version": "3.9.13"
  }
 },
 "nbformat": 4,
 "nbformat_minor": 5
}
