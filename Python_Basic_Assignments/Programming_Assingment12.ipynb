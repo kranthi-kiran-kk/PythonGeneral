{
 "cells": [
  {
   "cell_type": "code",
   "execution_count": 2,
   "id": "5f201edc",
   "metadata": {},
   "outputs": [
    {
     "name": "stdout",
     "output_type": "stream",
     "text": [
      "{'ineuron', 'datascience'}\n"
     ]
    }
   ],
   "source": [
    "# Assignment12\n",
    "# 1.\tWrite a Python program to Extract Unique values dictionary values?\n",
    "\n",
    "def find_unique(dict):\n",
    "    return set(dict.values())\n",
    "    \n",
    "K = {1: 'ineuron', \n",
    "     2: 'datascience', \n",
    "     3: 'ineuron',\n",
    "     4 : 'datascience'}                \n",
    "\n",
    "print(find_unique(K))\n"
   ]
  },
  {
   "cell_type": "code",
   "execution_count": 4,
   "id": "c3f6be0f",
   "metadata": {},
   "outputs": [
    {
     "name": "stdout",
     "output_type": "stream",
     "text": [
      "1000\n"
     ]
    }
   ],
   "source": [
    "# 2.\tWrite a Python program to find the sum of all items in a dictionary?\n",
    "\n",
    "\n",
    "def find_sum(dict):\n",
    "    return sum(dict.values())\n",
    "    \n",
    "K = {1: 100, \n",
    "     2: 200, \n",
    "     3: 300,\n",
    "     4 :400}\n",
    "\n",
    "print(find_sum(K))\n"
   ]
  },
  {
   "cell_type": "code",
   "execution_count": 18,
   "id": "b4d7edc6",
   "metadata": {},
   "outputs": [
    {
     "name": "stdout",
     "output_type": "stream",
     "text": [
      "{1: 'ineuron', 2: 'datascience', 3: 'ineuron', 4: 'datascience', 5: 100, 6: 200, 7: 300, 8: 400}\n"
     ]
    }
   ],
   "source": [
    "# 3.\tWrite a Python program to Merging two Dictionaries?\n",
    "\n",
    "def merge_dict(dict1,dict2):\n",
    "    dict1.update(dict2)\n",
    "    return dict1 \n",
    "\n",
    "K = {1: 'ineuron', \n",
    "     2: 'datascience', \n",
    "     3: 'ineuron',\n",
    "     4 : 'datascience'}   \n",
    "L = {5: 100, \n",
    "     6: 200, \n",
    "     7: 300,\n",
    "     8 :400}\n",
    "    \n",
    "M = merge_dict(K,L)\n",
    "print(M)\n"
   ]
  },
  {
   "cell_type": "code",
   "execution_count": 31,
   "id": "d24fc975",
   "metadata": {},
   "outputs": [
    {
     "name": "stdout",
     "output_type": "stream",
     "text": [
      "{'Science': 100, 'Social': 200, 'Physics': 300, 'Maths': 400}\n"
     ]
    }
   ],
   "source": [
    "# 4.\tWrite a Python program to convert key-values list to flat dictionary?\n",
    "\n",
    "def flat_dict(dict):\n",
    "    p1 = list(dict.values())[0]\n",
    "    p2 = list(dict.values())[1]\n",
    "    dict1 = {}\n",
    "    for i in range(0,len(p1)):\n",
    "        dict1[p1[i]] = p2[i] \n",
    "    \n",
    "    return dict1\n",
    "\n",
    "\n",
    "marks = {'Subjects' : ['Science','Social', 'Physics', 'Maths'], 'Marks': [100, 200, 300, 400]}\n",
    "\n",
    "flat = flat_dict(marks)\n",
    "print(flat)\n"
   ]
  },
  {
   "cell_type": "code",
   "execution_count": 33,
   "id": "0823f337",
   "metadata": {},
   "outputs": [
    {
     "name": "stdout",
     "output_type": "stream",
     "text": [
      "OrderedDict([('Mat', '400'), ('Sci', '100'), ('Soc', '200'), ('Phy', '300')])\n"
     ]
    }
   ],
   "source": [
    "# 5.\tWrite a Python program to insertion at the beginning in OrderedDict?\n",
    "\n",
    "from collections import OrderedDict\n",
    "\n",
    "dict1 = OrderedDict({'Sci':'100','Soc':'200','Phy':'300'})\n",
    "dict2 = {'Mat':'400'}\n",
    "dict1.update(dict2)\n",
    "dict1.move_to_end('Mat',last=False)\n",
    "\n",
    "print(dict1)\n",
    "\n",
    "\n",
    "\n"
   ]
  },
  {
   "cell_type": "code",
   "execution_count": 41,
   "id": "f62717f6",
   "metadata": {},
   "outputs": [
    {
     "name": "stdout",
     "output_type": "stream",
     "text": [
      "OrderedDict([(1, 'i'), (2, 'n'), (3, 'e'), (4, 'u'), (5, 'r'), (6, 'o'), (7, 'n')])\n"
     ]
    }
   ],
   "source": [
    "# 6.\tWrite a Python program to check order of character in string using OrderedDict()?\n",
    "\n",
    "from collections import OrderedDict\n",
    "\n",
    "def chk_ord(string):\n",
    "    ord_dict = {}\n",
    "    for i in range(0,len(string)):\n",
    "        ord_dict[i+1] = string[i]\n",
    "        \n",
    "    return OrderedDict(ord_dict)\n",
    "\n",
    "string = \"ineuron\"\n",
    "\n",
    "K = chk_ord(string)\n",
    "print(K)\n",
    "        \n",
    " \n",
    "\n",
    "\n"
   ]
  },
  {
   "cell_type": "code",
   "execution_count": 40,
   "id": "b92c5ecc",
   "metadata": {},
   "outputs": [
    {
     "name": "stdout",
     "output_type": "stream",
     "text": [
      "{1: 'ineuron', 2: 'datascience', 3: 'datascience', 4: 400, 5: 100, 6: 200, 7: 300, 8: 'ineuron'}\n"
     ]
    }
   ],
   "source": [
    "# 7.\tWrite a Python program to sort Python Dictionaries by Key or Value?\n",
    "\n",
    "def sort_dict(dict):\n",
    "    new_dict = {}\n",
    "    l = sorted(list(dict.keys()))\n",
    "    for i in l:\n",
    "        new_dict[i] = dict[i]\n",
    "    return new_dict\n",
    "\n",
    "J= {1: 'ineuron', 3: 'datascience', 8: 'ineuron', 2: 'datascience', 5: 100, 6: 200, 7: 300, 4: 400}\n",
    "K = sort_dict(J)\n",
    "print(K)\n",
    "        \n"
   ]
  },
  {
   "cell_type": "code",
   "execution_count": null,
   "id": "9994e2c7",
   "metadata": {},
   "outputs": [],
   "source": []
  }
 ],
 "metadata": {
  "kernelspec": {
   "display_name": "Python 3 (ipykernel)",
   "language": "python",
   "name": "python3"
  },
  "language_info": {
   "codemirror_mode": {
    "name": "ipython",
    "version": 3
   },
   "file_extension": ".py",
   "mimetype": "text/x-python",
   "name": "python",
   "nbconvert_exporter": "python",
   "pygments_lexer": "ipython3",
   "version": "3.9.13"
  }
 },
 "nbformat": 4,
 "nbformat_minor": 5
}
