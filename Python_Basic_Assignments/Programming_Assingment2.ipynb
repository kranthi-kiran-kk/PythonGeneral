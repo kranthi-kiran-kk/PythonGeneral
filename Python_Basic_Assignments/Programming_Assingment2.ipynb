{
 "cells": [
  {
   "cell_type": "code",
   "execution_count": null,
   "id": "2b4042d7",
   "metadata": {
    "colab": {
     "base_uri": "https://localhost:8080/"
    },
    "id": "2b4042d7",
    "outputId": "5a19b8c8-8366-45c8-cc02-0f9f43234c93"
   },
   "outputs": [],
   "source": [
    "#1.\tWrite a Python program to convert kilometers to miles?\n",
    "\n",
    "k = float(input(\"Enter the value in Kilometers\"))\n",
    "\n",
    "def convert(k):\n",
    "  m = round((k*0.621371),3)\n",
    "  return m\n",
    "\n",
    "print(f\"{k} Kilometers is equal to {convert(k)} Miles\")\n"
   ]
  },
  {
   "cell_type": "code",
   "execution_count": null,
   "id": "0fbf730d",
   "metadata": {
    "colab": {
     "base_uri": "https://localhost:8080/"
    },
    "id": "0fbf730d",
    "outputId": "c2cbbf07-4bc0-4ac0-8dce-d8f2529671b3"
   },
   "outputs": [],
   "source": [
    "#2.\tWrite a Python program to convert Celsius to Fahrenheit?\n",
    "\n",
    "\n",
    "k = float(input(\"Enter the value in Celsius \"))\n",
    "\n",
    "def convert(k):\n",
    "  m = round(((k*(9/5)) + 32),3)\n",
    "  return m\n",
    "\n",
    "print(f\"{k} Celsius is equal to {convert(k)} Fahrenheit\")\n"
   ]
  },
  {
   "cell_type": "code",
   "execution_count": null,
   "id": "c20797fb",
   "metadata": {
    "colab": {
     "base_uri": "https://localhost:8080/"
    },
    "id": "c20797fb",
    "outputId": "71bdac7a-0da7-4b7d-c30e-797b71a142d8"
   },
   "outputs": [],
   "source": [
    "#3.\tWrite a Python program to display calendar?\n",
    "import calendar\n",
    " \n",
    "yy = 2022\n",
    "mm = 12\n",
    " \n",
    "# display the calendar month\n",
    "#print(calendar.month(yy, mm)) \n",
    "# display the calendar for entire year\n",
    "print(calendar.calendar(yy))"
   ]
  },
  {
   "cell_type": "code",
   "execution_count": null,
   "id": "1398ee45",
   "metadata": {
    "colab": {
     "base_uri": "https://localhost:8080/"
    },
    "id": "1398ee45",
    "outputId": "0a05dbab-381e-4526-d191-7d479e49b805"
   },
   "outputs": [],
   "source": [
    "#4.\tWrite a Python program to solve quadratic equation?\n",
    "\n",
    "#importing complexmath module\n",
    "import math\n",
    "\n",
    "a = 1\n",
    "b = 5\n",
    "c = 2\n",
    "\n",
    "discriminant = math.sqrt((b*b)- (4*a*c))\n",
    "\n",
    "root1 = (-b + discriminant)/(2*a)\n",
    "root2 = (-b - discriminant)/(2*a)\n",
    "\n",
    "print(f\"roots are {round(root1,3)},{round(root2,3)}\")\n",
    "\n"
   ]
  },
  {
   "cell_type": "code",
   "execution_count": null,
   "id": "e13e8513",
   "metadata": {
    "colab": {
     "base_uri": "https://localhost:8080/"
    },
    "id": "e13e8513",
    "outputId": "0794e5d0-512e-4de3-8bb0-bbbfc845c88b"
   },
   "outputs": [],
   "source": [
    "#5.\tWrite a Python program to swap two variables without temp variable?\n",
    "\n",
    "a = 10\n",
    "b = 20\n",
    "\n",
    "def swap(a,b):\n",
    "  a,b = b,a\n",
    "  return a,b\n",
    "\n",
    "a,b = swap(a,b)\n",
    "\n",
    "print(a,b)"
   ]
  },
  {
   "cell_type": "code",
   "execution_count": null,
   "id": "hPMPVk7JnsJ1",
   "metadata": {
    "id": "hPMPVk7JnsJ1"
   },
   "outputs": [],
   "source": []
  }
 ],
 "metadata": {
  "colab": {
   "provenance": []
  },
  "kernelspec": {
   "display_name": "Python 3 (ipykernel)",
   "language": "python",
   "name": "python3"
  },
  "language_info": {
   "codemirror_mode": {
    "name": "ipython",
    "version": 3
   },
   "file_extension": ".py",
   "mimetype": "text/x-python",
   "name": "python",
   "nbconvert_exporter": "python",
   "pygments_lexer": "ipython3",
   "version": "3.9.13"
  }
 },
 "nbformat": 4,
 "nbformat_minor": 5
}
