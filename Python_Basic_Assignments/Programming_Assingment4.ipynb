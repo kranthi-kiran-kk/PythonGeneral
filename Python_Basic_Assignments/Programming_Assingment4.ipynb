{
 "cells": [
  {
   "cell_type": "code",
   "execution_count": null,
   "id": "6d64db9e",
   "metadata": {},
   "outputs": [],
   "source": [
    "#1.\tWrite a Python Program to Find the Factorial of a Number?\n",
    "\n",
    "def fact(num):\n",
    "    i = num\n",
    "    fact = 1\n",
    "    while i > 0:\n",
    "        fact = fact * i\n",
    "        i = i-1\n",
    "    return(fact)\n",
    "\n",
    "\n",
    "fact(5)\n"
   ]
  },
  {
   "cell_type": "code",
   "execution_count": null,
   "id": "28b4946c",
   "metadata": {},
   "outputs": [],
   "source": [
    "#2.\tWrite a Python Program to Display the multiplication Table?\n",
    "\n",
    "number = int(input(\"Enter the number for which you need multiplication table \"))\n",
    "rang = int(input(\"Enter the number until which you need multiplication table \"))\n",
    "\n",
    "def table(num,rang):\n",
    "    for i in range(1,(rang+1)):\n",
    "        print(f\"{num} x {i} = {num*i}\")\n",
    "        \n",
    "table(number,rang)\n",
    "\n",
    "\n"
   ]
  },
  {
   "cell_type": "code",
   "execution_count": null,
   "id": "c5b971a0",
   "metadata": {},
   "outputs": [],
   "source": [
    "#3.\tWrite a Python Program to Print the Fibonacci sequence?\n",
    "\n",
    "def fibonaci(num):\n",
    "    start = 0\n",
    "    next = 1\n",
    "    i = 1\n",
    "    s = [start,next]\n",
    "    while i<num-1:\n",
    "        fib = start+next\n",
    "        s.append(fib)\n",
    "        start = next\n",
    "        next = fib\n",
    "        i = i+1\n",
    "    print(s)\n",
    "        \n",
    "fibonaci(10)\n",
    "    \n"
   ]
  },
  {
   "cell_type": "code",
   "execution_count": null,
   "id": "0d10e57d",
   "metadata": {},
   "outputs": [],
   "source": [
    "#4.\tWrite a Python Program to Check Armstrong Number?\n",
    "\n",
    "number = int(input(\"Enter the number you want to check\"))\n",
    "\n",
    "def armstrong(num):\n",
    "    sum = 0\n",
    "    temp = num\n",
    "    while num > 0:\n",
    "        digit = num % 10\n",
    "        sum = sum + digit ** 3\n",
    "        num = num //10\n",
    "        \n",
    "    if sum == temp:\n",
    "        print(f\"{temp} is an Armstrong Number\")\n",
    "    else:\n",
    "        print(f\"{temp} is not an Armstrong Number\")\n",
    "    \n",
    "armstrong(number)\n"
   ]
  },
  {
   "cell_type": "code",
   "execution_count": null,
   "id": "1062bcc1",
   "metadata": {},
   "outputs": [],
   "source": [
    "#5.\tWrite a Python Program to Find Armstrong Number in an Interval?\n",
    "\n",
    "start = int(input(\"Enter the starting number of the interval \"))\n",
    "end = int(input(\"Enter the Ending number of the interval \"))\n",
    "\n",
    "def armstrong(num):\n",
    "    sum = 0\n",
    "    temp = num\n",
    "    while num > 0:\n",
    "        digit = num % 10\n",
    "        sum = sum + digit ** 3\n",
    "        num = num //10\n",
    "        \n",
    "    if sum == temp:\n",
    "        return True\n",
    "    else:\n",
    "        return False\n",
    "        \n",
    "A_num = []\n",
    "\n",
    "for i in range(start,end+1):\n",
    "    if armstrong(i) == True:\n",
    "        A_num.append(i)\n",
    "    \n",
    "print(f\"Armstrong number/numbers in the given interval = {A_num}\")\n"
   ]
  },
  {
   "cell_type": "code",
   "execution_count": null,
   "id": "1e830921",
   "metadata": {},
   "outputs": [],
   "source": [
    "#6.\tWrite a Python Program to Find the Sum of Natural Numbers?\n",
    "\n",
    "number = int(input(\"Enter the natural number untill which sum is needed \"))\n",
    "\n",
    "def sum_natural(num):\n",
    "    return (num*(num+1))/2\n",
    "    \n",
    "sum_natural(number)"
   ]
  }
 ],
 "metadata": {
  "kernelspec": {
   "display_name": "Python 3 (ipykernel)",
   "language": "python",
   "name": "python3"
  },
  "language_info": {
   "codemirror_mode": {
    "name": "ipython",
    "version": 3
   },
   "file_extension": ".py",
   "mimetype": "text/x-python",
   "name": "python",
   "nbconvert_exporter": "python",
   "pygments_lexer": "ipython3",
   "version": "3.9.13"
  }
 },
 "nbformat": 4,
 "nbformat_minor": 5
}
