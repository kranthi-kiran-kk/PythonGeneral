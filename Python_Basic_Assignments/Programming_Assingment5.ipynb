{
 "cells": [
  {
   "cell_type": "code",
   "execution_count": null,
   "id": "848a4e1e",
   "metadata": {},
   "outputs": [],
   "source": [
    "#1.\tWrite a Python Program to Find LCM?\n",
    "\n",
    "a = int(input(\"Enter first Number\\n\"))\n",
    "b = int(input(\"Enter Second Number\\n\"))\n",
    "\n",
    "def lcm(a,b):\n",
    "    maxnum = max(a,b)\n",
    "    \n",
    "    while(True):\n",
    "        if(maxnum % a== 0  and maxnum % b == 0):\n",
    "            break\n",
    "        maxnum = maxnum + 1\n",
    "    \n",
    "    return maxnum\n",
    "\n",
    "c = lcm(a,b)\n",
    "\n",
    "print(f\"The LCM of {a} and {b} is {c}\")\n",
    "\n"
   ]
  },
  {
   "cell_type": "code",
   "execution_count": null,
   "id": "f8df4a0d",
   "metadata": {},
   "outputs": [],
   "source": [
    "#2.\tWrite a Python Program to Find HCF?\n",
    "\n",
    "a = int(input(\"Enter first Number\\n\"))\n",
    "b = int(input(\"Enter Second Number\\n\"))\n",
    "\n",
    "def hcf(a,b):\n",
    "    \n",
    "    minnum = min(a,b)\n",
    "    h = 0 \n",
    "    \n",
    "    for i in range(1, minnum+1):\n",
    "        if a%i == 0 and b%i == 0:\n",
    "            k = i\n",
    "            \n",
    "    return k\n",
    "    \n",
    "c = hcf(a,b)\n",
    "\n",
    "print(f\"The HCF of {a} and {b} is {c}\")\n",
    "        \n",
    "\n"
   ]
  },
  {
   "cell_type": "code",
   "execution_count": null,
   "id": "e3318f0c",
   "metadata": {},
   "outputs": [],
   "source": [
    "#3.\tWrite a Python Program to Convert Decimal to Binary, Octal and Hexadecimal?\n",
    "\n",
    "a = int(input(\"Enter the Number\\n\"))\n",
    "\n",
    "def convert(a):\n",
    "    print(f\"Binary value of decimal number {a} is {bin(a)}\")\n",
    "    print(f\"Octal value of decimal number {a} is {oct(a)}\")\n",
    "    print(f\"Hexadecimal value of decimal number {a} is {hex(a)}\")\n",
    "    \n",
    "convert(a)\n"
   ]
  },
  {
   "cell_type": "code",
   "execution_count": null,
   "id": "653f7fd4",
   "metadata": {},
   "outputs": [],
   "source": [
    "#4.\tWrite a Python Program To Find ASCII value of a character?\n",
    "\n",
    "a = input(\"Enter the character\\n\")\n",
    "\n",
    "print(f\"The ASCII value of {a} is {ord(a)}\")\n"
   ]
  },
  {
   "cell_type": "code",
   "execution_count": null,
   "id": "3b43daa1",
   "metadata": {},
   "outputs": [],
   "source": [
    "#5.\tWrite a Python Program to Make a Simple Calculator with 4 basic mathematical operations?\n",
    "\n",
    "a = int(input(\"Enter first Number\\n\"))\n",
    "b = int(input(\"Enter Second Number\\n\"))\n",
    "\n",
    "class Calculator:\n",
    "    \n",
    "    def __init__(self,a,b):\n",
    "        self.a = a\n",
    "        self.b = b\n",
    "        \n",
    "    def addition(self):\n",
    "        return (self.a + self.b)\n",
    "    \n",
    "    def substraction(self):\n",
    "        return (self.a - self.b)\n",
    "    \n",
    "    def multiplication(self):\n",
    "        return (self.a * self.b)\n",
    "    \n",
    "    def division(self):\n",
    "        return (self.a / self.b)\n",
    "    \n",
    "calc = Calculator(a,b)\n",
    "\n",
    "print(f\"The result of addition is {calc.addition()}\")\n",
    "\n",
    "print(f\"The result of substraction is {calc.substraction()}\")\n",
    "\n",
    "print(f\"The result of multiplication is {calc.multiplication()}\")\n",
    "\n",
    "print(f\"The result of division is {calc.division()}\")\n",
    "    \n",
    "    "
   ]
  }
 ],
 "metadata": {
  "kernelspec": {
   "display_name": "Python 3 (ipykernel)",
   "language": "python",
   "name": "python3"
  },
  "language_info": {
   "codemirror_mode": {
    "name": "ipython",
    "version": 3
   },
   "file_extension": ".py",
   "mimetype": "text/x-python",
   "name": "python",
   "nbconvert_exporter": "python",
   "pygments_lexer": "ipython3",
   "version": "3.9.13"
  }
 },
 "nbformat": 4,
 "nbformat_minor": 5
}
