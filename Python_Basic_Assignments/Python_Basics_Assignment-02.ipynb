{
 "cells": [
  {
   "cell_type": "raw",
   "id": "75b1fa7e",
   "metadata": {},
   "source": [
    "1.What are the two values of the Boolean data type? How do you write them?\n",
    "\n",
    "Two values of boolean data type are true and false\n",
    "We can examine boolean values with the help of bool() method\n"
   ]
  },
  {
   "cell_type": "raw",
   "id": "cc8735c8",
   "metadata": {},
   "source": [
    "2. What are the three different types of Boolean operators?\n",
    "\n",
    "Three different types of Boolean Operators are\n",
    "1. AND operator\n",
    "2. OR operator\n",
    "3. Not operator\n"
   ]
  },
  {
   "cell_type": "raw",
   "id": "30613cf5",
   "metadata": {},
   "source": [
    "3. Make a list of each Boolean operator's truth tables \n",
    "(i.e. every possible combination of Boolean values for the operator and what it evaluate ).\n",
    "\n",
    "a= True\n",
    "b = False\n",
    "\n",
    "a and a = a\n",
    "a and b = b\n",
    "b and b = b\n",
    "b and a = b\n",
    "\n",
    "a or b = a\n",
    "a or a = a\n",
    "b or b = b\n",
    "b or a = a\n",
    "\n",
    "not a = b\n",
    "not b = a"
   ]
  },
  {
   "cell_type": "raw",
   "id": "9358c4f6",
   "metadata": {},
   "source": [
    "4. What are the values of the following expressions?\n",
    "\n",
    "(5 > 4) and (3 == 5)  = 'False'\n",
    "not (5 > 4) = 'False'\n",
    "(5 > 4) or (3 == 5) = 'True'\n",
    "not ((5 > 4) or (3 == 5)) = 'False'\n",
    "(True and True) and (True == False) = 'False'\n",
    "(not False) or (not True) = 'True'\n"
   ]
  },
  {
   "cell_type": "raw",
   "id": "023f5f6e",
   "metadata": {},
   "source": [
    "5. What are the six comparison operators?\n",
    "\n",
    "Six comparison operator are\n",
    "\n",
    "1 ==\n",
    "2 !=\n",
    "3 <=\n",
    "4 >=\n",
    "5 <\n",
    "6 >\n"
   ]
  },
  {
   "cell_type": "raw",
   "id": "a4819b2a",
   "metadata": {},
   "source": [
    "6. How do you tell the difference between the equal to and assignment operators?\n",
    "Describe a condition and when you would use one.\n",
    "\n",
    "Assignment operator is '=' and equal to is denoted as '=='\n",
    "For assignment we use assignment operator and for comparision we use equal to operator.\n"
   ]
  },
  {
   "cell_type": "raw",
   "id": "0b9ddb1f",
   "metadata": {},
   "source": [
    "7. Identify the three blocks in this code:\n",
    "spam = 0\n",
    "if spam == 10:\n",
    "print('eggs')\n",
    "if spam > 5:\n",
    "print('bacon')\n",
    "else:\n",
    "print('ham')\n",
    "print('spam')\n",
    "print('spam')\n",
    "\n",
    "Three different blocks are\n",
    "\n",
    "1st block:\n",
    " if spam == 10:\n",
    "  print('eggs')\n",
    "\n",
    "2nd block:\n",
    " if spam > 5:\n",
    "  print('bacon')\n",
    "\n",
    "3rd block:\n",
    " else:\n",
    "  print('ham')\n",
    "  print('spam')\n",
    "  print('spam')"
   ]
  },
  {
   "cell_type": "raw",
   "id": "874ee9c4",
   "metadata": {},
   "source": [
    "8. Write code that prints Hello if 1 is stored in spam, prints Howdy if 2 is stored in spam, \n",
    "and prints Greetings! if anything else is stored in spam.\n",
    "\n",
    "spam = int(input('Enter only an integer'))\n",
    "\n",
    "if spam == 1:\n",
    "    \n",
    "    print('Hello')\n",
    "    \n",
    "elif spam == 2:\n",
    "    \n",
    "    print('Howdy')\n",
    "    \n",
    "else:\n",
    "    print('Greetings!')\n",
    "    \n",
    "\n",
    "\n"
   ]
  },
  {
   "cell_type": "raw",
   "id": "377aa4af",
   "metadata": {},
   "source": [
    "9.If your programme is stuck in an endless loop, what keys you’ll press?\n",
    "\n",
    "We need to press ctrl+c\n"
   ]
  },
  {
   "cell_type": "raw",
   "id": "f6f90be8",
   "metadata": {},
   "source": [
    "10. How can you tell the difference between break and continue?\n",
    "\n",
    "Using break statement we can come out of the loop but continue statement will take the code to next iteration\n"
   ]
  },
  {
   "cell_type": "raw",
   "id": "b6cb1047",
   "metadata": {},
   "source": [
    "11. In a for loop, what is the difference between range(10), range(0, 10), and range(0, 10, 1)?\n",
    "\n",
    "When we specify \n",
    "\n",
    "range(10), we will get a range of numbers starting from 0 to 9 i.e 10 numbers starting from 0 till 10 excluding the upper bound.\n",
    "\n",
    "range(0,10) will help us to specify starting and ending point of the range excluding the upper bound.\n",
    "\n",
    "range(0,10,1) will help us to specify the difference between one number and other in the range."
   ]
  },
  {
   "cell_type": "raw",
   "id": "ab60d877",
   "metadata": {},
   "source": [
    "12. Write a short program that prints the numbers 1 to 10 using a for loop. \n",
    "Then write an equivalent program that prints the numbers 1 to 10 using a while loop.\n",
    "\n",
    "for i in range(10):\n",
    "    print(i+1)\n",
    "    \n",
    "i=1    \n",
    "while i<=10:\n",
    "    print (i)\n",
    "    i = i + 1\n"
   ]
  },
  {
   "cell_type": "code",
   "execution_count": null,
   "id": "3eae89cb",
   "metadata": {},
   "outputs": [],
   "source": [
    "13. If you had a function named bacon() inside a module named spam, how would you call it after importing spam?\n",
    "\n",
    "We can use spam.bacon()\n"
   ]
  }
 ],
 "metadata": {
  "kernelspec": {
   "display_name": "Python 3 (ipykernel)",
   "language": "python",
   "name": "python3"
  },
  "language_info": {
   "codemirror_mode": {
    "name": "ipython",
    "version": 3
   },
   "file_extension": ".py",
   "mimetype": "text/x-python",
   "name": "python",
   "nbconvert_exporter": "python",
   "pygments_lexer": "ipython3",
   "version": "3.9.13"
  }
 },
 "nbformat": 4,
 "nbformat_minor": 5
}
