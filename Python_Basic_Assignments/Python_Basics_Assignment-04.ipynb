{
 "cells": [
  {
   "cell_type": "raw",
   "id": "141c326f",
   "metadata": {},
   "source": [
    "1. What exactly is []?\n",
    "\n",
    "[] can be used a notation to denote empty list\n"
   ]
  },
  {
   "cell_type": "raw",
   "id": "fa1446ff",
   "metadata": {},
   "source": [
    "2. In a list of values stored in a variable called spam, how would you assign the value 'hello' \n",
    "as the third value? (Assume [2, 4, 6, 8, 10] are in spam.)\n",
    "\n",
    "spam[2] = 'hello'\n"
   ]
  },
  {
   "cell_type": "raw",
   "id": "12182e89",
   "metadata": {},
   "source": [
    "Let's pretend the spam includes the list ['a', 'b', 'c', 'd'] for the next three queries.\n",
    "\n",
    "3. What is the value of spam[int(int('3' * 2) / 11)]?\n",
    "\n",
    "'d'"
   ]
  },
  {
   "cell_type": "raw",
   "id": "6736f706",
   "metadata": {},
   "source": [
    "4. What is the value of spam[-1]?\n",
    "\n",
    "'d'\n"
   ]
  },
  {
   "cell_type": "raw",
   "id": "44ee8971",
   "metadata": {},
   "source": [
    "5. What is the value of spam[:2]?\n",
    "\n",
    "['a', 'b']"
   ]
  },
  {
   "cell_type": "raw",
   "id": "e542e37b",
   "metadata": {},
   "source": [
    "Let's pretend bacon has the list [3.14, 'cat,' 11, 'cat,' True] for the next three questions.\n",
    "6. What is the value of bacon.index('cat')?\n",
    " \n",
    "    1"
   ]
  },
  {
   "cell_type": "raw",
   "id": "87cc738f",
   "metadata": {},
   "source": [
    "7. How does bacon.append(99) change the look of the list value in bacon?\n",
    "\n",
    "[3.14, 'cat', 11, 'cat', True, 99]"
   ]
  },
  {
   "cell_type": "raw",
   "id": "8da72d2c",
   "metadata": {},
   "source": [
    "8. How does bacon.remove('cat') change the look of the list in bacon?\n",
    "\n",
    "[3.14, 11, 'cat', True, 99]\n"
   ]
  },
  {
   "cell_type": "raw",
   "id": "0a390292",
   "metadata": {},
   "source": [
    "9. What are the list concatenation and list replication operators?\n",
    "\n",
    " The operator for list concatenation is + and the operator for replication is *.\n"
   ]
  },
  {
   "cell_type": "raw",
   "id": "6dba5b10",
   "metadata": {},
   "source": [
    "10. What is difference between the list methods append() and insert()?\n",
    "\n",
    "append() functions adds the given element at the end of a list\n",
    "\n",
    "using insert() function we can insert an element at a required index\n"
   ]
  },
  {
   "cell_type": "raw",
   "id": "e3cacd17",
   "metadata": {},
   "source": [
    "11. What are the two methods for removing items from a list?\n",
    "\n",
    "Two methods to remove items from list are:\n",
    "    \n",
    "1. remove() method\n",
    "2. pop() method\n",
    "3. del operator\n",
    " "
   ]
  },
  {
   "cell_type": "raw",
   "id": "fc864f2e",
   "metadata": {},
   "source": [
    "12. Describe how list values and string values are identical.\n",
    "\n",
    "Both list values and string values are iterable and indexing can also be done on both of them\n"
   ]
  },
  {
   "cell_type": "raw",
   "id": "59295494",
   "metadata": {},
   "source": [
    "13. What's the difference between tuples and lists?\n",
    "\n",
    "Tuples are immutable and lists are mutable\n"
   ]
  },
  {
   "cell_type": "raw",
   "id": "48fa0c26",
   "metadata": {},
   "source": [
    "14. How do you type a tuple value that only contains the integer 42?\n",
    "\n",
    "tuple([42])"
   ]
  },
  {
   "cell_type": "raw",
   "id": "bc2d0a2e",
   "metadata": {},
   "source": [
    "15. How do you get a list value's tuple form? How do you get a tuple value's list form?\n",
    "\n",
    "l = list, t= tuple\n",
    "\n",
    "list value's tuple form = tuple(l)\n",
    "\n",
    "tuple value's list form = list(t)\n",
    "\n"
   ]
  },
  {
   "cell_type": "raw",
   "id": "b57be287",
   "metadata": {},
   "source": [
    "16. Variables that \"contain\" list values are not necessarily lists themselves. Instead, what do they contain?\n",
    "\n",
    "They can contain references to list values\n"
   ]
  },
  {
   "cell_type": "raw",
   "id": "afac915e",
   "metadata": {},
   "source": [
    "17. How do you distinguish between copy.copy() and copy.deepcopy()?\n",
    "\n",
    "copy.copy(), can be used to make a duplicate copy of a mutable value like a list or dictionary\n",
    "\n",
    "If the list you need to copy contains lists, then use the copy.deepcopy() function instead of copy.copy().\n",
    "The deepcopy() function will copy these inner lists as well.\n",
    "\n"
   ]
  }
 ],
 "metadata": {
  "kernelspec": {
   "display_name": "Python 3 (ipykernel)",
   "language": "python",
   "name": "python3"
  },
  "language_info": {
   "codemirror_mode": {
    "name": "ipython",
    "version": 3
   },
   "file_extension": ".py",
   "mimetype": "text/x-python",
   "name": "python",
   "nbconvert_exporter": "python",
   "pygments_lexer": "ipython3",
   "version": "3.9.13"
  }
 },
 "nbformat": 4,
 "nbformat_minor": 5
}
