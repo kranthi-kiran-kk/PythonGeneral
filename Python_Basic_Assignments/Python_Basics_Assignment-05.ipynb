{
 "cells": [
  {
   "cell_type": "raw",
   "id": "f1266d54",
   "metadata": {},
   "source": [
    "1. What does an empty dictionary's code look like\n",
    "\n",
    "d = {}"
   ]
  },
  {
   "cell_type": "raw",
   "id": "157c09d9",
   "metadata": {},
   "source": [
    "2. What is the value of a dictionary value with the key 'foo' and the value 42?\n",
    "\n",
    "d ={'foo' : 42 }\n",
    "\n",
    "key = 'foo'\n",
    "value = 42"
   ]
  },
  {
   "cell_type": "raw",
   "id": "6af9caf4",
   "metadata": {},
   "source": [
    "3. What is the most significant distinction between a dictionary and a list?\n",
    "\n",
    "dictonary is a collection of key value pairs where as list is a collection of items. Also items stored in the list are ordered and items stored in dictonary are unordered"
   ]
  },
  {
   "cell_type": "raw",
   "id": "47e44cfd",
   "metadata": {},
   "source": [
    "4. What happens if you try to access spam['foo'] if spam is {'bar': 100}?\n",
    "\n",
    "We will get a keyerror error\n"
   ]
  },
  {
   "cell_type": "raw",
   "id": "0afb5d1e",
   "metadata": {},
   "source": [
    "5. If a dictionary is stored in spam, what is the difference between the expressions 'cat' in spam and 'cat' in spam.keys()?\n",
    "\n",
    "There is no difference. The in operator checks if a value exists as a key in the dictionary.\n"
   ]
  },
  {
   "cell_type": "raw",
   "id": "c7247167",
   "metadata": {},
   "source": [
    "6. If a dictionary is stored in spam, what is the difference between the expressions 'cat' in spam and 'cat' in spam.values()?\n",
    "\n",
    "'cat' in spam checks whether there is a 'cat' key in the dictionary, \n",
    "'cat' in spam.values() checks whether there is a value 'cat' for any of the keys in spam.\n"
   ]
  },
  {
   "cell_type": "raw",
   "id": "975832f6",
   "metadata": {},
   "source": [
    "7. What is a shortcut for the following code?\n",
    "if 'color' not in spam:\n",
    "spam['color'] = 'black'\n",
    "\n",
    "spam.setdefault('color', 'black')\n",
    "\n"
   ]
  },
  {
   "cell_type": "raw",
   "id": "2cf69ade",
   "metadata": {},
   "source": [
    "8. How do you \"pretty print\" dictionary values using which module and function?\n",
    "\n",
    "pprint.pprint()\n"
   ]
  }
 ],
 "metadata": {
  "kernelspec": {
   "display_name": "Python 3 (ipykernel)",
   "language": "python",
   "name": "python3"
  },
  "language_info": {
   "codemirror_mode": {
    "name": "ipython",
    "version": 3
   },
   "file_extension": ".py",
   "mimetype": "text/x-python",
   "name": "python",
   "nbconvert_exporter": "python",
   "pygments_lexer": "ipython3",
   "version": "3.9.13"
  }
 },
 "nbformat": 4,
 "nbformat_minor": 5
}
