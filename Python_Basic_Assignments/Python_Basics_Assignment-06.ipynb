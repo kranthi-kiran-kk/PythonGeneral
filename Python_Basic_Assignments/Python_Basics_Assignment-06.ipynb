{
 "cells": [
  {
   "cell_type": "raw",
   "id": "5319ee9e",
   "metadata": {},
   "source": [
    "1. What are escape characters, and how do you use them?\n",
    "\n",
    "We use escape characters to insert characters into a string which can not be inserted in a normal way\n",
    "\n",
    "We can use escape character with a backlash followed by character we want to insert\n"
   ]
  },
  {
   "cell_type": "raw",
   "id": "ff1bccd7",
   "metadata": {},
   "source": [
    "2. What do the escape characters n and t stand for?\n",
    "\n",
    "n- new line\n",
    "\n",
    "t- tab\n"
   ]
  },
  {
   "cell_type": "raw",
   "id": "c5217bba",
   "metadata": {},
   "source": [
    "3. What is the way to include backslash characters in a string?\n",
    "\n",
    "we can use double backlash(\\\\) to include a backlash character\n"
   ]
  },
  {
   "cell_type": "raw",
   "id": "a35f25d0",
   "metadata": {},
   "source": [
    "4. The string \"Howl's Moving Castle\" is a correct value. Why isn't the single quote character in the word Howl's not escaped a problem?\n",
    "\n",
    "As we represented the string with double quote sigle quote did not create a problem\n"
   ]
  },
  {
   "cell_type": "raw",
   "id": "cd65bb1a",
   "metadata": {},
   "source": [
    "5. How do you write a string of newlines if you don't want to use the n character?\n",
    "\n",
    "We can use multiline strings to create newlines in strings if we don't want to use the n character.\n"
   ]
  },
  {
   "cell_type": "raw",
   "id": "d1b7190c",
   "metadata": {},
   "source": [
    "6. What are the values of the given expressions?\n",
    "'Hello, world!'[1]\n",
    "'Hello, world!'[0:5]\n",
    "'Hello, world!'[:5]\n",
    "'Hello, world!'[3:]\n",
    "\n",
    "1. 'e'\n",
    "2. 'Hello'\n",
    "3. 'Hello'\n",
    "4. 'lo, world!'"
   ]
  },
  {
   "cell_type": "raw",
   "id": "1dfa4218",
   "metadata": {},
   "source": [
    "7. What are the values of the following expressions?\n",
    "'Hello'.upper()\n",
    "'Hello'.upper().isupper()\n",
    "'Hello'.upper().lower()\n",
    "\n",
    "1. HELLO \n",
    "2. True \n",
    "3. hello"
   ]
  },
  {
   "cell_type": "raw",
   "id": "4ae881d2",
   "metadata": {},
   "source": [
    "8. What are the values of the following expressions?\n",
    "'Remember, remember, the fifth of July.'.split()\n",
    "'-'.join('There can only one.'.split())\n",
    "\n",
    "1. 'Remember,', 'remember,', 'the', 'fifth', 'of', 'July.']\n",
    "\n",
    "2. 'There-can-only-one.'"
   ]
  },
  {
   "cell_type": "raw",
   "id": "961a7b63",
   "metadata": {},
   "source": [
    "9. What are the methods for right-justifying, left-justifying, and centering a string?\n",
    "\n",
    "rjust() - right-justifying\n",
    "\n",
    "ljust() - left-justifying\n",
    "\n",
    "center() - centering"
   ]
  },
  {
   "cell_type": "raw",
   "id": "7122a1ab",
   "metadata": {},
   "source": [
    "10. What is the best way to remove whitespace characters from the start or end?\n",
    "\n",
    "We can use lstrip() and rstrip() methods to remove whitespace characters from the start or end"
   ]
  }
 ],
 "metadata": {
  "kernelspec": {
   "display_name": "Python 3 (ipykernel)",
   "language": "python",
   "name": "python3"
  },
  "language_info": {
   "codemirror_mode": {
    "name": "ipython",
    "version": 3
   },
   "file_extension": ".py",
   "mimetype": "text/x-python",
   "name": "python",
   "nbconvert_exporter": "python",
   "pygments_lexer": "ipython3",
   "version": "3.9.13"
  }
 },
 "nbformat": 4,
 "nbformat_minor": 5
}
