{
 "cells": [
  {
   "cell_type": "raw",
   "id": "b2315a74",
   "metadata": {},
   "source": [
    "1. To what does a relative path refer?\n",
    "\n",
    "A relative path in Python is a path that describes the location of a \n",
    "directory relative to the entry point where you run the Python script.\n",
    "We can say they are relative to current working directory\n"
   ]
  },
  {
   "cell_type": "raw",
   "id": "a1c2e0c4",
   "metadata": {},
   "source": [
    "2. What does an absolute path start with your operating system?\n",
    "\n",
    "Absolute paths start with the root folder, such as / or C:\\.\n"
   ]
  },
  {
   "cell_type": "raw",
   "id": "01e57af8",
   "metadata": {},
   "source": [
    "3. What do the functions os.getcwd() and os.chdir() do?\n",
    "\n",
    "os.getcwd() - gets the current working directory\n",
    "\n",
    "os.chdir() - used to change the directory\n"
   ]
  },
  {
   "cell_type": "raw",
   "id": "5b6aab5e",
   "metadata": {},
   "source": [
    "4. What are the . and .. folders?\n",
    "\n",
    "The . folder is the current folder, and .. is the parent folder\n"
   ]
  },
  {
   "cell_type": "raw",
   "id": "a3463b3a",
   "metadata": {},
   "source": [
    "5. In C:\\bacon\\eggs\\spam.txt, which part is the dir name, and which part is the base name?\n",
    "    \n",
    "    Base name : spam.txt\n",
    "    Directory name : C:\\bacon\\eggs\n"
   ]
  },
  {
   "cell_type": "raw",
   "id": "4aae3210",
   "metadata": {},
   "source": [
    "6. What are the three “mode” arguments that can be passed to the open() function?\n",
    "\n",
    "The string 'r' for read mode, 'w' for write mode, and 'a' for append mode"
   ]
  },
  {
   "cell_type": "raw",
   "id": "ffcd5386",
   "metadata": {},
   "source": [
    "7. What happens if an existing file is opened in write mode?\n",
    "\n",
    "An existing file opened in write mode is erased and completely overwritten\n"
   ]
  },
  {
   "cell_type": "raw",
   "id": "e3cabd9d",
   "metadata": {},
   "source": [
    "8. How do you tell the difference between read() and readlines()?\n",
    "\n",
    "The read() method returns the file’s entire contents as a single string value. \n",
    "The readlines() method returns a list of strings, where each string is a line from content of the file.\n",
    "\n",
    "\n"
   ]
  },
  {
   "cell_type": "raw",
   "id": "57e283db",
   "metadata": {},
   "source": [
    "9. What data structure does a shelf value resemble?\n",
    "\n",
    "A shelf value resembles a dictionary value\n"
   ]
  }
 ],
 "metadata": {
  "kernelspec": {
   "display_name": "Python 3 (ipykernel)",
   "language": "python",
   "name": "python3"
  },
  "language_info": {
   "codemirror_mode": {
    "name": "ipython",
    "version": 3
   },
   "file_extension": ".py",
   "mimetype": "text/x-python",
   "name": "python",
   "nbconvert_exporter": "python",
   "pygments_lexer": "ipython3",
   "version": "3.9.13"
  }
 },
 "nbformat": 4,
 "nbformat_minor": 5
}
