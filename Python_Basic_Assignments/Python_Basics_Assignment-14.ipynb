{
 "cells": [
  {
   "cell_type": "raw",
   "id": "8d503fec",
   "metadata": {},
   "source": [
    "1. What does RGBA stand for?\n",
    "\n",
    "RGBA stands for Red-Green-Blue-Alpha\n"
   ]
  },
  {
   "cell_type": "raw",
   "id": "0b04c4e8",
   "metadata": {},
   "source": [
    "2. From the Pillow module, how do you get the RGBA value of any images?\n",
    "\n",
    "We need to convert image into RGBA values and use .getdata() method to find RGBA values\n",
    "\n",
    "from PIL import Image\n",
    "\n",
    "img = Image.open(‘image.png’)\n",
    "\n",
    "rgba = img.convert(“RGBA”)\n",
    "\n",
    "datas = rgba.getdata()\n"
   ]
  },
  {
   "cell_type": "raw",
   "id": "12b08439",
   "metadata": {},
   "source": [
    "3. What is a box tuple, and how does it work?\n",
    "\n",
    "\n",
    "A box tuple is a tuple value of four integers: the left edge x-coordinate,\n",
    "the top edge y-coordinate, the width, and the height, respectively.\n"
   ]
  },
  {
   "cell_type": "raw",
   "id": "ebda3cf1",
   "metadata": {},
   "source": [
    "4. Use your image and load in notebook then, How can you find out the width and height of an Image object?\n",
    "\n",
    "imageObj.size can be used to find width and height of image object\n"
   ]
  },
  {
   "cell_type": "raw",
   "id": "58d8872c",
   "metadata": {},
   "source": [
    "5. What method would you call to get Image object for a 100×100 image, excluding the lower-left quarter of it?\n",
    "\n",
    "We can call imageObj.crop((0, 50, 50, 50)) method to get the image excluding lower-left quarter of it\n"
   ]
  },
  {
   "cell_type": "raw",
   "id": "8573e8b6",
   "metadata": {},
   "source": [
    "6. After making changes to an Image object, how could you save it as an image file?\n",
    "\n",
    "We can call the imageObj.save('new_filename.png') method\n"
   ]
  },
  {
   "cell_type": "raw",
   "id": "aecaf542",
   "metadata": {},
   "source": [
    "7. What module contains Pillow’s shape-drawing code?\n",
    "\n",
    "ImageDraw module contains Pillow’s shape-drawing code\n"
   ]
  },
  {
   "cell_type": "raw",
   "id": "45655395",
   "metadata": {},
   "source": [
    "8. Image objects do not have drawing methods. What kind of object does? How do you get this kind of object?\n",
    "\n",
    "ImageDraw objects have shape-drawing methods such as point(), line(), or rectangle(). \n",
    "They are returned by passing the Image object to the ImageDraw.Draw() function.\n"
   ]
  }
 ],
 "metadata": {
  "kernelspec": {
   "display_name": "Python 3 (ipykernel)",
   "language": "python",
   "name": "python3"
  },
  "language_info": {
   "codemirror_mode": {
    "name": "ipython",
    "version": 3
   },
   "file_extension": ".py",
   "mimetype": "text/x-python",
   "name": "python",
   "nbconvert_exporter": "python",
   "pygments_lexer": "ipython3",
   "version": "3.9.13"
  }
 },
 "nbformat": 4,
 "nbformat_minor": 5
}
