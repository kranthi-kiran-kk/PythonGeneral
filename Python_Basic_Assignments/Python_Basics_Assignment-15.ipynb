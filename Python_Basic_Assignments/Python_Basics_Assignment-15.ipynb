{
 "cells": [
  {
   "cell_type": "raw",
   "id": "c3ad847d",
   "metadata": {},
   "source": [
    "1.How many seconds are in an hour? Use the interactive interpreter as a calculator and multiply \n",
    "the number of seconds in a minute (60) by the number of minutes in an hour (also 60).\n",
    "\n",
    "sec_per_min = 60\n",
    "min_per_hour = 60\n",
    "\n",
    "sec_per_min*min_per_hour"
   ]
  },
  {
   "cell_type": "raw",
   "id": "227517b5",
   "metadata": {},
   "source": [
    "2. Assign the result from the previous task (seconds in an hour) to a variable called seconds_per_hour.\n",
    "\n",
    "seconds_per_hour = sec_per_min*min_per_hour\n"
   ]
  },
  {
   "cell_type": "raw",
   "id": "a44bd735",
   "metadata": {},
   "source": [
    "3. How many seconds do you think there are in a day? Make use of the variables seconds per hour and minutes per hour.\n",
    "\n",
    "(seconds_per_hour/60)*min_per_hour*24\n"
   ]
  },
  {
   "cell_type": "raw",
   "id": "ebaab480",
   "metadata": {},
   "source": [
    "4. Calculate seconds per day again, but this time save the result in a variable called seconds_per_day\n",
    "\n",
    "seconds_per_day =(seconds_per_hour/60)*min_per_hour*24\n",
    "\n"
   ]
  },
  {
   "cell_type": "raw",
   "id": "f1e18e6e",
   "metadata": {},
   "source": [
    "5. Divide seconds_per_day by seconds_per_hour. Use floating-point (/) division.\n",
    "\n",
    "seconds_per_day/seconds_per_hour\n"
   ]
  },
  {
   "cell_type": "raw",
   "id": "aabf9361",
   "metadata": {},
   "source": [
    "6. Divide seconds_per_day by seconds_per_hour, using integer (//) division. Did this number agree \n",
    "with the floating-point value from the previous question, aside from the final .0?\n",
    "\n",
    "seconds_per_day//seconds_per_hour , both the results are same"
   ]
  },
  {
   "cell_type": "markdown",
   "id": "58a61be8",
   "metadata": {},
   "source": [
    "7. Write a generator, genPrimes, that returns the \n",
    "sequence of prime numbers on successive calls to its next() method: 2, 3, 5, 7, 11, ...\n",
    "\n"
   ]
  },
  {
   "cell_type": "code",
   "execution_count": 59,
   "id": "a1160ae2",
   "metadata": {},
   "outputs": [
    {
     "name": "stdout",
     "output_type": "stream",
     "text": [
      "2\n",
      "3\n"
     ]
    }
   ],
   "source": [
    "def genPrimes(limit):\n",
    "    \n",
    "    m = 2\n",
    "    \n",
    "    def check(k):\n",
    "        for i in range(2,k):\n",
    "            if((k % i) == 0):\n",
    "                break\n",
    "            else:\n",
    "                return(k)\n",
    "    l =[2]\n",
    "    while (m <= limit):\n",
    "        if (type(check(m)) == int):\n",
    "            l.append(m)\n",
    "        m = m+1\n",
    "    \n",
    "    for i in l:\n",
    "        yield i\n",
    "    \n",
    "\n",
    "x = genPrimes(5)\n",
    "print(next(x))\n",
    "print(next(x))\n",
    "   "
   ]
  },
  {
   "cell_type": "code",
   "execution_count": 56,
   "id": "bf4a93c4",
   "metadata": {},
   "outputs": [
    {
     "name": "stdout",
     "output_type": "stream",
     "text": [
      "2\n",
      "3\n",
      "5\n",
      "7\n"
     ]
    }
   ],
   "source": [
    "for i in genPrimes(7):\n",
    "    print(i)\n"
   ]
  }
 ],
 "metadata": {
  "kernelspec": {
   "display_name": "Python 3 (ipykernel)",
   "language": "python",
   "name": "python3"
  },
  "language_info": {
   "codemirror_mode": {
    "name": "ipython",
    "version": 3
   },
   "file_extension": ".py",
   "mimetype": "text/x-python",
   "name": "python",
   "nbconvert_exporter": "python",
   "pygments_lexer": "ipython3",
   "version": "3.9.13"
  }
 },
 "nbformat": 4,
 "nbformat_minor": 5
}
