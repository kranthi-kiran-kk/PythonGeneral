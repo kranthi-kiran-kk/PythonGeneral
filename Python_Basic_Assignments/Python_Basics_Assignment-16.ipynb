{
 "cells": [
  {
   "cell_type": "markdown",
   "id": "4a86cbe2",
   "metadata": {},
   "source": [
    "1. Create a list called years_list, starting with the year of your birth, \n",
    "and each year thereafter until the year of your fifth birthday. For example, \n",
    "if you were born in 1980. the list would be years_list = [1980, 1981, 1982, 1983, 1984, 1985].\n"
   ]
  },
  {
   "cell_type": "code",
   "execution_count": null,
   "id": "6f193bfc",
   "metadata": {},
   "outputs": [],
   "source": [
    "\n",
    "def year(k):\n",
    "    years_list =[]\n",
    "    for i in range(k, k+5):\n",
    "        years_list.append(i)\n",
    "    return years_list\n",
    "                 \n",
    "years_list = year(1996)   \n",
    "\n",
    "years_list\n",
    "    "
   ]
  },
  {
   "cell_type": "raw",
   "id": "85f9ef99",
   "metadata": {},
   "source": [
    "2. In which year in years_list was your third birthday? Remember, you were 0 years of age for your first year.\n",
    "\n",
    "years_list[3]\n"
   ]
  },
  {
   "cell_type": "raw",
   "id": "c85d0d02",
   "metadata": {},
   "source": [
    "3.In the years list, which year were you the oldest?\n",
    "\n",
    "years_list[4]\n"
   ]
  },
  {
   "cell_type": "markdown",
   "id": "90edb1ce",
   "metadata": {},
   "source": [
    "4. Make a list called things with these three strings as elements: \"mozzarella\", \"cinderella\", \"salmonella\".\n"
   ]
  },
  {
   "cell_type": "code",
   "execution_count": null,
   "id": "cb48fb5d",
   "metadata": {},
   "outputs": [],
   "source": [
    "things = [\"mozzarella\", \"cinderella\", \"salmonella\"]\n",
    "things"
   ]
  },
  {
   "cell_type": "markdown",
   "id": "49298376",
   "metadata": {},
   "source": [
    "5. Capitalize the element in things that refers to a person and then print the list. Did it change the element in the list?\n"
   ]
  },
  {
   "cell_type": "code",
   "execution_count": null,
   "id": "ad7efb66",
   "metadata": {},
   "outputs": [],
   "source": [
    "k = things[1].capitalize()\n",
    "print(k)\n",
    "print(things)\n",
    "\n",
    "#It will not alter the original list unless we assign that element to the list"
   ]
  },
  {
   "cell_type": "markdown",
   "id": "08c1edb4",
   "metadata": {},
   "source": [
    "6. Make a surprise list with the elements \"Groucho,\" \"Chico,\" and \"Harpo.\"\n"
   ]
  },
  {
   "cell_type": "code",
   "execution_count": null,
   "id": "d3ce37df",
   "metadata": {},
   "outputs": [],
   "source": [
    "surprise = [\"Groucho\", \"Chico\", \"Harpo\"]"
   ]
  },
  {
   "cell_type": "markdown",
   "id": "294f0ec9",
   "metadata": {},
   "source": [
    "7. Lowercase the last element of the surprise list, reverse it, and then capitalize it.\n"
   ]
  },
  {
   "cell_type": "code",
   "execution_count": null,
   "id": "f64871c0",
   "metadata": {},
   "outputs": [],
   "source": [
    "type(surprise[2].lower())\n",
    "\n",
    "k1 = surprise[2].lower()[: : -1]\n",
    "\n",
    "k1.capitalize()"
   ]
  },
  {
   "cell_type": "markdown",
   "id": "df2e47c3",
   "metadata": {},
   "source": [
    "8. Make an English-to-French dictionary called e2f and print it. \n",
    "Here are your starter words: dog is chien, cat is chat, and walrus is morse.\n"
   ]
  },
  {
   "cell_type": "code",
   "execution_count": null,
   "id": "e4ca798b",
   "metadata": {},
   "outputs": [],
   "source": [
    "e2f = {\n",
    "    \"dog\" : \"chien\",\n",
    "    \"cat\" : \"chat\",\n",
    "    \"walrus\":\"morse\"\n",
    "}\n",
    "\n",
    "print(e2f)"
   ]
  },
  {
   "cell_type": "markdown",
   "id": "c4a223ec",
   "metadata": {},
   "source": [
    "9. Write the French word for walrus in your three-word dictionary e2f.\n"
   ]
  },
  {
   "cell_type": "code",
   "execution_count": null,
   "id": "49a05454",
   "metadata": {},
   "outputs": [],
   "source": [
    "e2f['walrus']"
   ]
  },
  {
   "cell_type": "raw",
   "id": "e9e68784",
   "metadata": {},
   "source": [
    "10. Make a French-to-English dictionary called f2e from e2f. Use the items method.\n"
   ]
  },
  {
   "cell_type": "code",
   "execution_count": null,
   "id": "c2b8cd93",
   "metadata": {},
   "outputs": [],
   "source": [
    "f2e = {}\n",
    "\n",
    "for i,j in e2f.items():\n",
    "    f2e[j] = i\n",
    "\n",
    "print(f2e)"
   ]
  },
  {
   "cell_type": "markdown",
   "id": "917ce22f",
   "metadata": {},
   "source": [
    "11. Print the English version of the French word chien using f2e.\n"
   ]
  },
  {
   "cell_type": "code",
   "execution_count": null,
   "id": "e0a77907",
   "metadata": {},
   "outputs": [],
   "source": [
    "print(f2e['chien'])"
   ]
  },
  {
   "cell_type": "markdown",
   "id": "3d728ac8",
   "metadata": {},
   "source": [
    "12. Make and print a set of English words from the keys in e2f.\n"
   ]
  },
  {
   "cell_type": "code",
   "execution_count": null,
   "id": "804d1ec0",
   "metadata": {},
   "outputs": [],
   "source": [
    "     \n",
    "\n",
    "k = set(e2f.keys())\n",
    "\n",
    "print(k)\n",
    "\n"
   ]
  },
  {
   "cell_type": "markdown",
   "id": "ac2238c7",
   "metadata": {},
   "source": [
    "13. Make a multilevel dictionary called life. \n",
    "Use these strings for the topmost keys: 'animals', 'plants', and 'other'.\n",
    "Make the 'animals' key refer to another dictionary with the keys 'cats', 'octopi', and 'emus'. \n",
    "Make the 'cats' key refer to a list of strings with the values 'Henri', 'Grumpy', and 'Lucy'. \n",
    "Make all the other keys refer to empty dictionaries.\n"
   ]
  },
  {
   "cell_type": "code",
   "execution_count": null,
   "id": "c4a7e1ad",
   "metadata": {},
   "outputs": [],
   "source": [
    "life = {\"animals\":{\"cats\": ['Henri', 'Grumpy', 'Lucy'] , \"octopi\": {} , \"emus\" :{}}}\n",
    "\n",
    "print(life)"
   ]
  },
  {
   "cell_type": "markdown",
   "id": "da46af74",
   "metadata": {},
   "source": [
    "14. Print the top-level keys of life.\n"
   ]
  },
  {
   "cell_type": "code",
   "execution_count": null,
   "id": "139f0455",
   "metadata": {},
   "outputs": [],
   "source": [
    "print(life.keys())"
   ]
  },
  {
   "cell_type": "markdown",
   "id": "ee6eb02e",
   "metadata": {},
   "source": [
    "15. Print the keys for life['animals'].\n"
   ]
  },
  {
   "cell_type": "code",
   "execution_count": null,
   "id": "3e699960",
   "metadata": {},
   "outputs": [],
   "source": [
    "print((life['animals']).keys())"
   ]
  },
  {
   "cell_type": "markdown",
   "id": "c74cdcee",
   "metadata": {},
   "source": [
    "16. Print the values for life['animals']['cats']\n",
    "\n"
   ]
  },
  {
   "cell_type": "code",
   "execution_count": null,
   "id": "24e9c81f",
   "metadata": {},
   "outputs": [],
   "source": [
    "print(life['animals']['cats'])"
   ]
  }
 ],
 "metadata": {
  "kernelspec": {
   "display_name": "Python 3 (ipykernel)",
   "language": "python",
   "name": "python3"
  },
  "language_info": {
   "codemirror_mode": {
    "name": "ipython",
    "version": 3
   },
   "file_extension": ".py",
   "mimetype": "text/x-python",
   "name": "python",
   "nbconvert_exporter": "python",
   "pygments_lexer": "ipython3",
   "version": "3.9.13"
  }
 },
 "nbformat": 4,
 "nbformat_minor": 5
}
