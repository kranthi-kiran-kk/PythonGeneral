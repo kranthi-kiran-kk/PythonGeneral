{
 "cells": [
  {
   "cell_type": "markdown",
   "id": "df48431d",
   "metadata": {},
   "source": [
    "1. Assign the value 7 to the variable guess_me. Then, write the conditional tests (if, else, and elif) to print the string 'too low' if guess_me is less than 7, 'too high' if greater than 7, and 'just right' if equal to 7.\n"
   ]
  },
  {
   "cell_type": "code",
   "execution_count": null,
   "id": "0385166c",
   "metadata": {},
   "outputs": [],
   "source": [
    "guess_me = 7\n",
    "\n",
    "if(guess_me>7):\n",
    "    print(\"too high\")\n",
    "elif(guess_me<7):\n",
    "    print(\"too low\")\n",
    "else:\n",
    "    print(\"just right\")"
   ]
  },
  {
   "cell_type": "markdown",
   "id": "d08a0e04",
   "metadata": {},
   "source": [
    "2. Assign the value 7 to the variable guess_me and the value 1 to the variable start. Write a while loop that compares start with guess_me. \n",
    "Print too low if start is less than guess me. \n",
    "If start equals guess_me, print 'found it!' and exit the loop. \n",
    "If start is greater than guess_me, print 'oops' and exit the loop. \n",
    "Increment start at the end of the loop.\n"
   ]
  },
  {
   "cell_type": "code",
   "execution_count": null,
   "id": "8634afec",
   "metadata": {},
   "outputs": [],
   "source": [
    "guess_me = 7\n",
    "start = 2\n",
    "\n",
    "while(True):\n",
    "    \n",
    "    if(start>guess_me):\n",
    "        print(\"oops\")\n",
    "        break\n",
    "    elif(start<guess_me):\n",
    "        print(\"too low\")\n",
    "    else:\n",
    "        print(\"found it\")\n",
    "        break\n",
    "        \n",
    "    start = start+1\n"
   ]
  },
  {
   "cell_type": "markdown",
   "id": "c5850248",
   "metadata": {},
   "source": [
    "3. Print the following values of the list [3, 2, 1, 0] using a for loop.\n"
   ]
  },
  {
   "cell_type": "code",
   "execution_count": null,
   "id": "f2899f31",
   "metadata": {},
   "outputs": [],
   "source": [
    "i = 3\n",
    "\n",
    "while(i>=0):\n",
    "    print(i)\n",
    "    i = i-1"
   ]
  },
  {
   "cell_type": "markdown",
   "id": "b171e8c4",
   "metadata": {},
   "source": [
    "4. Use a list comprehension to make a list of the even numbers in range(10)\n"
   ]
  },
  {
   "cell_type": "code",
   "execution_count": null,
   "id": "7ad7532a",
   "metadata": {},
   "outputs": [],
   "source": [
    "even = [x for x in range(2,10) if x%2 == 0]\n",
    "print(even)"
   ]
  },
  {
   "cell_type": "markdown",
   "id": "5d4890d1",
   "metadata": {},
   "source": [
    "5. Use a dictionary comprehension to create the dictionary squares. \n",
    "Use range(10) to return the keys, and use the square of each key as its value.\n"
   ]
  },
  {
   "cell_type": "code",
   "execution_count": null,
   "id": "00ee6984",
   "metadata": {},
   "outputs": [],
   "source": [
    "squares = {x : x**2 for x in range(0,10) }\n",
    "print(squares)"
   ]
  },
  {
   "cell_type": "markdown",
   "id": "ff6b847e",
   "metadata": {},
   "source": [
    "6. Construct the set odd from the odd numbers in the range using a set comprehension (10).\n"
   ]
  },
  {
   "cell_type": "code",
   "execution_count": null,
   "id": "3bd15868",
   "metadata": {},
   "outputs": [],
   "source": [
    "odd = { x for x in range(0,10) } \n",
    "print(type(odd))\n",
    "print(odd)"
   ]
  },
  {
   "cell_type": "markdown",
   "id": "8ef1ec57",
   "metadata": {},
   "source": [
    "7. Use a generator comprehension to return the string 'Got ' \n",
    "and a number for the numbers in range(10). Iterate through this by using a for loop.\n"
   ]
  },
  {
   "cell_type": "code",
   "execution_count": null,
   "id": "37820701",
   "metadata": {},
   "outputs": [],
   "source": [
    " s = 'Got'\n",
    "    \n",
    "gen_comp = (s + ' ' + str(x) for x in range(0,10) )\n",
    "\n",
    "#print(type(gen_comp))\n",
    "\n",
    "for i in gen_comp:\n",
    "    print(i)"
   ]
  },
  {
   "cell_type": "markdown",
   "id": "3b9cd534",
   "metadata": {},
   "source": [
    "8. Define a function called good that returns the list ['Harry', 'Ron', 'Hermione'].\n"
   ]
  },
  {
   "cell_type": "code",
   "execution_count": null,
   "id": "9e4579a2",
   "metadata": {},
   "outputs": [],
   "source": [
    "def good(l):\n",
    "    return l\n",
    "\n",
    "list = ['Harry', 'Ron', 'Hermione']\n",
    "\n",
    "print(good(list))"
   ]
  },
  {
   "cell_type": "markdown",
   "id": "358af830",
   "metadata": {},
   "source": [
    "9. Define a generator function called get_odds that returns the odd numbers from range(10). \n",
    "Use a for loop to find and print the third value returned.\n"
   ]
  },
  {
   "cell_type": "code",
   "execution_count": null,
   "id": "59b4ff54",
   "metadata": {},
   "outputs": [],
   "source": [
    "def get_odds(l):\n",
    "    for i in range(1,l):\n",
    "        if (i%2) == 1:\n",
    "            yield i\n",
    "\n",
    "for i in get_odds(10):\n",
    "    print( i)"
   ]
  },
  {
   "cell_type": "markdown",
   "id": "18b05e86",
   "metadata": {},
   "source": [
    "10. Define an exception called OopsException. Raise this exception to see what happens. \n",
    "    Then write the code to catch this exception and print 'Caught an oops'.\n"
   ]
  },
  {
   "cell_type": "code",
   "execution_count": null,
   "id": "08966b4a",
   "metadata": {},
   "outputs": [],
   "source": [
    "class OopsException(Exception):\n",
    "    pass\n",
    "\n",
    "try:\n",
    "    raise OopsException\n",
    "    \n",
    "except OopsException:\n",
    "    print('Caught an oops')\n",
    "    "
   ]
  },
  {
   "cell_type": "markdown",
   "id": "d56767ae",
   "metadata": {},
   "source": [
    "11. Use zip() to make a dictionary called movies that pairs these lists:\n",
    "    titles = ['Creature of Habit', 'Crewel Fate'] and \n",
    "    plots = ['A nun turns into a monster', 'A haunted yarn shop'].\n",
    "\n"
   ]
  },
  {
   "cell_type": "code",
   "execution_count": null,
   "id": "bb594f54",
   "metadata": {},
   "outputs": [],
   "source": [
    "\n",
    "titles = ['Creature of Habit', 'Crewel Fate']\n",
    "plots = ['A nun turns into a monster', 'A haunted yarn shop']\n",
    " \n",
    "movies = {title: plot for title, plot in zip(titles, plots)}\n",
    "\n",
    "print(movies)"
   ]
  }
 ],
 "metadata": {
  "kernelspec": {
   "display_name": "Python 3 (ipykernel)",
   "language": "python",
   "name": "python3"
  },
  "language_info": {
   "codemirror_mode": {
    "name": "ipython",
    "version": 3
   },
   "file_extension": ".py",
   "mimetype": "text/x-python",
   "name": "python",
   "nbconvert_exporter": "python",
   "pygments_lexer": "ipython3",
   "version": "3.9.13"
  }
 },
 "nbformat": 4,
 "nbformat_minor": 5
}
