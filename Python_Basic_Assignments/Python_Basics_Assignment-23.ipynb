{
 "cells": [
  {
   "cell_type": "code",
   "execution_count": null,
   "id": "e28dcb95",
   "metadata": {},
   "outputs": [],
   "source": [
    "1. What is the result of the code, and why?\n",
    ">>> def func(a, b=6, c=8):\n",
    "print(a, b, c)\n",
    ">>> func(1, 2)\n",
    "\n",
    "This code will print 1,2,8 as we are giving two values to the function which will bw assigned to a and b\n"
   ]
  },
  {
   "cell_type": "code",
   "execution_count": null,
   "id": "bf8132dd",
   "metadata": {},
   "outputs": [],
   "source": [
    "2. What is the result of this code, and why?\n",
    ">>> def func(a, b, c=5):\n",
    "print(a, b, c)\n",
    ">>> func(1, c=3, b=2)\n",
    "\n",
    "This code will print 1,2,3 as we are specifying the values of b and c while calling the function\n",
    "\n"
   ]
  },
  {
   "cell_type": "code",
   "execution_count": null,
   "id": "cc458667",
   "metadata": {},
   "outputs": [],
   "source": [
    "3. How about this code: what is its result, and why?\n",
    ">>> def func(a, *pargs):\n",
    "print(a, pargs)\n",
    ">>> func(1, 2, 3)\n",
    "\n",
    "This code will print 1 and (2,3) as we are using *, this represents as many arguments as given\n"
   ]
  },
  {
   "cell_type": "code",
   "execution_count": null,
   "id": "af6e4427",
   "metadata": {},
   "outputs": [],
   "source": [
    "4. What does this code print, and why?\n",
    ">>> def func(a, **kargs):\n",
    "print(a, kargs)\n",
    ">>> func(a=1, c=3, b=2)\n",
    "\n",
    "This code will print 1 {'c': 3, 'b': 2}, as we used **, which represets as many key word arguments as given\n"
   ]
  },
  {
   "cell_type": "code",
   "execution_count": null,
   "id": "973241ae",
   "metadata": {},
   "outputs": [],
   "source": [
    "5. What gets printed by this, and explain?\n",
    ">>> def func(a, b, c=8, d=5): print(a, b, c, d)\n",
    ">>> func(1, *(5, 6))\n",
    "\n",
    "This code will print 1,5,6,5 as while calling the function we are ginving 5 and 6 which will be assigned to b and c respectively\n"
   ]
  },
  {
   "cell_type": "code",
   "execution_count": null,
   "id": "fd5c103c",
   "metadata": {},
   "outputs": [],
   "source": [
    "6. what is the result of this, and explain?\n",
    ">>> def func(a, b, c): a = 2; b[0] = 'x'; c['a'] = 'y'\n",
    ">>> l=1; m=[1]; n={'a':0}\n",
    ">>> func(l, m, n)\n",
    ">>> l, m, n\n",
    "\n",
    "This code will print (1, ['x'], {'a': 'y'}) . The values of list m and dictonary n are changed because \n",
    "lists and dictonaries are mutable in python\n"
   ]
  }
 ],
 "metadata": {
  "kernelspec": {
   "display_name": "Python 3 (ipykernel)",
   "language": "python",
   "name": "python3"
  },
  "language_info": {
   "codemirror_mode": {
    "name": "ipython",
    "version": 3
   },
   "file_extension": ".py",
   "mimetype": "text/x-python",
   "name": "python",
   "nbconvert_exporter": "python",
   "pygments_lexer": "ipython3",
   "version": "3.9.13"
  }
 },
 "nbformat": 4,
 "nbformat_minor": 5
}
