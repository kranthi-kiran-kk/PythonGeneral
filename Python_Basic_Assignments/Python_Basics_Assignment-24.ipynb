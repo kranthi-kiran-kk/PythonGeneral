{
 "cells": [
  {
   "cell_type": "code",
   "execution_count": null,
   "id": "1bec7600",
   "metadata": {},
   "outputs": [],
   "source": [
    "1. What is the relationship between def statements and lambda expressions ?\n",
    "\n",
    "def statements and lambda expressions are used create functions"
   ]
  },
  {
   "cell_type": "code",
   "execution_count": null,
   "id": "56b56041",
   "metadata": {},
   "outputs": [],
   "source": [
    "2. What is the benefit of lambda?\n",
    "\n",
    "lambda expression can be used to create anonymus functions. They can be used whenever function objects are required"
   ]
  },
  {
   "cell_type": "code",
   "execution_count": null,
   "id": "fa60113d",
   "metadata": {},
   "outputs": [],
   "source": [
    "3. Compare and contrast map, filter, and reduce.\n",
    "\n",
    "The map() function iterates through all items in the given iterable and executes \n",
    "the function we passed as an argument on each of them.\n",
    "\n",
    "Similarly filter() takes a function object and an iterable and creates a new list.\n",
    "As the name suggests, filter() forms a new list that contains only elements that satisfy a certain condition,\n",
    "i.e. the function we passed returns True.\n",
    "\n",
    "reduce() does not return a new list based on the function and iterable we have passed,it returns a single value.\n"
   ]
  },
  {
   "cell_type": "code",
   "execution_count": null,
   "id": "2ebc2cfe",
   "metadata": {},
   "outputs": [],
   "source": [
    "4. What are function annotations, and how are they used?\n",
    "\n",
    "Function annotations are arbitrary python expressions that are associated with various part of functions. \n",
    "These expressions are evaluated at compile time and have no life in python’s runtime environment. \n",
    "Python does not attach any meaning to these annotations. They take life when interpreted by third party libraries\n"
   ]
  },
  {
   "cell_type": "code",
   "execution_count": null,
   "id": "1f60f61a",
   "metadata": {},
   "outputs": [],
   "source": [
    "5. What are recursive functions, and how are they used?\n",
    "\n",
    "Recursive functions are the functions which call themself during function execution.\n",
    "Recursive functions allow programmers to write efficient programs using a minimal amount of code.\n"
   ]
  },
  {
   "cell_type": "code",
   "execution_count": null,
   "id": "ade49fe7",
   "metadata": {},
   "outputs": [],
   "source": [
    "6. What are some general design guidelines for coding functions?\n",
    "\n",
    "1. Use 4-space indentation and no tabs\n",
    "2. Use docstrings\n",
    "3. Wrap lines so that they don’t exceed 79 characters\n",
    "4. Use of regular and updated comments are valuable to both the coders and users\n",
    "5. Use spaces around operators and after commas, but not directly inside bracketing\n",
    "6. Name your classes and functions consistently\n",
    "\n",
    "\n"
   ]
  },
  {
   "cell_type": "code",
   "execution_count": null,
   "id": "a7bce1d9",
   "metadata": {},
   "outputs": [],
   "source": [
    "7. Name three or more ways that functions can communicate results to a caller.\n",
    "\n",
    "Function can user simple return statement, return statement with single argument, return statement with multiple arguments,\n",
    "we can also use return statement with functions"
   ]
  }
 ],
 "metadata": {
  "kernelspec": {
   "display_name": "Python 3 (ipykernel)",
   "language": "python",
   "name": "python3"
  },
  "language_info": {
   "codemirror_mode": {
    "name": "ipython",
    "version": 3
   },
   "file_extension": ".py",
   "mimetype": "text/x-python",
   "name": "python",
   "nbconvert_exporter": "python",
   "pygments_lexer": "ipython3",
   "version": "3.9.13"
  }
 },
 "nbformat": 4,
 "nbformat_minor": 5
}
