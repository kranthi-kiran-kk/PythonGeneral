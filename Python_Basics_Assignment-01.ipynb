{
 "cells": [
  {
   "cell_type": "raw",
   "id": "38549cae",
   "metadata": {},
   "source": [
    "1. In the below elements which of them are values or an expression? eg:- values can be integer or string and expressions will be mathematical operators.\n",
    "*  \n",
    "'hello'\n",
    "-87.8\n",
    "- \n",
    "/ \n",
    "+\t\n",
    "6 \n",
    "\n",
    "expressions: *,-,/,+\n",
    "values: 'hello',-87.8,6\n"
   ]
  },
  {
   "cell_type": "raw",
   "id": "75ce6fcb",
   "metadata": {},
   "source": [
    "2. What is the difference between string and variable?\n",
    "\n",
    "Variable is something which holds the data, Sting is a type of data"
   ]
  },
  {
   "cell_type": "raw",
   "id": "70a9260e",
   "metadata": {},
   "source": [
    "3. Describe three different data types.\n",
    "\n",
    "Three different types of data types can be taken as\n",
    "1. integer datatype, which consists of numerical data with out any fractions or decimals. They can be positve,negative or zero\n",
    "2. float datatype, which consists of numerical data along with fractional or decimal values.\n",
    "3. string datatypes, which consists of characters,digits,special characters but always considered as text."
   ]
  },
  {
   "cell_type": "raw",
   "id": "503aece7",
   "metadata": {},
   "source": [
    "4. What is an expression made up of? What do all expressions do?\n",
    "\n",
    "Expressions are madeup of constants,variables and operators. Expressions try to prodce some other value with the help of operators and operands present in it.\n"
   ]
  },
  {
   "cell_type": "raw",
   "id": "3a59830f",
   "metadata": {},
   "source": [
    "5. This assignment statements, like spam = 10. What is the difference between an expression and a statement?\n",
    "\n",
    "Statemets in programming language has predefined execution process and perform a specific task.\n",
    "Expressions derive a value based on the operators and operands with which it is made up of.\n",
    "\n"
   ]
  },
  {
   "cell_type": "raw",
   "id": "4262ddae",
   "metadata": {},
   "source": [
    "6. After running the following code, what does the variable bacon contain?\n",
    "bacon = 22\n",
    "bacon + 1\n",
    "\n",
    "22\n"
   ]
  },
  {
   "cell_type": "raw",
   "id": "0d04e41a",
   "metadata": {},
   "source": [
    "7. What should the values of the following two terms be?\n",
    "'spam' + 'spamspam'\n",
    "'spam' * 3\n",
    "\n",
    "spamspamspam\n",
    "\n",
    "spamspamspam\n",
    "\n"
   ]
  },
  {
   "cell_type": "raw",
   "id": "dcd6d464",
   "metadata": {},
   "source": [
    "8. Why is eggs a valid variable name while 100 is invalid\n",
    "\n",
    "eggs is a valid variable as a variable name must start with a letter or the underscore character.\n",
    "100 is not a valid variable as a variable name cannot start with a number."
   ]
  },
  {
   "cell_type": "raw",
   "id": "98477979",
   "metadata": {},
   "source": [
    "9. What three functions can be used to get the integer, floating-point number, or string version of a value?\n",
    "\n",
    "int(),float(),str()\n"
   ]
  },
  {
   "cell_type": "raw",
   "id": "680802c7",
   "metadata": {},
   "source": [
    "10. Why does this expression cause an error? How can you fix it?\n",
    "'I have eaten ' + 99 + ' burritos.'\n",
    "\n",
    "This statement will case an error as we can not concatenate two different datatypes. We can correct this by converting 99 as string by puting 99 in single quotes ('99')\n",
    "\n",
    "'I have eaten ' + '99' + ' burritos.'"
   ]
  }
 ],
 "metadata": {
  "kernelspec": {
   "display_name": "Python 3 (ipykernel)",
   "language": "python",
   "name": "python3"
  },
  "language_info": {
   "codemirror_mode": {
    "name": "ipython",
    "version": 3
   },
   "file_extension": ".py",
   "mimetype": "text/x-python",
   "name": "python",
   "nbconvert_exporter": "python",
   "pygments_lexer": "ipython3",
   "version": "3.9.13"
  }
 },
 "nbformat": 4,
 "nbformat_minor": 5
}
