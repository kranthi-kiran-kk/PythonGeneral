{
 "cells": [
  {
   "cell_type": "raw",
   "id": "ef69b264",
   "metadata": {},
   "source": [
    "1. Why are functions advantageous to have in your programs?\n",
    "\n",
    "Using functions we can improve reusability of code. Once we write a function \n",
    "we can call it later in the code with out writing whole code again\n"
   ]
  },
  {
   "cell_type": "raw",
   "id": "5efc3e39",
   "metadata": {},
   "source": [
    "2. When does the code in a function run: when it's specified or when it's called?\n",
    "    \n",
    "It runs when function is called\n"
   ]
  },
  {
   "cell_type": "raw",
   "id": "0e085a67",
   "metadata": {},
   "source": [
    "3. What statement creates a function?\n",
    "\n",
    "def statemet helps us to create a function\n"
   ]
  },
  {
   "cell_type": "raw",
   "id": "a029d437",
   "metadata": {},
   "source": [
    "4. What is the difference between a function and a function call?\n",
    "\n",
    "Function can be described as lines of code defined in a block so that it can be used when required\n",
    "\n",
    "Function call is calling the predefined block of code to perform the required operation"
   ]
  },
  {
   "cell_type": "raw",
   "id": "0dc12ef8",
   "metadata": {},
   "source": [
    "5. How many global scopes are there in a Python program? How many local scopes?\n",
    "\n",
    "We can have one global scope and as many local scopes as we create "
   ]
  },
  {
   "cell_type": "raw",
   "id": "68a8a3c9",
   "metadata": {},
   "source": [
    "6. What happens to variables in a local scope when the function call returns?\n",
    "\n",
    "Once the function call retuns, variables in local scope will be destroyed\n"
   ]
  },
  {
   "cell_type": "raw",
   "id": "de1dd5ee",
   "metadata": {},
   "source": [
    "7. What is the concept of a return value? Is it possible to have a return value in an expression?\n",
    "\n",
    "Return function returns the value with it's own datatype which can be used later.\n",
    "\n",
    "It is possible to have return value in an expression\n",
    "\n"
   ]
  },
  {
   "cell_type": "raw",
   "id": "e7b37359",
   "metadata": {},
   "source": [
    "8. If a function does not have a return statement, what is the return value of a call to that function?\n",
    "\n",
    "Return value of the call function will be None type\n"
   ]
  },
  {
   "cell_type": "raw",
   "id": "e92f92f2",
   "metadata": {},
   "source": [
    "9. How do you make a function variable refer to the global variable?\n",
    "\n",
    "We can use global keyword to make function variable refer to the global varible\n"
   ]
  },
  {
   "cell_type": "raw",
   "id": "c2c0559f",
   "metadata": {},
   "source": [
    "10. What is the data type of None?\n",
    " \n",
    "    data type of None is None type"
   ]
  },
  {
   "cell_type": "raw",
   "id": "e058e869",
   "metadata": {},
   "source": [
    "11. What does the sentence import areallyourpetsnamederic do?\n",
    "\n",
    "This statements imports the module 'areallyourpetsnamederic'\n"
   ]
  },
  {
   "cell_type": "raw",
   "id": "df15eacf",
   "metadata": {},
   "source": [
    "12. If you had a bacon() feature in a spam module, what would you call it after importing spam?\n",
    "\n",
    "we can call it using spam.bacon()\n"
   ]
  },
  {
   "cell_type": "raw",
   "id": "c8e92ac7",
   "metadata": {},
   "source": [
    "13. What can you do to save a programme from crashing if it encounters an error?\n",
    "\n",
    "We can use exception handling using try and except block\n"
   ]
  },
  {
   "cell_type": "raw",
   "id": "f250ff00",
   "metadata": {},
   "source": [
    "14. What is the purpose of the try clause? What is the purpose of the except clause?\n",
    "\n",
    "\n",
    "Try clause runs the code in the block and if encounters any error other than syntactical erros, the error will be passed to \n",
    "except block to handle that error\n"
   ]
  }
 ],
 "metadata": {
  "kernelspec": {
   "display_name": "Python 3 (ipykernel)",
   "language": "python",
   "name": "python3"
  },
  "language_info": {
   "codemirror_mode": {
    "name": "ipython",
    "version": 3
   },
   "file_extension": ".py",
   "mimetype": "text/x-python",
   "name": "python",
   "nbconvert_exporter": "python",
   "pygments_lexer": "ipython3",
   "version": "3.9.13"
  }
 },
 "nbformat": 4,
 "nbformat_minor": 5
}
