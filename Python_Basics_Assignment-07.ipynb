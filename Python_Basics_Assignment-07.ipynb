{
 "cells": [
  {
   "cell_type": "raw",
   "id": "0926f200",
   "metadata": {},
   "source": [
    "1. What is the name of the feature responsible for generating Regex objects?\n",
    "\n",
    "re.compile() method is responsible for generating regex objects\n"
   ]
  },
  {
   "cell_type": "raw",
   "id": "ef399795",
   "metadata": {},
   "source": [
    "2. Why do raw strings often appear in Regex objects?\n",
    "\n",
    "In contrast to a conventional string, a raw string considers backslashes () as literal characters.\n",
    "That is why we use raw strings often in regex objects.\n"
   ]
  },
  {
   "cell_type": "raw",
   "id": "4251f33f",
   "metadata": {},
   "source": [
    "3. What is the return value of the search() method?\n",
    "\n",
    "The return value of search() method are match objects.\n"
   ]
  },
  {
   "cell_type": "raw",
   "id": "f12e29aa",
   "metadata": {},
   "source": [
    "4. From a Match item, how do you get the actual strings that match the pattern?\n",
    "\n",
    "The group() method returns strings of the matched text."
   ]
  },
  {
   "cell_type": "raw",
   "id": "29cd8c61",
   "metadata": {},
   "source": [
    "5. In the regex which created from the r'(\\d\\d\\d)-(\\d\\d\\d-\\d\\d\\d\\d)', what does group zero cover? Group 2? Group 1?\n",
    "\n",
    "Group 0 covers the entire match\n",
    "group 1 covers (\\d\\d\\d) (first set of parentheses) \n",
    "group 2 covers (\\d\\d\\d-\\d\\d\\d\\d) (second set of parentheses)"
   ]
  },
  {
   "cell_type": "raw",
   "id": "cb811887",
   "metadata": {},
   "source": [
    "6. In standard expression syntax, parentheses and intervals have distinct meanings. How can you tell a regex that you want it to fit real parentheses and periods?\n",
    "\n",
    "We can use backlash to escape the required characters\n"
   ]
  },
  {
   "cell_type": "raw",
   "id": "2e36c7f8",
   "metadata": {},
   "source": [
    "7. The findall() method returns a string list or a list of string tuples. What causes it to return one of the two options?\n",
    "\n",
    "findall() method returning a string list or a list of string tuples depends on the absence or resence of the groups in a regex respectively.\n"
   ]
  },
  {
   "cell_type": "raw",
   "id": "e4c08f7d",
   "metadata": {},
   "source": [
    "8. In standard expressions, what does the | character mean?\n",
    "\n",
    "In standard expressions | characters refers to \"either-or\"\n",
    "\n",
    "\n"
   ]
  },
  {
   "cell_type": "raw",
   "id": "bfeaac70",
   "metadata": {},
   "source": [
    "9. In regular expressions, what does the character stand for?\n",
    "\n",
    "Not able to understand which character is question refering to"
   ]
  },
  {
   "cell_type": "raw",
   "id": "ec972c95",
   "metadata": {},
   "source": [
    "10.In regular expressions, what is the difference between the + and * characters?\n",
    "\n",
    "* specifies Zero or more occurrences\t\n",
    "+ specifies One or more occurrences\n"
   ]
  },
  {
   "cell_type": "raw",
   "id": "34f85510",
   "metadata": {},
   "source": [
    "11. What is the difference between {4} and {4,5} in regular expression?\n",
    "\n",
    "{} in regx is used to match the exact number of occurances\n",
    "\n",
    "{4} matches exactly 4 occurances where as {4,5} matches 4 or 5 occurances\n"
   ]
  },
  {
   "cell_type": "raw",
   "id": "8222bc8c",
   "metadata": {},
   "source": [
    "12. What do you mean by the \\d, \\w, and \\s shorthand character classes signify in regular expressions?\n",
    "\n",
    "\\d - Returns a match where the string contains digits (numbers from 0-9)\n",
    "\n",
    "\\w - Returns a match where the string contains any word characters \n",
    "     (characters from a to Z, digits from 0-9, and the underscore _ character)\n",
    "     \n",
    "\\s - Returns a match where the string contains a white space character\n"
   ]
  },
  {
   "cell_type": "raw",
   "id": "4cba411e",
   "metadata": {},
   "source": [
    "13. What do means by \\D, \\W, and \\S shorthand character classes signify in regular expressions?\n",
    "\n",
    "\\D - Returns a match where the string DOES NOT contain digits\n",
    "\\W - Returns a match where the string DOES NOT contain any word characters\n",
    "\\S - Returns a match where the string DOES NOT contain a white space character \n"
   ]
  },
  {
   "cell_type": "raw",
   "id": "25403d33",
   "metadata": {},
   "source": [
    "14. What is the difference between .*? and .*  ?\n",
    "\n",
    ".*? is a non greedy search which means tries to match as few repetitions as possible where as .* is a greedy search \n",
    "which means tries to match as many repetitions as possible.\n"
   ]
  },
  {
   "cell_type": "raw",
   "id": "233fdedb",
   "metadata": {},
   "source": [
    "15. What is the syntax for matching both numbers and lowercase letters with a character class?\n",
    "\n",
    "[0-9a-z] or [a-z0-9]\n"
   ]
  },
  {
   "cell_type": "raw",
   "id": "873570d4",
   "metadata": {},
   "source": [
    "16. What is the procedure for making a normal expression in regax case insensitive?\n",
    "\n",
    "Using re.I or re.IGNORECASE as the flag argument to re.compile() will make the matching case insensitive.\n",
    "\n"
   ]
  },
  {
   "cell_type": "raw",
   "id": "04e9f2e1",
   "metadata": {},
   "source": [
    "17. What does the . character normally match? What does it match if re.DOTALL is passed as 2nd argument in re.compile()?\n",
    "\n",
    ".character matches any character except newline character where as .DOTALL when passed as 2nd argument in re.compile()\n",
    " will also matches newline character"
   ]
  },
  {
   "cell_type": "raw",
   "id": "75526913",
   "metadata": {},
   "source": [
    "18. If numReg = re.compile(r'\\d+'), what will numRegex.sub('X', '11 drummers, 10 pipers, five rings, 4 hen') return?\n",
    "\n",
    "'X drummers, X pipers, five rings, X hen'\n"
   ]
  },
  {
   "cell_type": "raw",
   "id": "d3d7403c",
   "metadata": {},
   "source": [
    "19. What does passing re.VERBOSE as the 2nd argument to re.compile() allow to do?\n",
    "\n",
    "The re.VERBOSE flag allows us to add whitespace and comments to the string passed to re.compile().\n"
   ]
  },
  {
   "cell_type": "raw",
   "id": "87d14bcd",
   "metadata": {},
   "source": [
    "20. How would you write a regex that match a number with comma for every three digits? It must match the given following:\n",
    "'42'\n",
    "'1,234'\n",
    "'6,368,745'\n",
    "but not the following:\n",
    "'12,34,567' (which has only two digits between the commas)\n",
    "'1234' (which lacks commas)\n",
    "\n",
    "re.compile(r'^\\d{1,3}(,\\d{3})*$') "
   ]
  },
  {
   "cell_type": "raw",
   "id": "c713a6c8",
   "metadata": {},
   "source": [
    "21. How would you write a regex that matches the full name of someone whose last name is Watanabe? You can assume that the first name that comes before it will always be one word that begins with a capital letter. The regex must match the following:\n",
    "'Haruto Watanabe'\n",
    "'Alice Watanabe'\n",
    "'RoboCop Watanabe'\n",
    "but not the following:\n",
    "'haruto Watanabe' (where the first name is not capitalized)\n",
    "'Mr. Watanabe' (where the preceding word has a nonletter character)\n",
    "'Watanabe' (which has no first name)\n",
    "'Haruto watanabe' (where Watanabe is not capitalized)\n",
    "\n",
    "re.compile(r'[A-Z][a-z]*\\sWatanabe')\n"
   ]
  },
  {
   "cell_type": "raw",
   "id": "fd5b5ac4",
   "metadata": {},
   "source": [
    "22. How would you write a regex that matches a sentence where the first word is either Alice, Bob, or Carol; \n",
    "the second word is either eats, pets, or throws; \n",
    "the third word is apples, cats, or baseballs; \n",
    "and the sentence ends with a period? \n",
    "This regex should be case-insensitive. \n",
    "It must match the following:\n",
    "'Alice eats apples.'\n",
    "'Bob pets cats.'\n",
    "'Carol throws baseballs.'\n",
    "'Alice throws Apples.'\n",
    "'BOB EATS CATS.'\n",
    "but not the following:\n",
    "'RoboCop eats apples.'\n",
    "'ALICE THROWS FOOTBALLS.'\n",
    "'Carol eats 7 cats.'\n",
    "\n",
    "re.compile(r'(Alice|Bob|Carol)\\s(eats|pets|throws)\\s(apples|cats|baseballs)\\.', re.IGNORECASE)"
   ]
  }
 ],
 "metadata": {
  "kernelspec": {
   "display_name": "Python 3 (ipykernel)",
   "language": "python",
   "name": "python3"
  },
  "language_info": {
   "codemirror_mode": {
    "name": "ipython",
    "version": 3
   },
   "file_extension": ".py",
   "mimetype": "text/x-python",
   "name": "python",
   "nbconvert_exporter": "python",
   "pygments_lexer": "ipython3",
   "version": "3.9.13"
  }
 },
 "nbformat": 4,
 "nbformat_minor": 5
}
