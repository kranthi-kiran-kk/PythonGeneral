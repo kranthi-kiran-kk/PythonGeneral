{
 "cells": [
  {
   "cell_type": "raw",
   "id": "1bb6b0d9",
   "metadata": {},
   "source": [
    "1. Is the Python Standard Library included with PyInputPlus?\n",
    "\n",
    "PyInputPlus is not included in Python Standard Library\n"
   ]
  },
  {
   "cell_type": "raw",
   "id": "f58e2d2e",
   "metadata": {},
   "source": [
    "2. Why is PyInputPlus commonly imported with import pyinputplus as pypi?\n",
    "\n",
    "By using import pyinputplus as pypi we are importing the module as well as we are giving it a short hand notation\n",
    "which can be used in code going further\n"
   ]
  },
  {
   "cell_type": "raw",
   "id": "3aeab7dd",
   "metadata": {},
   "source": [
    "3. How do you distinguish between inputInt() and inputFloat()?\n",
    "\n",
    "\n",
    "inputInt() accepts only integer values as input\n",
    "inputFloat() accepts float valurs as input\n"
   ]
  },
  {
   "cell_type": "raw",
   "id": "f54ab779",
   "metadata": {},
   "source": [
    "4. Using PyInputPlus, how do you ensure that the user enters a whole number between 0 and 99?\n",
    "\n",
    "we can use the following method to ensure user enters a whole number between 0 and 99\n",
    "pyip.inputint(min=0, max=99)\n"
   ]
  },
  {
   "cell_type": "raw",
   "id": "59db680f",
   "metadata": {},
   "source": [
    "5. What is transferred to the keyword arguments allowRegexes and blockRegexes?\n",
    "\n",
    "The allowRegexes and blockRegexes keyword arguments take a list of regular expression strings to determine what the PyInputPlus function will accept or reject as valid input.\n"
   ]
  },
  {
   "cell_type": "raw",
   "id": "e409c49c",
   "metadata": {},
   "source": [
    "6. If a blank input is entered three times, what does inputStr(limit=3) do?\n",
    "\n",
    "function will raise RetryLimitException\n"
   ]
  },
  {
   "cell_type": "raw",
   "id": "1b63ea1d",
   "metadata": {},
   "source": [
    "7. If blank input is entered three times, what does inputStr(limit=3, default='hello') do?\n",
    "\n",
    "function will return the value 'hello'\n"
   ]
  }
 ],
 "metadata": {
  "kernelspec": {
   "display_name": "Python 3 (ipykernel)",
   "language": "python",
   "name": "python3"
  },
  "language_info": {
   "codemirror_mode": {
    "name": "ipython",
    "version": 3
   },
   "file_extension": ".py",
   "mimetype": "text/x-python",
   "name": "python",
   "nbconvert_exporter": "python",
   "pygments_lexer": "ipython3",
   "version": "3.9.13"
  }
 },
 "nbformat": 4,
 "nbformat_minor": 5
}
