{
 "cells": [
  {
   "cell_type": "raw",
   "id": "77a92e61",
   "metadata": {},
   "source": [
    "1. Create an assert statement that throws an AssertionError if the variable spam is a negative integer.\n",
    "\n",
    "spam = -1\n",
    "\n",
    "assert spam>=0 ,'spam should be positive' "
   ]
  },
  {
   "cell_type": "raw",
   "id": "64a5b731",
   "metadata": {},
   "source": [
    "2. Write an assert statement that triggers an AssertionError if the variables eggs and bacon contain \n",
    "strings that are the same as each other, even if their cases are different \n",
    "(that is, 'hello' and 'hello' are considered the same, and 'goodbye' and 'GOODbye' are also considered the same).\n",
    "\n",
    "\n",
    "assert eggs.lower() != bacon.lower(), 'variables are same' \n",
    "\n",
    "assert eggs.upper() != bacon.upper(), 'variables are same'\n",
    "\n"
   ]
  },
  {
   "cell_type": "raw",
   "id": "287a28f9",
   "metadata": {},
   "source": [
    "3. Create an assert statement that throws an AssertionError every time.\n",
    "\n",
    "assert False, 'AssertionError every time'\n"
   ]
  },
  {
   "cell_type": "raw",
   "id": "6fd494c3",
   "metadata": {},
   "source": [
    "4. What are the two lines that must be present in your software in order to call logging.debug()?\n",
    "\n",
    "\n",
    "\n",
    "import logging\n",
    "\n",
    "logging.basicConfig(level=logging.DEBUG,format='%(name)s - %(levelname)s - %(message)s')\n",
    "\n"
   ]
  },
  {
   "cell_type": "raw",
   "id": "c76592cc",
   "metadata": {},
   "source": [
    "5. What are the two lines that your program must have in order to have logging.debug() send a logging message to a file named programLog.txt?\n",
    "\n",
    "\n",
    "import logging\n",
    "logging.basicConfig(filename='programLog.txt', filemode='w', format='%(name)s - %(levelname)s - %(message)s')"
   ]
  },
  {
   "cell_type": "raw",
   "id": "8396b540",
   "metadata": {},
   "source": [
    "6. What are the five levels of logging?\n",
    "\n",
    "Five levels of logging are \n",
    "1. INFO\n",
    "2. DEBUG\n",
    "3. WARNING\n",
    "4. ERROR\n",
    "5. CRITICAL\n"
   ]
  },
  {
   "cell_type": "raw",
   "id": "bdd81b19",
   "metadata": {},
   "source": [
    "7. What line of code would you add to your software to disable all logging messages?\n",
    "\n",
    "we can use logging.disable(logging.CRITICAL) to disable all the logging messages\n"
   ]
  },
  {
   "cell_type": "raw",
   "id": "5522824d",
   "metadata": {},
   "source": [
    "8.Why is using logging messages better than using print() to display the same message?\n",
    "\n",
    "We can disable logging messages without removing the logging function calls. \n",
    "We can disable lower-level logging messages. We can create logging messages."
   ]
  },
  {
   "cell_type": "raw",
   "id": "dbe5fb95",
   "metadata": {},
   "source": [
    "9. What are the differences between the Step Over, Step In, and Step Out buttons in the debugger?\n",
    "\n",
    "Step over – An action to take in the debugger that will step over a given line. \n",
    "If the line contains a function the function will be executed and the result returned without debugging each line.\n",
    "\n",
    "Step into – An action to take in the debugger. If the line does not contain a function it behaves the same as “step over” but \n",
    "if it does the debugger will enter the called function and continue line-by-line debugging there.\n",
    "\n",
    "Step out – An action to take in the debugger that returns to the line where the current function was called.\n",
    "\n"
   ]
  },
  {
   "cell_type": "raw",
   "id": "e85fdd08",
   "metadata": {},
   "source": [
    "10.After you click Continue, when will the debugger stop ?\n",
    "\n",
    "Debugger will stop when program ends or it encounters break statement\n"
   ]
  },
  {
   "cell_type": "raw",
   "id": "e4d4a3cd",
   "metadata": {},
   "source": [
    "11. What is the concept of a breakpoint?\n",
    "\n",
    "We can use breakpoint to make the debugger to pause when the program execution reaches the line.\n",
    "\n"
   ]
  }
 ],
 "metadata": {
  "kernelspec": {
   "display_name": "Python 3 (ipykernel)",
   "language": "python",
   "name": "python3"
  },
  "language_info": {
   "codemirror_mode": {
    "name": "ipython",
    "version": 3
   },
   "file_extension": ".py",
   "mimetype": "text/x-python",
   "name": "python",
   "nbconvert_exporter": "python",
   "pygments_lexer": "ipython3",
   "version": "3.9.13"
  }
 },
 "nbformat": 4,
 "nbformat_minor": 5
}
