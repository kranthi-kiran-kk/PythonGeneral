{
 "cells": [
  {
   "cell_type": "raw",
   "id": "395ecc9d",
   "metadata": {},
   "source": [
    "1. In what modes should the PdfFileReader() and PdfFileWriter() File objects will be opened?\n",
    "\n",
    "For PdfFileReader() file object should be opened in rb mode\n",
    "\n",
    "For PdfFileWriter() file object should be opened in wb mode\n"
   ]
  },
  {
   "cell_type": "raw",
   "id": "7b52b794",
   "metadata": {},
   "source": [
    "2. From a PdfFileReader object, how do you get a Page object for page 5?\n",
    "\n",
    "We can use getPage(4) to get a Page object for page 5 \n"
   ]
  },
  {
   "cell_type": "raw",
   "id": "67696e6d",
   "metadata": {},
   "source": [
    "3. What PdfFileReader variable stores the number of pages in the PDF document?\n",
    "\n",
    "The total number of pages in the document is stored in the numPages attribute of a PdfFileReader object"
   ]
  },
  {
   "cell_type": "raw",
   "id": "9edd95d1",
   "metadata": {},
   "source": [
    "4. If a PdfFileReader object’s PDF is encrypted with the password swordfish, \n",
    "what must you do before you can obtain Page objects from it?\n",
    "\n",
    "To obtain the page object, the pdf has to be decrypted by calling .decrypt('swordfish')\n"
   ]
  },
  {
   "cell_type": "raw",
   "id": "c0c03bec",
   "metadata": {},
   "source": [
    "5. What methods do you use to rotate a page?\n",
    "\n",
    "We can use rotateClockwise() and rotateCounterClockwise() methods"
   ]
  },
  {
   "cell_type": "raw",
   "id": "57048905",
   "metadata": {},
   "source": [
    "6. What is the difference between a Run object and a Paragraph object?\n",
    "\n",
    "Paragraph Object : A document contains multiple paragraphs. A paragraph begins on a new line and contains multiple\n",
    "runs.\n",
    "\n",
    "Run Objects : Runs are continuous groups of characters within a paragraph with the same style\n"
   ]
  },
  {
   "cell_type": "raw",
   "id": "8660e90a",
   "metadata": {},
   "source": [
    "7. How do you obtain a list of Paragraph objects for a Document object that’s stored in a variable named doc?\n",
    "\n",
    "By using doc.paragraphs we can obtain paragrapg objects\n"
   ]
  },
  {
   "cell_type": "raw",
   "id": "ba03114e",
   "metadata": {},
   "source": [
    "8. What type of object has bold, underline, italic, strike, and outline variables?\n",
    "\n",
    "A Run object has bold, underline,italic,strike and outline variables"
   ]
  },
  {
   "cell_type": "raw",
   "id": "05a446e1",
   "metadata": {},
   "source": [
    "9. What is the difference between False, True, and None for the bold variable?\n",
    "\n",
    "True always makes the Run object bolded and False makes it always not bolded, no matter what the style’s bold setting is. None will make the Run object just use the style’s bold setting\n"
   ]
  },
  {
   "cell_type": "raw",
   "id": "201596ed",
   "metadata": {},
   "source": [
    "10. How do you create a Document object for a new Word document?\n",
    "\n",
    "We can use the docx.Document() function.\n"
   ]
  },
  {
   "cell_type": "raw",
   "id": "276519ae",
   "metadata": {},
   "source": [
    "11. How do you add a paragraph with the text 'Hello, there!' to a Document object stored in a variable named doc?\n",
    "\n",
    "\n",
    "import docx\n",
    "doc = docx.Document()\n",
    "doc.add_paragraph('Hello there!')\n",
    "doc.save('hellothere.docx')\n",
    "     \n"
   ]
  },
  {
   "cell_type": "raw",
   "id": "93fc6e32",
   "metadata": {},
   "source": [
    "12. What integers represent the levels of headings available in Word documents?\n",
    "\n",
    "Integer from 0 to 4 represent the levels of heading available in word documents\n",
    "\n"
   ]
  }
 ],
 "metadata": {
  "kernelspec": {
   "display_name": "Python 3 (ipykernel)",
   "language": "python",
   "name": "python3"
  },
  "language_info": {
   "codemirror_mode": {
    "name": "ipython",
    "version": 3
   },
   "file_extension": ".py",
   "mimetype": "text/x-python",
   "name": "python",
   "nbconvert_exporter": "python",
   "pygments_lexer": "ipython3",
   "version": "3.9.13"
  }
 },
 "nbformat": 4,
 "nbformat_minor": 5
}
