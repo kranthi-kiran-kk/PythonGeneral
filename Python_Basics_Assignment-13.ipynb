{
 "cells": [
  {
   "cell_type": "raw",
   "id": "ce996566",
   "metadata": {},
   "source": [
    "1. What advantages do Excel spreadsheets have over CSV spreadsheets?\n",
    "\n",
    "Excel, spreadsheets can store values of data types other than strings;\n",
    "Data can be given  different fonts, sizes, or color settings; \n",
    "Cells can have varying widths and heights and can be merged with adjacent cells also can insert images and charts.\n"
   ]
  },
  {
   "cell_type": "raw",
   "id": "e3441e7c",
   "metadata": {},
   "source": [
    "2.What do you pass to csv.reader() and csv.writer() to create reader and writer objects?\n",
    "\n",
    "We need to pass a file object\n"
   ]
  },
  {
   "cell_type": "raw",
   "id": "edb4a72b",
   "metadata": {},
   "source": [
    "3. What modes do File objects for reader and writer objects need to be opened in?\n",
    "\n",
    "rb(read binary) for reader object\n",
    "wb(write binary) for writer object\n"
   ]
  },
  {
   "cell_type": "raw",
   "id": "b0815eaa",
   "metadata": {},
   "source": [
    "4. What method takes a list argument and writes it to a CSV file?\n",
    "\n",
    "writerow() method\n"
   ]
  },
  {
   "cell_type": "raw",
   "id": "4bf43d16",
   "metadata": {},
   "source": [
    "5. What do the keyword arguments delimiter and line terminator do?\n",
    "\n",
    "delimiter is used to seperate cells in a row where as line terminator is used to seperate rows \n"
   ]
  },
  {
   "cell_type": "raw",
   "id": "7d3de9ee",
   "metadata": {},
   "source": [
    "6. What function takes a string of JSON data and returns a Python data structure?\n",
    "\n",
    "json.loads()"
   ]
  },
  {
   "cell_type": "raw",
   "id": "c5e4929b",
   "metadata": {},
   "source": [
    "7. What function takes a Python data structure and returns a string of JSON data?\n",
    "\n",
    "json.dumps()"
   ]
  }
 ],
 "metadata": {
  "kernelspec": {
   "display_name": "Python 3 (ipykernel)",
   "language": "python",
   "name": "python3"
  },
  "language_info": {
   "codemirror_mode": {
    "name": "ipython",
    "version": 3
   },
   "file_extension": ".py",
   "mimetype": "text/x-python",
   "name": "python",
   "nbconvert_exporter": "python",
   "pygments_lexer": "ipython3",
   "version": "3.9.13"
  }
 },
 "nbformat": 4,
 "nbformat_minor": 5
}
