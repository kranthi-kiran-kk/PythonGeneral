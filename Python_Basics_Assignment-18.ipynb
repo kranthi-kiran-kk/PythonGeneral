{
 "cells": [
  {
   "cell_type": "markdown",
   "id": "5d61ce6a",
   "metadata": {},
   "source": [
    "1. Create a zoo.py file first. Define the hours() function, which prints the string 'Open 9-5 daily'. \n",
    "Then, use the interactive interpreter to import the zoo module and call its hours() function.\n"
   ]
  },
  {
   "cell_type": "code",
   "execution_count": null,
   "id": "432e0d6f",
   "metadata": {},
   "outputs": [],
   "source": [
    "import Zoo\n",
    "\n",
    "Zoo.hours()"
   ]
  },
  {
   "cell_type": "markdown",
   "id": "6ec55ed8",
   "metadata": {},
   "source": [
    "2. In the interactive interpreter, import the zoo module as menagerie and call its hours() function.\n"
   ]
  },
  {
   "cell_type": "code",
   "execution_count": null,
   "id": "56d3f2ea",
   "metadata": {},
   "outputs": [],
   "source": [
    "import Zoo as menagerie\n",
    "\n",
    "menagerie.hours()"
   ]
  },
  {
   "cell_type": "markdown",
   "id": "ca63eaf8",
   "metadata": {},
   "source": [
    "3. Using the interpreter, explicitly import and call the hours() function from zoo.\n"
   ]
  },
  {
   "cell_type": "code",
   "execution_count": null,
   "id": "88cf1975",
   "metadata": {},
   "outputs": [],
   "source": [
    "from Zoo import hours\n",
    "\n",
    "hours()"
   ]
  },
  {
   "cell_type": "markdown",
   "id": "b8f6cb0f",
   "metadata": {},
   "source": [
    "4. Import the hours() function as info and call it.\n"
   ]
  },
  {
   "cell_type": "code",
   "execution_count": null,
   "id": "bf73f1b4",
   "metadata": {},
   "outputs": [],
   "source": [
    "from Zoo import hours as info\n",
    "\n",
    "info()"
   ]
  },
  {
   "cell_type": "markdown",
   "id": "57114f4a",
   "metadata": {},
   "source": [
    "5. Create a plain dictionary with the key-value pairs 'a': 1, 'b': 2, and 'c': 3, and print it out.\n"
   ]
  },
  {
   "cell_type": "code",
   "execution_count": null,
   "id": "425fd1df",
   "metadata": {},
   "outputs": [],
   "source": [
    "plain_dict = {'a': 1, 'b': 2, 'c': 3}\n",
    "\n",
    "print(plain_dict)\n",
    "\n"
   ]
  },
  {
   "cell_type": "markdown",
   "id": "b55953ca",
   "metadata": {},
   "source": [
    "6.Make an OrderedDict called fancy from the same pairs listed in 5 and print it. \n",
    "Did it print in the same order as plain?\n"
   ]
  },
  {
   "cell_type": "code",
   "execution_count": null,
   "id": "ba3acf43",
   "metadata": {},
   "outputs": [],
   "source": [
    "from collections import OrderedDict\n",
    "fancy = OrderedDict(plain_dict)\n",
    "print(fancy)\n",
    "\n",
    "#In this case it is printing the same order but it might be different sometimes"
   ]
  },
  {
   "cell_type": "markdown",
   "id": "59d6c8a3",
   "metadata": {},
   "source": [
    "7. Make a default dictionary called dict_of_lists and pass it the argument list. \n",
    "Make the list dict_of_lists['a'] \n",
    "and append the value 'something for a' to it in one assignment. Print dict_of_lists['a'].\n",
    "\n"
   ]
  },
  {
   "cell_type": "code",
   "execution_count": null,
   "id": "9e993851",
   "metadata": {},
   "outputs": [],
   "source": [
    "dict_of_lists = { 'a' : []}\n",
    "\n",
    "dict_of_lists['a'].append('something for a')\n",
    "\n",
    "print(dict_of_lists['a'])"
   ]
  }
 ],
 "metadata": {
  "kernelspec": {
   "display_name": "Python 3 (ipykernel)",
   "language": "python",
   "name": "python3"
  },
  "language_info": {
   "codemirror_mode": {
    "name": "ipython",
    "version": 3
   },
   "file_extension": ".py",
   "mimetype": "text/x-python",
   "name": "python",
   "nbconvert_exporter": "python",
   "pygments_lexer": "ipython3",
   "version": "3.9.13"
  }
 },
 "nbformat": 4,
 "nbformat_minor": 5
}
