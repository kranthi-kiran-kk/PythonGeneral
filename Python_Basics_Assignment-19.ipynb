{
 "cells": [
  {
   "cell_type": "markdown",
   "id": "427cf889",
   "metadata": {},
   "source": [
    "1. Make a class called Thing with no contents and print it. Then, create an object called example from this class and also print it. Are the printed values the same or different?\n"
   ]
  },
  {
   "cell_type": "code",
   "execution_count": null,
   "id": "6ac0fa2d",
   "metadata": {},
   "outputs": [],
   "source": [
    "class Thing:\n",
    "    pass\n",
    "\n",
    "example = Thing()\n",
    "\n",
    "print(Thing)\n",
    "print(example)\n",
    "\n",
    "# Printed values are not same"
   ]
  },
  {
   "cell_type": "markdown",
   "id": "bfb76bee",
   "metadata": {},
   "source": [
    "2. Create a new class called Thing2 and add the value 'abc' to the letters class attribute. Letters should be printed.\n"
   ]
  },
  {
   "cell_type": "code",
   "execution_count": null,
   "id": "9e2324da",
   "metadata": {},
   "outputs": [],
   "source": [
    "class Thing2:\n",
    "    letters = 'abc'\n",
    "\n",
    "print(Thing2.letters)"
   ]
  },
  {
   "cell_type": "markdown",
   "id": "2d9627a3",
   "metadata": {},
   "source": [
    "3. Make yet another class called, of course, Thing3. This time, assign the value 'xyz' to an instance (object) attribute called letters. Print letters. Do you need to make an object from the class to do this?\n"
   ]
  },
  {
   "cell_type": "code",
   "execution_count": null,
   "id": "21848ca8",
   "metadata": {},
   "outputs": [],
   "source": [
    "class Thing3:\n",
    "    def __init__(self):\n",
    "        self.letters = 'abc'\n",
    "\n",
    "k = Thing3()\n",
    "print(k.letters)\n",
    "\n",
    "# we need to create an instance to print instance variables"
   ]
  },
  {
   "cell_type": "markdown",
   "id": "8dcf73c6",
   "metadata": {},
   "source": [
    "4. Create an Element class with the instance attributes name, symbol, and number. Create a class object with the values 'Hydrogen,' 'H,' and 1.\n"
   ]
  },
  {
   "cell_type": "code",
   "execution_count": null,
   "id": "6b68173f",
   "metadata": {},
   "outputs": [],
   "source": [
    "class Element:\n",
    "    def __init__(self,name,symbol,number):\n",
    "        self.name = name\n",
    "        self.symbol = symbol\n",
    "        self.number = number\n",
    "\n",
    "Hyd = Element('Hydrogen','H','1')\n",
    "\n",
    "print(Hyd.name,Hyd.number,Hyd.symbol)"
   ]
  },
  {
   "cell_type": "markdown",
   "id": "2e7ae8c4",
   "metadata": {},
   "source": [
    "5. Make a dictionary with these keys and values: 'name': 'Hydrogen', 'symbol': 'H', 'number': 1. Then, create an object called hydrogen from class Element using this dictionary.\n"
   ]
  },
  {
   "cell_type": "code",
   "execution_count": null,
   "id": "03f5d0b5",
   "metadata": {},
   "outputs": [],
   "source": [
    "K = {\n",
    "    'name': 'Hydrogen',\n",
    "    'symbol': 'H', \n",
    "    'number': 1\n",
    "}\n",
    "\n",
    "hydrogen = Element(K['name'],K['symbol'],K['number'])\n",
    "\n",
    "print(hydrogen.name,hydrogen.number,hydrogen.symbol)"
   ]
  },
  {
   "cell_type": "markdown",
   "id": "927fa56f",
   "metadata": {},
   "source": [
    "6. For the Element class, define a method called dump() that prints the values of the object’s attributes (name, symbol, and number). Create the hydrogen object from this new definition and use dump() to print its attributes.\n"
   ]
  },
  {
   "cell_type": "code",
   "execution_count": null,
   "id": "a9237d2b",
   "metadata": {},
   "outputs": [],
   "source": [
    "class Element:\n",
    "    def __init__(self,name,symbol,number):\n",
    "        self.name = name\n",
    "        self.symbol = symbol\n",
    "        self.number = number\n",
    "        \n",
    "    def dump(self):\n",
    "        print(self.name,self.number,self.symbol)\n",
    "\n",
    "Hydrogen = Element('Hydrogen','H','1')\n",
    "Hydrogen.dump()"
   ]
  },
  {
   "cell_type": "markdown",
   "id": "7f827e22",
   "metadata": {},
   "source": [
    "7. Call print(hydrogen). In the definition of Element, change the name of method dump to __str__, create a new hydrogen object, and call print(hydrogen) again.\n"
   ]
  },
  {
   "cell_type": "code",
   "execution_count": null,
   "id": "36e084f4",
   "metadata": {},
   "outputs": [],
   "source": [
    "print(Hydrogen)\n",
    "class Element:\n",
    "    def __init__(self,name,symbol,number):\n",
    "        self.name = name\n",
    "        self.symbol = symbol\n",
    "        self.number = number\n",
    "    \n",
    "    def str(self):\n",
    "        print(self.name,self.number,self.symbol)\n",
    "\n",
    "Hydrogen = Element('Hydrogen','H','1')\n",
    "print(Hydrogen)\n"
   ]
  },
  {
   "cell_type": "markdown",
   "id": "464107aa",
   "metadata": {},
   "source": [
    "8. Modify Element to make the attributes name, symbol, and number private. Define a getter property for each to return its value.\n"
   ]
  },
  {
   "cell_type": "code",
   "execution_count": null,
   "id": "6ee8f0b9",
   "metadata": {},
   "outputs": [],
   "source": [
    "class Element:\n",
    "    def __init__(self,name,symbol,number):\n",
    "        self.__name = name\n",
    "        self.__symbol = symbol\n",
    "        self.__number = number\n",
    "    \n",
    "    def get_name(self):\n",
    "        return self._Element__name\n",
    "    \n",
    "    def get_symbol(self):\n",
    "        return self._Element__symbol\n",
    "      \n",
    "    def get_number(self):\n",
    "        return self._Element__number\n",
    "\n",
    "Hydrogen = Element('Hydrogen','H','1')\n",
    "\n",
    "print(Hydrogen.get_name(),Hydrogen.get_number(),Hydrogen.get_symbol())\n"
   ]
  },
  {
   "cell_type": "markdown",
   "id": "78788182",
   "metadata": {},
   "source": [
    "9. Define three classes: Bear, Rabbit, and Octothorpe. For each, define only one method: eats(). This should return 'berries' (Bear), 'clover' (Rabbit), or 'campers' (Octothorpe). Create one object from each and print what it eats.\n"
   ]
  },
  {
   "cell_type": "code",
   "execution_count": null,
   "id": "af52440f",
   "metadata": {},
   "outputs": [],
   "source": [
    "class Bear:\n",
    "    def eats(self):\n",
    "        return 'berries'\n",
    "class Rabbit:\n",
    "    def eats(self):\n",
    "        return 'clover'\n",
    "class Octothrope:\n",
    "    def eats(self):\n",
    "        return 'campers'\n",
    "    \n",
    "B = Bear()\n",
    "R = Rabbit()\n",
    "O = Octothrope()\n",
    "\n",
    "print(f\"Bear eats {B.eats()}\")\n",
    "print(f\"Rabbit eats {R.eats()}\")\n",
    "print(f\"Octothrope eats {O.eats()}\")\n"
   ]
  },
  {
   "cell_type": "markdown",
   "id": "a1878aa8",
   "metadata": {},
   "source": [
    "10. Define these classes: Laser, Claw, and SmartPhone. Each has only one method: does(). \n",
    "This returns 'disintegrate' (Laser), \n",
    "'crush' (Claw), or \n",
    "'ring' (SmartPhone). \n",
    "Then, define the class Robot that has one instance (object) of each of these. Define a does() method for the Robot that prints what its component objects do.\n",
    "\n"
   ]
  },
  {
   "cell_type": "code",
   "execution_count": null,
   "id": "b43e9ee8",
   "metadata": {},
   "outputs": [],
   "source": [
    "class Laser:\n",
    "    def does(self):\n",
    "        return 'disintegrate'\n",
    "    \n",
    "class Claw:\n",
    "    def does(self):\n",
    "        return 'crush'\n",
    "    \n",
    "class SmartPhone:\n",
    "    def does(self):\n",
    "        return 'ring'\n",
    "    \n",
    "class Robot:\n",
    "    \n",
    "    L = Laser()\n",
    "    C = Claw()\n",
    "    S = SmartPhone()\n",
    "    \n",
    "    def does(self):\n",
    "        print(f\"Laser does {self.L.does()}\")\n",
    "        print(f\"Claw does {self.C.does()}\")\n",
    "        print(f\"SmartPhone does {self.S.does()}\")\n",
    "    \n",
    "        \n",
    "\n",
    "R = Robot()\n",
    "R.does()"
   ]
  }
 ],
 "metadata": {
  "kernelspec": {
   "display_name": "Python 3 (ipykernel)",
   "language": "python",
   "name": "python3"
  },
  "language_info": {
   "codemirror_mode": {
    "name": "ipython",
    "version": 3
   },
   "file_extension": ".py",
   "mimetype": "text/x-python",
   "name": "python",
   "nbconvert_exporter": "python",
   "pygments_lexer": "ipython3",
   "version": "3.9.13"
  }
 },
 "nbformat": 4,
 "nbformat_minor": 5
}
