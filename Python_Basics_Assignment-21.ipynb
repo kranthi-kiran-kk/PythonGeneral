{
 "cells": [
  {
   "cell_type": "markdown",
   "id": "035f9f1c",
   "metadata": {},
   "source": [
    "1. Add the current date to the text file today.txt as a string.\n"
   ]
  },
  {
   "cell_type": "code",
   "execution_count": null,
   "id": "ce18a01d",
   "metadata": {},
   "outputs": [],
   "source": [
    "from datetime import date\n",
    "\n",
    "today = str(date.today())\n",
    "\n",
    "file = open(\"today.txt\",\"w\")\n",
    "file.write(today)\n",
    "file.close()"
   ]
  },
  {
   "cell_type": "markdown",
   "id": "889b6b0b",
   "metadata": {},
   "source": [
    "2. Read the text file today.txt into the string today_string\n"
   ]
  },
  {
   "cell_type": "code",
   "execution_count": null,
   "id": "d057bbf1",
   "metadata": {},
   "outputs": [],
   "source": [
    "file = open(\"today.txt\",'r')\n",
    "today_string = file.read()\n",
    "file.close()\n",
    "print(today_string)"
   ]
  },
  {
   "cell_type": "markdown",
   "id": "42f30a65",
   "metadata": {},
   "source": [
    "3. Parse the date from today_string.\n"
   ]
  },
  {
   "cell_type": "code",
   "execution_count": null,
   "id": "b28f0194",
   "metadata": {},
   "outputs": [],
   "source": [
    "date = today_string.split('-')[2]\n",
    "print(date)"
   ]
  },
  {
   "cell_type": "markdown",
   "id": "b33b81ff",
   "metadata": {},
   "source": [
    "4. List the files in your current directory\n"
   ]
  },
  {
   "cell_type": "code",
   "execution_count": null,
   "id": "05fc30ae",
   "metadata": {},
   "outputs": [],
   "source": [
    "import os\n",
    "\n",
    "path = os.getcwd()\n",
    "print(\"Current Directory\", path)\n",
    "\n",
    "os.listdir(path)"
   ]
  },
  {
   "cell_type": "markdown",
   "id": "ec1cd6dd",
   "metadata": {},
   "source": [
    "5. Create a list of all of the files in your parent directory (minimum five files should be available).\n"
   ]
  },
  {
   "cell_type": "code",
   "execution_count": null,
   "id": "8836b6b5",
   "metadata": {},
   "outputs": [],
   "source": [
    "parent = os.path.dirname(path)\n",
    "print(\"Parent directory\", parent)\n",
    "\n",
    "os.listdir(parent)"
   ]
  },
  {
   "cell_type": "markdown",
   "id": "27e9ed7a",
   "metadata": {},
   "source": [
    "6. Use multiprocessing to create three separate processes. Make each one wait a random number of seconds between one and five, print the current time, and then exit.\n"
   ]
  },
  {
   "cell_type": "code",
   "execution_count": null,
   "id": "d7187942",
   "metadata": {},
   "outputs": [],
   "source": [
    "import multiprocessing,time,datetime\n",
    "import random\n",
    "\n",
    "def process1():\n",
    "    t1 = random.randint(1,5)\n",
    "    print(\"Waiting for \"+str(t1)+\" seconds\")\n",
    "    time.sleep(t1)\n",
    "    print(f\"current time is {datetime.datetime.now()}\")\n",
    "    \n",
    "def process2():\n",
    "    t2 = random.randint(1,5)\n",
    "    print(\"Waiting for \"+str(t2)+\" seconds\")\n",
    "    time.sleep(t2)\n",
    "    print(f\"current time is {datetime.datetime.now()}\")\n",
    "    \n",
    "def process3():\n",
    "    t3 = random.randint(1,5)\n",
    "    print(\"Waiting for \"+str(t3)+\" seconds\")\n",
    "    time.sleep(t3)\n",
    "    print(f\"current time is {datetime.datetime.now()}\")\n",
    "    \n",
    "process1 = process1()\n",
    "process2 = process2()\n",
    "process3 = process3()\n",
    "\n",
    "start = time.time()\n",
    "\n",
    "print(datetime.datetime.now())\n",
    "  \n",
    "p1 = multiprocessing.Process(target=process1)\n",
    "p2 = multiprocessing.Process(target=process2)\n",
    "p3 = multiprocessing.Process(target=process3)\n",
    "\n",
    "p1.start()\n",
    "p2.start()\n",
    "p3.start()\n",
    "\n",
    "p1.join()\n",
    "p2.join()\n",
    "p3.join()\n",
    "\n",
    "end = time.time()\n",
    "    \n",
    "\n",
    "print(\"It takes \" +str(end-start)+\" seconds\")"
   ]
  },
  {
   "cell_type": "markdown",
   "id": "15c1e394",
   "metadata": {},
   "source": [
    "7. Create a date object of your day of birth.\n"
   ]
  },
  {
   "cell_type": "code",
   "execution_count": null,
   "id": "219db203",
   "metadata": {},
   "outputs": [],
   "source": [
    "import datetime as d\n",
    "\n",
    "birth_day = d.datetime(1996,10,31)\n",
    "\n",
    "print(birth_day)"
   ]
  },
  {
   "cell_type": "markdown",
   "id": "7b1ac73e",
   "metadata": {},
   "source": [
    "8. What day of the week was your day of birth?\n",
    "\n"
   ]
  },
  {
   "cell_type": "code",
   "execution_count": null,
   "id": "10dcfb9f",
   "metadata": {},
   "outputs": [],
   "source": [
    "print('day Name:', birth_day.strftime('%A'))\n"
   ]
  },
  {
   "cell_type": "markdown",
   "id": "e7740e21",
   "metadata": {},
   "source": [
    "9. When will you be (or when were you) 10,000 days old?\n",
    "\n",
    "\n"
   ]
  },
  {
   "cell_type": "code",
   "execution_count": null,
   "id": "fd188bfa",
   "metadata": {},
   "outputs": [],
   "source": [
    "\n",
    "def old(days):\n",
    "    year = int(input(\"Enter your year of Birth - yyyy - \"))\n",
    "    month = int(input(\"Enter your month of Birth - mm - \"))\n",
    "    day = int(input(\"Enter your day of Birth - dd - \"))\n",
    "    #return year,month,day\n",
    "    try:\n",
    "        import datetime\n",
    "        dayZero = datetime.datetime(year,month,day)\n",
    "        today = datetime.datetime.now()\n",
    "        days_till_now = (today - dayZero).days\n",
    "        #print(days_till_now)\n",
    "        if days_till_now < days:\n",
    "            days_remaining = (days-days_till_now)\n",
    "            Enddate = today + datetime.timedelta(days=days_remaining)\n",
    "            print(f\"You will turn {days} days old on {Enddate}\")\n",
    "        elif days_till_now > days:\n",
    "            days_exceeded = (days_till_now-days)\n",
    "            Enddate = today - datetime.timedelta(days=days_exceeded)\n",
    "            print(f\"You have turned {days} days old on {Enddate}\")\n",
    "        else:\n",
    "            print(today)\n",
    "            print(f\"You will turn {days} days old  {today}\")\n",
    "            \n",
    "    except Exception as e:\n",
    "        print(e)\n",
    "        old()\n",
    "\n",
    "#Use this function to know we can turn into required number of days\n",
    "\n",
    "old(10000)"
   ]
  }
 ],
 "metadata": {
  "kernelspec": {
   "display_name": "Python 3 (ipykernel)",
   "language": "python",
   "name": "python3"
  },
  "language_info": {
   "codemirror_mode": {
    "name": "ipython",
    "version": 3
   },
   "file_extension": ".py",
   "mimetype": "text/x-python",
   "name": "python",
   "nbconvert_exporter": "python",
   "pygments_lexer": "ipython3",
   "version": "3.9.13"
  }
 },
 "nbformat": 4,
 "nbformat_minor": 5
}
