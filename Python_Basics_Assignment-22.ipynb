{
 "cells": [
  {
   "cell_type": "code",
   "execution_count": null,
   "id": "30c43aee",
   "metadata": {},
   "outputs": [],
   "source": [
    "1. What is the result of the code, and explain?\n",
    "\n",
    "\n",
    ">>> X = 'iNeuron'\n",
    ">>> def func():\n",
    "print(X)\n",
    "\n",
    ">>> func()\n"
   ]
  },
  {
   "cell_type": "code",
   "execution_count": null,
   "id": "e325ae83",
   "metadata": {},
   "outputs": [],
   "source": [
    "The aove code will print the variable X(value assigned to variable X)"
   ]
  },
  {
   "cell_type": "code",
   "execution_count": null,
   "id": "681b57d3",
   "metadata": {},
   "outputs": [],
   "source": [
    "2. What is the result of the code, and explain?\n",
    "\n",
    "\n",
    ">>> X = 'iNeuron'\n",
    ">>> def func():\n",
    "X = 'NI!'\n",
    "\n",
    "\n",
    ">>> func()\n",
    ">>> print(X)\n"
   ]
  },
  {
   "cell_type": "code",
   "execution_count": null,
   "id": "17e1b15f",
   "metadata": {},
   "outputs": [],
   "source": [
    "This code will print iNeuron as X is defined as global variable\n"
   ]
  },
  {
   "cell_type": "code",
   "execution_count": null,
   "id": "e9fec5e2",
   "metadata": {},
   "outputs": [],
   "source": [
    "3. What does this code print, and why?\n",
    "\n",
    "\n",
    ">>> X = 'iNeuron'\n",
    ">>> def func():\n",
    "X = 'NI'\n",
    "print(X)\n",
    "\n",
    "\n",
    ">>> func()\n",
    ">>> print(X)\n"
   ]
  },
  {
   "cell_type": "code",
   "execution_count": null,
   "id": "81529c10",
   "metadata": {},
   "outputs": [],
   "source": [
    "This code will print as shown below\n",
    "\n",
    "NI\n",
    "iNeuron\n",
    "\n",
    "this is because fnction is called first and it has X defined as NI, after that we are printing X outside the function which \n",
    "takes the value iNeuron"
   ]
  },
  {
   "cell_type": "code",
   "execution_count": null,
   "id": "a71697f9",
   "metadata": {},
   "outputs": [],
   "source": [
    "4. What output does this code produce? Why?\n",
    "\n",
    "\n",
    ">>> X = 'iNeuron'\n",
    ">>> def func():\n",
    "global X\n",
    "X = 'NI'\n",
    "\n",
    "\n",
    ">>> func()\n",
    ">>> print(X)\n"
   ]
  },
  {
   "cell_type": "code",
   "execution_count": null,
   "id": "8e5bdd9b",
   "metadata": {},
   "outputs": [],
   "source": [
    "This code will print NI as when we call the function, inside the function we are reffering the global variable\n",
    "and assigning its value as'NI' hence it will get printed"
   ]
  },
  {
   "cell_type": "code",
   "execution_count": null,
   "id": "f4867534",
   "metadata": {},
   "outputs": [],
   "source": [
    "5. What about this code—what’s the output, and why?\n",
    "\n",
    "\n",
    ">>> X = 'iNeuron'\n",
    ">>> def func():\n",
    "X = 'NI'\n",
    "def nested():\n",
    "print(X)\n",
    "nested()\n",
    "\n",
    "\n",
    ">>> func()\n",
    ">>> X\n",
    "\n",
    "\n"
   ]
  },
  {
   "cell_type": "code",
   "execution_count": null,
   "id": "85269478",
   "metadata": {},
   "outputs": [],
   "source": [
    "if we print the value of X, we will get it's value as 'iNeuron' as we are not changing the global variable \n",
    "in any of the function\n"
   ]
  },
  {
   "cell_type": "code",
   "execution_count": null,
   "id": "b2b60052",
   "metadata": {},
   "outputs": [],
   "source": [
    "6. How about this code: what is its output in Python 3, and explain?\n",
    "\n",
    "\n",
    ">>> def func():\n",
    "X = 'NI'\n",
    "def nested():\n",
    "nonlocal X\n",
    "X = 'Spam'\n",
    "nested()\n",
    "print(X)\n",
    "\n",
    "\n",
    ">>> func()\n"
   ]
  },
  {
   "cell_type": "code",
   "execution_count": null,
   "id": "7ff397ff",
   "metadata": {},
   "outputs": [],
   "source": [
    "This code will print X as spam as we used the keyword nonlocal which will refer to the X present in the function and \n",
    "doe not belong to inner function\n",
    "\n"
   ]
  }
 ],
 "metadata": {
  "kernelspec": {
   "display_name": "Python 3 (ipykernel)",
   "language": "python",
   "name": "python3"
  },
  "language_info": {
   "codemirror_mode": {
    "name": "ipython",
    "version": 3
   },
   "file_extension": ".py",
   "mimetype": "text/x-python",
   "name": "python",
   "nbconvert_exporter": "python",
   "pygments_lexer": "ipython3",
   "version": "3.9.13"
  }
 },
 "nbformat": 4,
 "nbformat_minor": 5
}
