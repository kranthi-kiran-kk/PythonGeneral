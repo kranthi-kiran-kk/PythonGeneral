{
 "cells": [
  {
   "cell_type": "code",
   "execution_count": null,
   "id": "962036fa",
   "metadata": {},
   "outputs": [],
   "source": [
    "1) What is the difference between enclosing a list comprehension in square brackets and parentheses?\n",
    "\n",
    "When list comprehension enclosed in paranthesis it becomes a generator exprseeion"
   ]
  },
  {
   "cell_type": "code",
   "execution_count": null,
   "id": "1e679bf5",
   "metadata": {},
   "outputs": [],
   "source": [
    "2) What is the relationship between generators and iterators?\n",
    "\n",
    "Both of these follow lazy evaluation and wont store entire sequence in memory. We use iter() keyword to create iterators\n",
    "where as we use yield function to create generators.\n"
   ]
  },
  {
   "cell_type": "code",
   "execution_count": null,
   "id": "3335a5b7",
   "metadata": {},
   "outputs": [],
   "source": [
    "3) What are the signs that a function is a generator function?\n",
    "\n",
    "If the function contains yield, then it can be considered as generator function"
   ]
  },
  {
   "cell_type": "code",
   "execution_count": null,
   "id": "ffaab29d",
   "metadata": {},
   "outputs": [],
   "source": [
    "4) What is the purpose of a yield statement?\n",
    "\n",
    "The yield statement returns a generator object to the one who calls the function which contains yield, \n",
    "instead of simply returning a value\n"
   ]
  },
  {
   "cell_type": "code",
   "execution_count": null,
   "id": "2c81a4b0",
   "metadata": {},
   "outputs": [],
   "source": [
    "5) What is the relationship between map calls and list comprehensions? Make a comparison and contrast between the two.\n",
    "\n",
    "Both of these can be used to pass iteables to reuired computation or function\n",
    "\n",
    "List comprehension is more concise and easier to read as compared to map.\n",
    "List comprehension are used when a list of results is required as map only returns a map object and does not return any list.\n",
    "List comprehension is faster than map when we need to evaluate expressions that are too long or complicated to express\n",
    "Map is faster in case of calling an already defined function (as no lambda is required).\n"
   ]
  }
 ],
 "metadata": {
  "kernelspec": {
   "display_name": "Python 3 (ipykernel)",
   "language": "python",
   "name": "python3"
  },
  "language_info": {
   "codemirror_mode": {
    "name": "ipython",
    "version": 3
   },
   "file_extension": ".py",
   "mimetype": "text/x-python",
   "name": "python",
   "nbconvert_exporter": "python",
   "pygments_lexer": "ipython3",
   "version": "3.9.13"
  }
 },
 "nbformat": 4,
 "nbformat_minor": 5
}
